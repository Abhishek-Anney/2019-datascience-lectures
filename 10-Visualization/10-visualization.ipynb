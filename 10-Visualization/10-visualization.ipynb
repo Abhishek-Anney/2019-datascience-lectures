{
 "cells": [
  {
   "cell_type": "markdown",
   "metadata": {},
   "source": [
    "# Introduction to Data Science - Lecture 10 - Visualization\n",
    "*COMP 5369 / MATH 4100, University of Utah, http://datasciencecourse.net/*\n",
    "\n",
    "To be frank: the Python data visualization environment is a MESS. It remindes me of this: \n",
    "\n",
    "\n",
    "![](standards.png)\n",
    "\n",
    "### Matplotlib & Extensions\n",
    "\n",
    " * [Matplotlib](https://matplotlib.org/) - the elephant in the room\n",
    " * [Pandas Visualization](https://pandas.pydata.org/pandas-docs/stable/visualization.html) - based on Matplotlib\n",
    " * [Seaborn](https://seaborn.pydata.org/) - based on Matplotlib, higher-level\n",
    " * [ggplot](http://ggplot.yhathq.com/) - based on the popular R plotting library, some similarites, uses Matplotlib.\n",
    " \n",
    "These tools generally can be used to create figures independent of Jupyter. \n",
    " \n",
    "### Web-based Vis tools\n",
    "\n",
    " * [Bokeh](https://bokeh.pydata.org/en/latest/)\n",
    " * [Plotly](https://plot.ly/python/)\n",
    " * [Altair](https://github.com/altair-viz/altair), based on [Vega](https://vega.github.io/vega/) \n",
    " * [PdVega](https://jakevdp.github.io/pdvega/), based on Vega, integrated with pandas dataframes.\n",
    " \n",
    " \n",
    "These tools mostly rely on Jupyter running in your browser and use a JavaScript based language in the backend. \n",
    "\n",
    "As of February 2019, it seems like Plotly is a serios contender and Altair is gaining traction in the interactive space.  \n",
    "\n",
    "There are also some domain specific libraries, e.g., for maps and for networks, that we will cover at a later point. \n",
    " \n",
    " \n",
    "There are also [many](https://www.dataquest.io/blog/python-data-visualization-libraries/) [blog](https://codeburst.io/overview-of-python-data-visualization-tools-e32e1f716d10) [posts](https://lisacharlotterost.github.io/2016/05/17/one-chart-code/) [comparing](https://blog.modeanalytics.com/python-data-visualization-libraries/) various data visualization libraries.\n",
    "\n",
    "Generally speaking, there are \n",
    " * **plotting libraries** that have pre-made charts, and \n",
    " * **drawing libraries** that allow you to freely express anything you can imagine. \n",
    " \n",
    "We will mainly cover the former, but as visualization reseaerchers we typically rely on tools that enable as much expressivity as possible, such as [D3](https://d3js.org/) or [WebGL](https://developer.mozilla.org/en-US/docs/Web/API/WebGL_API).\n",
    "\n",
    "We will start of with basic Matplotlib, explore the build-in pandas library, and then look at some more advanced tools."
   ]
  },
  {
   "cell_type": "markdown",
   "metadata": {},
   "source": [
    "## Matplotlib\n",
    "\n",
    "Matplotlib is a project started in 2002 and is inspired by MATLAB plotting. "
   ]
  },
  {
   "cell_type": "code",
   "execution_count": null,
   "metadata": {},
   "outputs": [],
   "source": [
    "import pandas as pd\n",
    "import numpy as np\n",
    "# import matplotlib\n",
    "import matplotlib.pyplot as plt\n",
    "\n",
    "# remember, code after a % is ipython specific instructions\n",
    "# this command tells Jupyter/ipython that we want to create the visualizations\n",
    "# inline in this notebook instead of as files to save.\n",
    "%matplotlib inline\n",
    "\n",
    "# here we run a simple plot command to create a line chart\n",
    "plt.plot([1, 3, 2])"
   ]
  },
  {
   "cell_type": "markdown",
   "metadata": {},
   "source": [
    "The `.plot` command uses a [`figure`](https://matplotlib.org/api/_as_gen/matplotlib.figure.Figure.html#matplotlib.figure.Figure) to plot in. If no figure has been defined, it will automatically create one. If there is already a figure, it will plot to the latest figure. \n",
    "\n",
    "Here we create a figure manually: "
   ]
  },
  {
   "cell_type": "code",
   "execution_count": null,
   "metadata": {},
   "outputs": [],
   "source": [
    "%matplotlib inline\n",
    "\n",
    "# we create a figure with size 10 by 10 inches\n",
    "fig = plt.figure(figsize=(10, 10))"
   ]
  },
  {
   "cell_type": "markdown",
   "metadata": {},
   "source": [
    "The figure by itself doesn't plot anyhing. We have to add a [`subplot`](https://matplotlib.org/api/_as_gen/matplotlib.figure.Figure.html#matplotlib.figure.Figure.add_subplot) to it. "
   ]
  },
  {
   "cell_type": "code",
   "execution_count": null,
   "metadata": {},
   "outputs": [],
   "source": [
    "%matplotlib inline\n",
    "# figsize defines the size of the plot in inches - 10 wide by 6 high here. \n",
    "fig = plt.figure(figsize=(10, 6))\n",
    "# add a suplot to an grid 1x1, return the 1st figure\n",
    "my_plot = fig.add_subplot(1,1,1)\n",
    "# plotting a data array\n",
    "my_plot.plot([1,3,2])"
   ]
  },
  {
   "cell_type": "markdown",
   "metadata": {},
   "source": [
    "Here we add a title and axis labels: "
   ]
  },
  {
   "cell_type": "code",
   "execution_count": null,
   "metadata": {},
   "outputs": [],
   "source": [
    "fig = plt.figure(figsize=(10, 8))\n",
    "my_plot = fig.add_subplot(1,1,1)\n",
    "my_plot.plot([1,3,2])\n",
    "fig.suptitle('My Line Chart', fontsize=12, fontweight='bold')\n",
    "my_plot.set_xlabel(\"My sequence\")\n",
    "my_plot.set_ylabel(\"My values\")\n",
    "my_plot.plot([1,3,2])"
   ]
  },
  {
   "cell_type": "markdown",
   "metadata": {},
   "source": [
    "Now let's create a figure with multiple subplots:"
   ]
  },
  {
   "cell_type": "code",
   "execution_count": null,
   "metadata": {},
   "outputs": [],
   "source": [
    "fig = plt.figure(figsize=(10, 8))\n",
    "# create a subplot in a 2 by 2 grid, \n",
    "# return the subplot at position specified in third parameter\n",
    "# these subplots are often called \"axes\"\n",
    "sub_fig_1 = fig.add_subplot(2,2,1)\n",
    "sub_fig_2 = fig.add_subplot(2,2,2)\n",
    "sub_fig_3 = fig.add_subplot(2,2,3)\n",
    "\n",
    "# this will plot to the last figure used, k-- is a style option for black dashed\n",
    "# you shouldn't do that but rather use explicit subplot references if you have them\n",
    "plt.plot([3, 4, 6, 2], \"k--\")\n",
    "\n",
    "# here is how we can plot explicitly to a subfigure\n",
    "sub_fig_1.plot(range(0,10))\n",
    "\n",
    "sub_fig_2.plot(np.random.randn(50).cumsum())"
   ]
  },
  {
   "cell_type": "markdown",
   "metadata": {},
   "source": [
    "We can use the [`subplots`](https://matplotlib.org/api/_as_gen/matplotlib.figure.Figure.html?highlight=subplots#matplotlib.figure.Figure.subplots) shorthand to create multiple subplots that we can access form an array. \n",
    "\n",
    "We're also trying out a couple of different visualziation techniques: "
   ]
  },
  {
   "cell_type": "markdown",
   "metadata": {},
   "source": [
    " * [Scatterplot](https://matplotlib.org/api/_as_gen/matplotlib.pyplot.scatter.html#matplotlib.pyplot.scatter)  \n",
    " * [Vertical Bar Chart](https://matplotlib.org/api/_as_gen/matplotlib.pyplot.bar.html#matplotlib.pyplot.bar)\n",
    " * [Horizontal Bar Chart](https://matplotlib.org/api/_as_gen/matplotlib.pyplot.barh.html#matplotlib.pyplot.barh)\n",
    " * [Boxplot](https://matplotlib.org/api/_as_gen/matplotlib.pyplot.boxplot.html#matplotlib.pyplot.boxplot)\n",
    " * [Histogram](https://matplotlib.org/api/_as_gen/matplotlib.pyplot.hist.html?highlight=hist#matplotlib.pyplot.hist)\n",
    " * [Pie Chart](https://matplotlib.org/api/_as_gen/matplotlib.pyplot.pie.html#matplotlib.pyplot.pie)"
   ]
  },
  {
   "cell_type": "code",
   "execution_count": null,
   "metadata": {},
   "outputs": [],
   "source": [
    "# a function because we'll reuse these later\n",
    "def sample_figures():\n",
    "    # define a figure with subfigures in 2 rows and 3 columns\n",
    "    fig, subfigs = plt.subplots(2, 3, figsize=(9, 6))\n",
    "\n",
    "    # Scatterplot. Pass two arrays for your x and y values.\n",
    "    subfigs[0,0].scatter(range(0,10),range(10,0,-1))\n",
    "    \n",
    "    # Bar Chart. First array is x position, second is value (height) of data\n",
    "    subfigs[0,1].bar([1, 2, 3], [4, 2, 3])\n",
    "    \n",
    "    # Horizontal Bar Chart. \n",
    "    # First array contains y positions (expressed as range), second contains data values (lengths of bars), \n",
    "    # tick_label is an array of labels\n",
    "    subfigs[0,2].barh(range(0,4), [9, 7, 2, 3], tick_label=[\"a\", \"b\", \"c\", \"d\"])\n",
    "    \n",
    "    # Box Plots visualizing two distributions with 100 items each. \n",
    "    subfigs[1,0].boxplot([np.random.randn(100), np.random.randn(100)])\n",
    "    \n",
    "    # A Histogram visualizes a distribution. It takes one array, we can specify bins as second parameter 'bins'\n",
    "    subfigs[1,1].hist(np.random.randn(100))\n",
    "    \n",
    "    # You can also (but maybe you shouldn't) do pie charts. First array is shares of total. \n",
    "    # labels in the same order of data. autopct defines how to format the numerical labels \n",
    "    # (here, one digit after comma)\n",
    "    subfigs[1,2].pie([1, 5, 10], labels=[\"blackberry\", \"ios\", \"android\"], autopct='%1.1f%%')\n",
    "\n",
    "sample_figures()"
   ]
  },
  {
   "cell_type": "markdown",
   "metadata": {},
   "source": [
    "### Heat Maps\n",
    "\n",
    "Heat maps encoded matrix/tabular data using color. There are two ways to implement heatmaps in Matplotlib:\n",
    "\n",
    " * [pcolor](https://matplotlib.org/devdocs/api/_as_gen/matplotlib.pyplot.pcolor.html)\n",
    " * [imshow](https://matplotlib.org/api/_as_gen/matplotlib.pyplot.imshow.html)\n",
    "\n",
    "imshow is used to display images (which are just matrices). In practice, imshow and pcolor differ mainly in their coordinate system: the origin of imshow is at the top left (as is common for images), the origin of pcolor is at the bottom left.\n",
    "\n",
    "For heatmaps, we need a [color map](https://matplotlib.org/tutorials/colors/colormaps.html). Matplotlib has many color maps baked in, also those from http://colorbrewer.org."
   ]
  },
  {
   "cell_type": "code",
   "execution_count": null,
   "metadata": {},
   "outputs": [],
   "source": [
    "# just a helper function to create some 2D data based on a gaussian kernel.\n",
    "def gkern(l=5, sig=1.):\n",
    "    \"\"\"\n",
    "    creates gaussian kernel with side length l and a sigma of sig\n",
    "    \"\"\"\n",
    "    ax = np.arange(-l // 2 + 1., l // 2 + 1.)\n",
    "    xx, yy = np.meshgrid(ax, ax)\n",
    "    kernel = np.exp(-(xx**2 + yy**2) / (2. * sig**2))\n",
    "    return kernel / np.sum(kernel)\n",
    "\n",
    "kernel = gkern(20, 5)"
   ]
  },
  {
   "cell_type": "code",
   "execution_count": null,
   "metadata": {},
   "outputs": [],
   "source": [
    "plt.style.use('default')\n",
    "# select a blue color map\n",
    "heatmap = plt.pcolor(kernel, cmap=plt.cm.Blues)\n",
    "# plot the legend on the side\n",
    "plt.colorbar(heatmap)"
   ]
  },
  {
   "cell_type": "code",
   "execution_count": null,
   "metadata": {},
   "outputs": [],
   "source": [
    "hm = plt.imshow(kernel, cmap='hot')\n",
    "plt.colorbar(hm)"
   ]
  },
  {
   "cell_type": "code",
   "execution_count": null,
   "metadata": {},
   "outputs": [],
   "source": [
    "# a diverging color map from Color Brewer\n",
    "heatmap = plt.pcolor(kernel, cmap=plt.cm.PuBuGn)\n",
    "plt.colorbar(heatmap)"
   ]
  },
  {
   "cell_type": "markdown",
   "metadata": {},
   "source": [
    "### Styling\n",
    "\n",
    "Matplotlib has [different styles](https://matplotlib.org/devdocs/gallery/style_sheets/style_sheets_reference.html) that we can apply globally.\n",
    "\n",
    "Here are a couple of examples:"
   ]
  },
  {
   "cell_type": "code",
   "execution_count": null,
   "metadata": {},
   "outputs": [],
   "source": [
    "# ggplot style based on the popular R plotting library \n",
    "# we will be using this as a default in many lectures\n",
    "plt.style.use('ggplot')\n",
    "sample_figures()"
   ]
  },
  {
   "cell_type": "code",
   "execution_count": null,
   "metadata": {},
   "outputs": [],
   "source": [
    "# style based on the seaborn library\n",
    "#plt.style.use('seaborn')\n",
    "#sample_figures()"
   ]
  },
  {
   "cell_type": "code",
   "execution_count": null,
   "metadata": {},
   "outputs": [],
   "source": [
    "plt.style.use('grayscale')\n",
    "sample_figures()"
   ]
  },
  {
   "cell_type": "markdown",
   "metadata": {},
   "source": [
    "## Plotting with Pandas\n",
    "\n",
    "Pandas has good [built-in plotting capabilities](http://pandas.pydata.org/pandas-docs/version/0.15.0/visualization.html). We've seen some already in previous lectures and in the homeworks."
   ]
  },
  {
   "cell_type": "markdown",
   "metadata": {},
   "source": [
    "We're going to use the movies dataset to demonstrate plots and start of by reproducing some of the work you did for your homework: "
   ]
  },
  {
   "cell_type": "code",
   "execution_count": null,
   "metadata": {},
   "outputs": [],
   "source": [
    "plt.style.use('ggplot')\n",
    "pd_movies = pd.read_csv('movies.csv')\n",
    "pd_movies.head()"
   ]
  },
  {
   "cell_type": "markdown",
   "metadata": {},
   "source": [
    "### Line Chart"
   ]
  },
  {
   "cell_type": "code",
   "execution_count": null,
   "metadata": {},
   "outputs": [],
   "source": [
    "# subset to major movies\n",
    "major_movies = pd_movies[pd_movies['votes'] >= 500]\n",
    "# show yearly number of moves\n",
    "yearly_movies = major_movies[\"year\"].value_counts().sort_index()"
   ]
  },
  {
   "cell_type": "code",
   "execution_count": null,
   "metadata": {},
   "outputs": [],
   "source": [
    "yearly_movies.plot()"
   ]
  },
  {
   "cell_type": "markdown",
   "metadata": {},
   "source": [
    "### Histogram"
   ]
  },
  {
   "cell_type": "code",
   "execution_count": null,
   "metadata": {},
   "outputs": [],
   "source": [
    "major_movies.hist(\"rating\")"
   ]
  },
  {
   "cell_type": "markdown",
   "metadata": {},
   "source": [
    "### Bar Chart\n",
    "\n",
    "We'll show a bar chart for the first 10 movies"
   ]
  },
  {
   "cell_type": "code",
   "execution_count": null,
   "metadata": {},
   "outputs": [],
   "source": [
    "subset = major_movies.set_index(\"title\")\n",
    "subset = subset.iloc[0:10]\n",
    "subset"
   ]
  },
  {
   "cell_type": "code",
   "execution_count": null,
   "metadata": {},
   "outputs": [],
   "source": [
    "subset[\"rating\"].plot(kind=\"bar\")"
   ]
  },
  {
   "cell_type": "markdown",
   "metadata": {},
   "source": [
    "We can create grouped bar charts. The values should be on the same axis."
   ]
  },
  {
   "cell_type": "code",
   "execution_count": null,
   "metadata": {},
   "outputs": [],
   "source": [
    "pulse = pd.DataFrame({\n",
    "        \"BP1\":[140, 120, 110],\n",
    "        \"BP2\":[150, 130, 110]\n",
    "    })\n",
    "pulse.index = [\"Robin\", \"Katie\", \"Chuck\"]\n",
    "\n",
    "pulse.plot(kind=\"barh\")"
   ]
  },
  {
   "cell_type": "markdown",
   "metadata": {},
   "source": [
    "Equally, we can create stacked bar charts: "
   ]
  },
  {
   "cell_type": "code",
   "execution_count": null,
   "metadata": {},
   "outputs": [],
   "source": [
    "pulse.plot(kind=\"barh\", stacked=\"True\")"
   ]
  },
  {
   "cell_type": "markdown",
   "metadata": {},
   "source": [
    "### Scatterplot\n",
    "\n",
    "We can plot a scatterplot, comparing ratings of movies over time:"
   ]
  },
  {
   "cell_type": "code",
   "execution_count": null,
   "metadata": {},
   "outputs": [],
   "source": [
    "plt.figure(figsize=(10, 10))\n",
    "major_movies.plot.scatter(\"year\", \"rating\", figsize=(15, 10))"
   ]
  },
  {
   "cell_type": "markdown",
   "metadata": {},
   "source": [
    "However, here we might overplot some points in more recent years. We can fix that with an alpha value:"
   ]
  },
  {
   "cell_type": "code",
   "execution_count": null,
   "metadata": {},
   "outputs": [],
   "source": [
    "major_movies.plot.scatter(\"year\", \"rating\", figsize=(15, 10), alpha=0.4)"
   ]
  },
  {
   "cell_type": "markdown",
   "metadata": {},
   "source": [
    "### Box Plot\n",
    "\n",
    "Let's plot a box plot of the ratings"
   ]
  },
  {
   "cell_type": "code",
   "execution_count": null,
   "metadata": {},
   "outputs": [],
   "source": [
    "plt.style.use('ggplot')\n",
    "major_movies[[\"rating\"]].plot(kind=\"box\")"
   ]
  },
  {
   "cell_type": "markdown",
   "metadata": {},
   "source": [
    "We can also create boxplots for the data grouped by another column. Here, we create a rating box plot for each year: "
   ]
  },
  {
   "cell_type": "code",
   "execution_count": null,
   "metadata": {},
   "outputs": [],
   "source": [
    "flierprops = dict(marker='o', markerfacecolor='steelblue', markersize=2,\n",
    "                  linestyle='none')\n",
    "major_movies.boxplot(column=[\"rating\"], by=[\"year\"], rot=90, figsize=(15,10), flierprops=flierprops)"
   ]
  },
  {
   "cell_type": "markdown",
   "metadata": {},
   "source": [
    "## Scatterplot Matrix \n",
    "\n",
    "We frequently will look at high-dimensional datasets. We can do that conveniently with a scatterplot matrix:"
   ]
  },
  {
   "cell_type": "code",
   "execution_count": null,
   "metadata": {},
   "outputs": [],
   "source": [
    "# import the scatter_matrix functionality\n",
    "from pandas.plotting import scatter_matrix"
   ]
  },
  {
   "cell_type": "code",
   "execution_count": null,
   "metadata": {},
   "outputs": [],
   "source": [
    "scatter_matrix(major_movies[[\"year\", \"length\", \"rating\"]], alpha = 0.2, figsize=(10, 10))"
   ]
  },
  {
   "cell_type": "markdown",
   "metadata": {},
   "source": [
    "Here the cells with the same variables in columns and rows are shown as histograms. We can also use KDEs instead: "
   ]
  },
  {
   "cell_type": "code",
   "execution_count": null,
   "metadata": {},
   "outputs": [],
   "source": [
    "scatter_matrix(major_movies[[\"year\", \"length\", \"rating\"]], diagonal=\"kde\", alpha = 0.2, figsize=(10, 10))"
   ]
  }
 ],
 "metadata": {
  "anaconda-cloud": {},
  "kernelspec": {
   "display_name": "Python 3",
   "language": "python",
   "name": "python3"
  },
  "language_info": {
   "codemirror_mode": {
    "name": "ipython",
    "version": 3
   },
   "file_extension": ".py",
   "mimetype": "text/x-python",
   "name": "python",
   "nbconvert_exporter": "python",
   "pygments_lexer": "ipython3",
   "version": "3.7.2"
  }
 },
 "nbformat": 4,
 "nbformat_minor": 1
}
