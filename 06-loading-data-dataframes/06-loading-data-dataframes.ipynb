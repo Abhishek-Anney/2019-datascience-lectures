{
 "cells": [
  {
   "cell_type": "markdown",
   "metadata": {
    "nbpresent": {
     "id": "50a40f10-f4b6-4dd3-b7aa-c63ed3ca3244"
    },
    "slideshow": {
     "slide_type": "slide"
    }
   },
   "source": [
    "# Introduction to Data Science - Lecture 6 - Loading Data, Dataframes\n",
    "*COMP 5360/ MATH 4100, University of Utah, http://datasciencecourse.net/*\n",
    "\n",
    "In this lecture, we will learn how to read in and write files and then finally cover pandas dataframes. "
   ]
  },
  {
   "cell_type": "markdown",
   "metadata": {},
   "source": [
    "# Pandas Series Recap\n",
    "\n",
    "In the previous lab we've introduced pandas series, a one-dimensional data structure. You will see that dataframes behave very similar to series, so we will only quickly recap the most important aspects.\n",
    "\n",
    "Let's start by importing pandas."
   ]
  },
  {
   "cell_type": "code",
   "execution_count": 1,
   "metadata": {},
   "outputs": [],
   "source": [
    "import pandas as pd"
   ]
  },
  {
   "cell_type": "markdown",
   "metadata": {},
   "source": [
    "Series have an index, and associated data. We can use the index to access the data. We've also learned that we can directly access indices and values through their implicit location. If we add the implicit location, a series looks like this: \n",
    "\n",
    "\n",
    "| Location (Implicit)| Index | Value | \n",
    "| - | - | - |\n",
    "|0| Stones     |    1962\n",
    "|1| Beatles    |    1960\n",
    "|2| Zeppelin     |  1968\n",
    "|3| Pink Floyd |    1965\n",
    "|4| Pink Floyd |    2012\n",
    "\n",
    "Here is the example in code:"
   ]
  },
  {
   "cell_type": "code",
   "execution_count": 2,
   "metadata": {},
   "outputs": [
    {
     "data": {
      "text/plain": [
       "Stones        1962\n",
       "Beatles       1960\n",
       "Zeppelin      1968\n",
       "Pink Floyd    1965\n",
       "Pink Floyd    2012\n",
       "Name: founded, dtype: int64"
      ]
     },
     "execution_count": 2,
     "metadata": {},
     "output_type": "execute_result"
    }
   ],
   "source": [
    "bands_founded = pd.Series([1962, 1960, 1968, 1965, 2012],\n",
    "                         name=\"founded\",\n",
    "                         index=[\"Stones\", \"Beatles\", \"Zeppelin\", \"Pink Floyd\", \"Pink Floyd\"])\n",
    "bands_founded"
   ]
  },
  {
   "cell_type": "markdown",
   "metadata": {},
   "source": [
    "Notice that when we access data with multiple indices, we don't get a simple data type, as in the above cases, but instead get another series back:"
   ]
  },
  {
   "cell_type": "code",
   "execution_count": 3,
   "metadata": {},
   "outputs": [
    {
     "data": {
      "text/plain": [
       "Pink Floyd    1965\n",
       "Pink Floyd    2012\n",
       "Name: founded, dtype: int64"
      ]
     },
     "execution_count": 3,
     "metadata": {},
     "output_type": "execute_result"
    }
   ],
   "source": [
    "bands_founded[\"Pink Floyd\"]"
   ]
  },
  {
   "cell_type": "markdown",
   "metadata": {},
   "source": [
    "## Indexing and slicing\n",
    "\n",
    "Indexing and slicing works largely like in normal python, but instead of just directly using the bracket notations, it is recommended to use `iloc` for indexing by position and `loc` for indexing by index. \n",
    "\n",
    "Read the documentation on [loc](https://pandas.pydata.org/pandas-docs/stable/generated/pandas.DataFrame.loc.html) and [iloc](https://pandas.pydata.org/pandas-docs/stable/generated/pandas.DataFrame.iloc.html)."
   ]
  },
  {
   "cell_type": "code",
   "execution_count": 4,
   "metadata": {},
   "outputs": [
    {
     "data": {
      "text/plain": [
       "Beatles     1960\n",
       "Zeppelin    1968\n",
       "Name: founded, dtype: int64"
      ]
     },
     "execution_count": 4,
     "metadata": {},
     "output_type": "execute_result"
    }
   ],
   "source": [
    "# slicing by position\n",
    "bands_founded.iloc[1:3]"
   ]
  },
  {
   "cell_type": "code",
   "execution_count": 5,
   "metadata": {},
   "outputs": [
    {
     "data": {
      "text/plain": [
       "Zeppelin      1968\n",
       "Pink Floyd    1965\n",
       "Pink Floyd    2012\n",
       "Name: founded, dtype: int64"
      ]
     },
     "execution_count": 5,
     "metadata": {},
     "output_type": "execute_result"
    }
   ],
   "source": [
    "# slicing by index - note that the last element is included\n",
    "bands_founded.loc[\"Zeppelin\" : \"Pink Floyd\"]"
   ]
  },
  {
   "cell_type": "markdown",
   "metadata": {},
   "source": [
    "Series can be indexed with arrays, which isn't possible in vanilla python:"
   ]
  },
  {
   "cell_type": "code",
   "execution_count": 6,
   "metadata": {},
   "outputs": [
    {
     "data": {
      "text/plain": [
       "Beatles       1960\n",
       "Pink Floyd    1965\n",
       "Pink Floyd    2012\n",
       "Name: founded, dtype: int64"
      ]
     },
     "execution_count": 6,
     "metadata": {},
     "output_type": "execute_result"
    }
   ],
   "source": [
    "bands_founded.loc[[\"Beatles\", \"Pink Floyd\"]]"
   ]
  },
  {
   "cell_type": "markdown",
   "metadata": {},
   "source": [
    "## Masking Series\n",
    "\n",
    "With pandas we can create boolean arrays that we can use to mask and filter a dataset. In the following expression, we'll create a new array that has \"True\" for every band formed after 1964 using a technique called **broadcasting**:"
   ]
  },
  {
   "cell_type": "code",
   "execution_count": 7,
   "metadata": {},
   "outputs": [
    {
     "data": {
      "text/plain": [
       "Stones        False\n",
       "Beatles       False\n",
       "Zeppelin       True\n",
       "Pink Floyd     True\n",
       "Pink Floyd     True\n",
       "Name: founded, dtype: bool"
      ]
     },
     "execution_count": 7,
     "metadata": {},
     "output_type": "execute_result"
    }
   ],
   "source": [
    "mask = bands_founded > 1964\n",
    "mask"
   ]
  },
  {
   "cell_type": "markdown",
   "metadata": {},
   "source": [
    "We can use a boolean mask to filter a series:"
   ]
  },
  {
   "cell_type": "code",
   "execution_count": 8,
   "metadata": {},
   "outputs": [
    {
     "data": {
      "text/plain": [
       "Zeppelin      1968\n",
       "Pink Floyd    1965\n",
       "Pink Floyd    2012\n",
       "Name: founded, dtype: int64"
      ]
     },
     "execution_count": 8,
     "metadata": {},
     "output_type": "execute_result"
    }
   ],
   "source": [
    "# applying the mask to the original array\n",
    "bands_founded[mask]"
   ]
  },
  {
   "cell_type": "markdown",
   "metadata": {},
   "source": [
    "The short form here would be:"
   ]
  },
  {
   "cell_type": "code",
   "execution_count": 9,
   "metadata": {},
   "outputs": [
    {
     "data": {
      "text/plain": [
       "Zeppelin      1968\n",
       "Pink Floyd    2012\n",
       "Name: founded, dtype: int64"
      ]
     },
     "execution_count": 9,
     "metadata": {},
     "output_type": "execute_result"
    }
   ],
   "source": [
    "bands_founded[bands_founded > 1965]"
   ]
  },
  {
   "cell_type": "markdown",
   "metadata": {},
   "source": [
    "## Exploring a Series\n",
    "\n",
    "There are various ways to explore the data in a series. We can get an overview of the statistical properties, or calculate individual properties:"
   ]
  },
  {
   "cell_type": "code",
   "execution_count": 10,
   "metadata": {},
   "outputs": [
    {
     "data": {
      "text/plain": [
       "1980.5"
      ]
     },
     "execution_count": 10,
     "metadata": {},
     "output_type": "execute_result"
    }
   ],
   "source": [
    "numbers = pd.Series([1962, 1960, 1968, 1965, 2012, 2016])\n",
    "numbers.mean()"
   ]
  },
  {
   "cell_type": "code",
   "execution_count": 11,
   "metadata": {},
   "outputs": [
    {
     "data": {
      "text/plain": [
       "count       6.000000\n",
       "mean     1980.500000\n",
       "std        26.120873\n",
       "min      1960.000000\n",
       "25%      1962.750000\n",
       "50%      1966.500000\n",
       "75%      2001.000000\n",
       "max      2016.000000\n",
       "dtype: float64"
      ]
     },
     "execution_count": 11,
     "metadata": {},
     "output_type": "execute_result"
    }
   ],
   "source": [
    "numbers.describe()"
   ]
  },
  {
   "cell_type": "markdown",
   "metadata": {},
   "source": [
    "## Sorting"
   ]
  },
  {
   "cell_type": "code",
   "execution_count": 12,
   "metadata": {},
   "outputs": [
    {
     "data": {
      "text/plain": [
       "5    2016\n",
       "4    2012\n",
       "2    1968\n",
       "3    1965\n",
       "0    1962\n",
       "1    1960\n",
       "dtype: int64"
      ]
     },
     "execution_count": 12,
     "metadata": {},
     "output_type": "execute_result"
    }
   ],
   "source": [
    "sorted_numbers = numbers.sort_values(ascending=False)\n",
    "sorted_numbers"
   ]
  },
  {
   "cell_type": "markdown",
   "metadata": {},
   "source": [
    "### In Place\n",
    "\n",
    "Most of the functions in pandas which modify the Series or Dataframe(we will at what it is soon) do not change the original structure but return a copy with functions applied to it. \n",
    "\n",
    "With such (usually unwanted) copies lying around if we have a huge dataset we can run out of memory. \n",
    "\n",
    "Most of these pandas functions support a optional parameter `inplace` with default value of `False`. When `inplace` is passed as `True`, the data structure is modified in place instead of modifying a copy."
   ]
  },
  {
   "cell_type": "code",
   "execution_count": 13,
   "metadata": {},
   "outputs": [
    {
     "name": "stdout",
     "output_type": "stream",
     "text": [
      "5    2016\n",
      "4    2012\n",
      "2    1968\n",
      "3    1965\n",
      "0    1962\n",
      "1    1960\n",
      "dtype: int64\n",
      "\n",
      "0    1962\n",
      "1    1960\n",
      "2    1968\n",
      "3    1965\n",
      "4    2012\n",
      "5    2016\n",
      "dtype: int64\n"
     ]
    }
   ],
   "source": [
    "numbers_copy = numbers # Copy the numbers to a new variable\n",
    "print(numbers_copy.sort_values(ascending=False)) # Print the sorted series\n",
    "print()\n",
    "print(numbers_copy) # Print the original series"
   ]
  },
  {
   "cell_type": "code",
   "execution_count": 14,
   "metadata": {},
   "outputs": [
    {
     "name": "stdout",
     "output_type": "stream",
     "text": [
      "5    2016\n",
      "4    2012\n",
      "2    1968\n",
      "3    1965\n",
      "0    1962\n",
      "1    1960\n",
      "dtype: int64\n"
     ]
    }
   ],
   "source": [
    "numbers_copy.sort_values(ascending=False, inplace=True) # Sort the series in place\n",
    "print(numbers_copy) # Print it"
   ]
  },
  {
   "cell_type": "markdown",
   "metadata": {},
   "source": [
    "## Resetting the Index"
   ]
  },
  {
   "cell_type": "code",
   "execution_count": 15,
   "metadata": {},
   "outputs": [
    {
     "data": {
      "text/plain": [
       "0    2016\n",
       "1    2012\n",
       "2    1968\n",
       "3    1965\n",
       "4    1962\n",
       "5    1960\n",
       "dtype: int64"
      ]
     },
     "execution_count": 15,
     "metadata": {},
     "output_type": "execute_result"
    }
   ],
   "source": [
    "sorted_numbers.reset_index(drop=True)"
   ]
  },
  {
   "cell_type": "markdown",
   "metadata": {},
   "source": [
    "`drop` is a optional parameter with default value of false. If not passed as `True` it adds a new column with resetted index. Old index is added as a column. **This turns the series into a dataframe**"
   ]
  },
  {
   "cell_type": "code",
   "execution_count": 16,
   "metadata": {},
   "outputs": [
    {
     "data": {
      "text/html": [
       "<div>\n",
       "<style scoped>\n",
       "    .dataframe tbody tr th:only-of-type {\n",
       "        vertical-align: middle;\n",
       "    }\n",
       "\n",
       "    .dataframe tbody tr th {\n",
       "        vertical-align: top;\n",
       "    }\n",
       "\n",
       "    .dataframe thead th {\n",
       "        text-align: right;\n",
       "    }\n",
       "</style>\n",
       "<table border=\"1\" class=\"dataframe\">\n",
       "  <thead>\n",
       "    <tr style=\"text-align: right;\">\n",
       "      <th></th>\n",
       "      <th>index</th>\n",
       "      <th>0</th>\n",
       "    </tr>\n",
       "  </thead>\n",
       "  <tbody>\n",
       "    <tr>\n",
       "      <th>0</th>\n",
       "      <td>5</td>\n",
       "      <td>2016</td>\n",
       "    </tr>\n",
       "    <tr>\n",
       "      <th>1</th>\n",
       "      <td>4</td>\n",
       "      <td>2012</td>\n",
       "    </tr>\n",
       "    <tr>\n",
       "      <th>2</th>\n",
       "      <td>2</td>\n",
       "      <td>1968</td>\n",
       "    </tr>\n",
       "    <tr>\n",
       "      <th>3</th>\n",
       "      <td>3</td>\n",
       "      <td>1965</td>\n",
       "    </tr>\n",
       "    <tr>\n",
       "      <th>4</th>\n",
       "      <td>0</td>\n",
       "      <td>1962</td>\n",
       "    </tr>\n",
       "    <tr>\n",
       "      <th>5</th>\n",
       "      <td>1</td>\n",
       "      <td>1960</td>\n",
       "    </tr>\n",
       "  </tbody>\n",
       "</table>\n",
       "</div>"
      ],
      "text/plain": [
       "   index     0\n",
       "0      5  2016\n",
       "1      4  2012\n",
       "2      2  1968\n",
       "3      3  1965\n",
       "4      0  1962\n",
       "5      1  1960"
      ]
     },
     "execution_count": 16,
     "metadata": {},
     "output_type": "execute_result"
    }
   ],
   "source": [
    "sorted_numbers.reset_index() # equivalent to sorted_numbers.reset_index(drop=False)"
   ]
  },
  {
   "cell_type": "markdown",
   "metadata": {},
   "source": [
    "## Mapping - Applying a Function\n",
    "\n",
    "Mapping applies a function to every element in a series, which is a very powerful approach: "
   ]
  },
  {
   "cell_type": "code",
   "execution_count": 17,
   "metadata": {},
   "outputs": [
    {
     "data": {
      "text/plain": [
       "5    2016-01-01\n",
       "4    2012-01-01\n",
       "2    1968-01-01\n",
       "3    1965-01-01\n",
       "0    1962-01-01\n",
       "1    1960-01-01\n",
       "dtype: object"
      ]
     },
     "execution_count": 17,
     "metadata": {},
     "output_type": "execute_result"
    }
   ],
   "source": [
    "import datetime\n",
    "\n",
    "# Convert an integer year into a date, assuming Jan 1 as day and month.\n",
    "def to_date(year):\n",
    "    return datetime.date(int(year), 1, 1)\n",
    "    \n",
    "sorted_numbers.map(to_date)"
   ]
  },
  {
   "cell_type": "markdown",
   "metadata": {},
   "source": [
    "# 1. Reading Data\n",
    "\n",
    "Up to now, we've mainly used data that we've specified directly in code. This is, of course, not particularly scalable. We want to load data from files and eventually also connect to databases and APIs. \n",
    "\n",
    "Data is often stored in structured file formats, such as CSV, JSON, or XML. We'll encounter all of these file formats in this class.\n",
    "\n",
    "JSON\n",
    "\n",
    "```json\n",
    "{\n",
    "    \"fruit\": \"Apple\",\n",
    "    \"size\": \"Large\",\n",
    "    \"color\": \"Red\"\n",
    "}\n",
    "```\n",
    "\n",
    "XML\n",
    "```xml\n",
    "<note>\n",
    "<to>Students</to>\n",
    "<from>Prof</from>\n",
    "<heading>Reminder</heading>\n",
    "<body>HW2 due this Friday at 11:59pm!</body>\n",
    "</note>\n",
    "```\n",
    "\n",
    "The simplest (and least structured) is a CSV - comma separated values - file. CSV isn't a formal file format, rather it's a table represented as a text file where the cells are separated by a delimiter. Commonly, the first row represents the header. A delimiter can be a tab character, a semicolon, a colon, etc. \n",
    "\n",
    "Many CSV files also have a special convention for dealing with text that could include the delimiter. The following text would be very hard to parse otherwise:\n",
    "```\n",
    "Artist, Album, Genre\n",
    "Michael Jackson, Bad, Pop, funk, rock\n",
    "``` \n",
    "\n",
    "Here, the album is of multiple genres which are separated by a comma. The comma, however, is also used to delimit the individual columns. To work around that, double-quotes are commonly used to indicate that all the elements contained within the quotes are not meant to be delimiters:\n",
    "\n",
    "```\n",
    "Artist, Album, Genre\n",
    "Michael Jackson, Bad, \"Pop, funk, rock\"\n",
    "``` \n",
    "\n",
    "Now, it is clear that `Pop, funk, rock` should belong in a single cell. \n",
    "\n",
    "We've prepared a dataset based on Wikipedia's [list of best-selling albums](https://en.wikipedia.org/wiki/List_of_best-selling_albums) in the file [hit_albums.csv](./hit_albums.csv). \n",
    "\n",
    "Here is what the first couple of lines look like:"
   ]
  },
  {
   "cell_type": "markdown",
   "metadata": {},
   "source": [
    "```\n",
    "Artist,Album,Released,Genre,\"Certified sales (millions)\",Claimed sales (millions)\n",
    "Michael Jackson,Thriller,1982,\"Pop, rock, R&B\",45.4,65\n",
    "AC/DC,Back in Black,1980,Hard rock,25.9,50\n",
    "Pink Floyd,The Dark Side of the Moon,1973,Progressive rock,22.7,45\n",
    "Whitney Houston / Various artists,The Bodyguard,1992,\"Soundtrack/R&B, soul, pop\",27.4,44\n",
    "...\n",
    "```"
   ]
  },
  {
   "cell_type": "markdown",
   "metadata": {},
   "source": [
    "There are various ways of reading a CSV file. We'll first cover the basic read (and write) operations of Python, but will quickly move on to specific parsers for CSV files in Python and in pandas. "
   ]
  },
  {
   "cell_type": "markdown",
   "metadata": {},
   "source": [
    "## Basic File Operations\n",
    "\n",
    "To read a file we first have to open it by specifying the file path, and specifying whether we want to read (r), write (w), both (r+), or append (a). "
   ]
  },
  {
   "cell_type": "code",
   "execution_count": 18,
   "metadata": {},
   "outputs": [],
   "source": [
    "albums_file = open('hit_albums.csv', 'r')"
   ]
  },
  {
   "cell_type": "markdown",
   "metadata": {},
   "source": [
    "We can read a whole file at once. Notice that lines are terminated with a special character, a linefeed or newline character specified as `\\n`."
   ]
  },
  {
   "cell_type": "code",
   "execution_count": 19,
   "metadata": {},
   "outputs": [
    {
     "data": {
      "text/plain": [
       "'Artist,Album,Released,Genre,\"Certified sales (millions)\",Claimed sales (millions)\\nMichael Jackson,Thriller,1982,\"Pop, rock, R&B\",45.4,65\\nAC/DC,Back in Black,1980,Hard rock,25.9,50\\nPink Floyd,The Dark Side of the Moon,1973,Progressive rock,22.7,45\\nWhitney Houston / Various artists,The Bodyguard,1992,\"Soundtrack/R&B, soul, pop\",27.4,44\\nMeat Loaf,Bat Out of Hell,1977,\"Hard rock, progressive rock\",20.6,43\\nEagles,Their Greatest Hits (1971–1975),1976,\"Rock, soft rock, folk rock\",32.2,42\\nBee Gees / Various artists,Saturday Night Fever,1977,Disco,19,40\\nFleetwood Mac,Rumours,1977,Soft rock,27.9,40\\nShania Twain,Come On Over,1997,\"Country, pop\",29.6,39\\nLed Zeppelin,Led Zeppelin IV,1971,\"Hard rock, heavy metal\",29,37\\nMichael Jackson,Bad,1987,\"Pop, funk, rock\",20.3,34\\nAlanis Morissette,Jagged Little Pill,1995,Alternative rock,24.8,33\\nCeline Dion,Falling into You,1996,\"Pop, Soft rock\",20.2,32\\nThe Beatles,Sgt. Pepper\\'s Lonely Hearts Club Band,1967,Rock,13.1,32\\nEagles,Hotel California,1976,\"Rock, soft rock, folk rock\",21.5,32\\nMariah Carey,Music Box,1993,\"Pop, R&B, Rock\",19,32\\nMichael Jackson,Dangerous,1991,\"Rock, Funk, Pop\",17.6,32\\nVarious artists,Dirty Dancing,1987,\"Pop, rock, R&B\",17.9,32\\nCeline Dion,Let\\'s Talk About Love,1997,\"Pop, Soft rock\",19.3,31\\nThe Beatles,1,2000,Rock,21.6,31\\nAdele,21,2011,\"Pop, soul\",22.3,30\\nThe Beatles,Abbey Road,1969,Rock,14.4,30\\nBruce Springsteen,Born in the U.S.A.,1984,Rock,19.6,30\\nDire Straits,Brothers in Arms,1985,Rock,17.7,30\\nJames Horner,Titanic: Music from the Motion Picture,1997,Soundtrack,18.1,30\\nMadonna,The Immaculate Collection,1990,\"Pop, Dance\",19.4,30\\nMetallica,Metallica,1991,\"Thrash metal, heavy metal\",19.9,30\\nNirvana,Nevermind,1991,\"Grunge, alternative rock\",16.7,30\\nPink Floyd,The Wall,1979,Progressive rock,17.6,30\\nSantana,Supernatural,1999,Rock,20.5,30\\nGuns N\\' Roses,Appetite for Destruction,1987,\"Heavy metal, hard rock\",21.3,30\\nABBA,Gold: Greatest Hits,1992,Pop,29,\\nBon Jovi,Slippery When Wet,1986,Hard rock,28,\\nSpice Girls,Spice,1996,Pop,28,\\nVarious artists,Grease: The Original Soundtrack from the Motion Picture,1978,Soundtrack,28,\\nBritney Spears,...Baby One More Time,1999,Pop,28,\\nLinkin Park,Hybrid Theory,2000,\"Nu metal, rap metal, alternative metal\",27,\\nBob Marley & The Wailers,Legend: The Best of Bob Marley & The Wailers,1984,Reggae,25,\\nCarole King,Tapestry,1971,Pop,25,\\nMadonna,Like a Virgin,1984,\"Pop, dance\",25,\\nMadonna,True Blue,1986,Pop,25,\\nMariah Carey,Daydream,1995,\"Pop, R&B\",25,\\nNorah Jones,Come Away with Me,2002,Jazz,25,\\nPhil Collins,No Jacket Required,1985,\"Pop, Rock\",25,\\nQueen,Greatest Hits,1981,Rock,25,\\nSimon & Garfunkel,Bridge over Troubled Water,1970,Folk rock,25,\\nU2,The Joshua Tree,1987,Rock,25,\\nWhitney Houston,Whitney Houston,1985,\"Pop, R&B\",25,\\nBackstreet Boys,Backstreet\\'s Back / Backstreet Boys,1997,Pop,24,\\nBackstreet Boys,Millennium,1999,Pop,24,\\nAce of Base,Happy Nation/The Sign,1993,Pop,23,\\nTLC,CrazySexyCool,1994,\"R&B, hip hop\",23,\\nCyndi Lauper,She\\'s So Unusual,1983,\"New wave, pop rock, synthpop\",22,\\nOasis,(What\\'s the Story) Morning Glory?,1995,\"Britpop, rock\",22,\\nBon Jovi,Cross Road,1994,Hard rock,21,\\nEminem,The Marshall Mathers LP,2000,\"Rap, hip-hop\",21,\\nAdele,25,2015,\"Soul, pop, R&B\",20,\\nAvril Lavigne,Let Go,2002,\"Pop rock, alternative rock, post-grunge\",20,\\nBoston,Boston,1976,Hard rock,20,\\nBritney Spears,Oops!... I Did It Again,2000,Pop,20,\\nEric Clapton,Unplugged,1992,\"Acoustic blues, folk rock\",20,\\nDef Leppard,Hysteria,1987,\"Pop, Hard rock\",20,\\nGeorge Michael,Faith,1987,\"Pop, R&B\",20,\\nGreen Day,Dookie,1994,\"Pop punk, punk rock, alternative rock\",20,\\nLionel Richie,Can\\'t Slow Down,1983,\"Pop, R&B, soul\",20,\\nMichael Jackson,\"HIStory: Past, Present and Future, Book I\",1995,\"Pop, rock, R&B\",20,\\nMichael Jackson,Off the Wall,1979,\"Soul, disco, R&B\",20,\\nPrince & the Revolution,Purple Rain,1984,\"Pop, rock, R&B\",20,\\nShania Twain,The Woman in Me,1995,\"Country, pop\",20,\\nShania Twain,Up!,2002,\"Country, pop, world music\",20,\\nSupertramp,Breakfast in America,1979,\"Progressive rock, art rock\",20,\\nTina Turner,Private Dancer,1984,\"Pop, rock, R&B\",20,\\nTracy Chapman,Tracy Chapman,1988,Folk rock,20,\\nUsher,Confessions,2004,R&B,20,\\nVarious artists,Flashdance: Original Soundtrack from the Motion Picture,1983,Soundtrack,20,\\nWhitney Houston,Whitney,1987,\"Pop, R&B\",20,\\nShakira,Laundry Service,2001,\"Pop, Rock\",20,\\n'"
      ]
     },
     "execution_count": 19,
     "metadata": {},
     "output_type": "execute_result"
    }
   ],
   "source": [
    "content = albums_file.read()\n",
    "content"
   ]
  },
  {
   "cell_type": "markdown",
   "metadata": {},
   "source": [
    "If we print this instead, `\\n` is translated into a newline: "
   ]
  },
  {
   "cell_type": "code",
   "execution_count": 20,
   "metadata": {},
   "outputs": [
    {
     "name": "stdout",
     "output_type": "stream",
     "text": [
      "Artist,Album,Released,Genre,\"Certified sales (millions)\",Claimed sales (millions)\n",
      "Michael Jackson,Thriller,1982,\"Pop, rock, R&B\",45.4,65\n",
      "AC/DC,Back in Black,1980,Hard rock,25.9,50\n",
      "Pink Floyd,The Dark Side of the Moon,1973,Progressive rock,22.7,45\n",
      "Whitney Houston / Various artists,The Bodyguard,1992,\"Soundtrack/R&B, soul, pop\",27.4,44\n",
      "Meat Loaf,Bat Out of Hell,1977,\"Hard rock, progressive rock\",20.6,43\n",
      "Eagles,Their Greatest Hits (1971–1975),1976,\"Rock, soft rock, folk rock\",32.2,42\n",
      "Bee Gees / Various artists,Saturday Night Fever,1977,Disco,19,40\n",
      "Fleetwood Mac,Rumours,1977,Soft rock,27.9,40\n",
      "Shania Twain,Come On Over,1997,\"Country, pop\",29.6,39\n",
      "Led Zeppelin,Led Zeppelin IV,1971,\"Hard rock, heavy metal\",29,37\n",
      "Michael Jackson,Bad,1987,\"Pop, funk, rock\",20.3,34\n",
      "Alanis Morissette,Jagged Little Pill,1995,Alternative rock,24.8,33\n",
      "Celine Dion,Falling into You,1996,\"Pop, Soft rock\",20.2,32\n",
      "The Beatles,Sgt. Pepper's Lonely Hearts Club Band,1967,Rock,13.1,32\n",
      "Eagles,Hotel California,1976,\"Rock, soft rock, folk rock\",21.5,32\n",
      "Mariah Carey,Music Box,1993,\"Pop, R&B, Rock\",19,32\n",
      "Michael Jackson,Dangerous,1991,\"Rock, Funk, Pop\",17.6,32\n",
      "Various artists,Dirty Dancing,1987,\"Pop, rock, R&B\",17.9,32\n",
      "Celine Dion,Let's Talk About Love,1997,\"Pop, Soft rock\",19.3,31\n",
      "The Beatles,1,2000,Rock,21.6,31\n",
      "Adele,21,2011,\"Pop, soul\",22.3,30\n",
      "The Beatles,Abbey Road,1969,Rock,14.4,30\n",
      "Bruce Springsteen,Born in the U.S.A.,1984,Rock,19.6,30\n",
      "Dire Straits,Brothers in Arms,1985,Rock,17.7,30\n",
      "James Horner,Titanic: Music from the Motion Picture,1997,Soundtrack,18.1,30\n",
      "Madonna,The Immaculate Collection,1990,\"Pop, Dance\",19.4,30\n",
      "Metallica,Metallica,1991,\"Thrash metal, heavy metal\",19.9,30\n",
      "Nirvana,Nevermind,1991,\"Grunge, alternative rock\",16.7,30\n",
      "Pink Floyd,The Wall,1979,Progressive rock,17.6,30\n",
      "Santana,Supernatural,1999,Rock,20.5,30\n",
      "Guns N' Roses,Appetite for Destruction,1987,\"Heavy metal, hard rock\",21.3,30\n",
      "ABBA,Gold: Greatest Hits,1992,Pop,29,\n",
      "Bon Jovi,Slippery When Wet,1986,Hard rock,28,\n",
      "Spice Girls,Spice,1996,Pop,28,\n",
      "Various artists,Grease: The Original Soundtrack from the Motion Picture,1978,Soundtrack,28,\n",
      "Britney Spears,...Baby One More Time,1999,Pop,28,\n",
      "Linkin Park,Hybrid Theory,2000,\"Nu metal, rap metal, alternative metal\",27,\n",
      "Bob Marley & The Wailers,Legend: The Best of Bob Marley & The Wailers,1984,Reggae,25,\n",
      "Carole King,Tapestry,1971,Pop,25,\n",
      "Madonna,Like a Virgin,1984,\"Pop, dance\",25,\n",
      "Madonna,True Blue,1986,Pop,25,\n",
      "Mariah Carey,Daydream,1995,\"Pop, R&B\",25,\n",
      "Norah Jones,Come Away with Me,2002,Jazz,25,\n",
      "Phil Collins,No Jacket Required,1985,\"Pop, Rock\",25,\n",
      "Queen,Greatest Hits,1981,Rock,25,\n",
      "Simon & Garfunkel,Bridge over Troubled Water,1970,Folk rock,25,\n",
      "U2,The Joshua Tree,1987,Rock,25,\n",
      "Whitney Houston,Whitney Houston,1985,\"Pop, R&B\",25,\n",
      "Backstreet Boys,Backstreet's Back / Backstreet Boys,1997,Pop,24,\n",
      "Backstreet Boys,Millennium,1999,Pop,24,\n",
      "Ace of Base,Happy Nation/The Sign,1993,Pop,23,\n",
      "TLC,CrazySexyCool,1994,\"R&B, hip hop\",23,\n",
      "Cyndi Lauper,She's So Unusual,1983,\"New wave, pop rock, synthpop\",22,\n",
      "Oasis,(What's the Story) Morning Glory?,1995,\"Britpop, rock\",22,\n",
      "Bon Jovi,Cross Road,1994,Hard rock,21,\n",
      "Eminem,The Marshall Mathers LP,2000,\"Rap, hip-hop\",21,\n",
      "Adele,25,2015,\"Soul, pop, R&B\",20,\n",
      "Avril Lavigne,Let Go,2002,\"Pop rock, alternative rock, post-grunge\",20,\n",
      "Boston,Boston,1976,Hard rock,20,\n",
      "Britney Spears,Oops!... I Did It Again,2000,Pop,20,\n",
      "Eric Clapton,Unplugged,1992,\"Acoustic blues, folk rock\",20,\n",
      "Def Leppard,Hysteria,1987,\"Pop, Hard rock\",20,\n",
      "George Michael,Faith,1987,\"Pop, R&B\",20,\n",
      "Green Day,Dookie,1994,\"Pop punk, punk rock, alternative rock\",20,\n",
      "Lionel Richie,Can't Slow Down,1983,\"Pop, R&B, soul\",20,\n",
      "Michael Jackson,\"HIStory: Past, Present and Future, Book I\",1995,\"Pop, rock, R&B\",20,\n",
      "Michael Jackson,Off the Wall,1979,\"Soul, disco, R&B\",20,\n",
      "Prince & the Revolution,Purple Rain,1984,\"Pop, rock, R&B\",20,\n",
      "Shania Twain,The Woman in Me,1995,\"Country, pop\",20,\n",
      "Shania Twain,Up!,2002,\"Country, pop, world music\",20,\n",
      "Supertramp,Breakfast in America,1979,\"Progressive rock, art rock\",20,\n",
      "Tina Turner,Private Dancer,1984,\"Pop, rock, R&B\",20,\n",
      "Tracy Chapman,Tracy Chapman,1988,Folk rock,20,\n",
      "Usher,Confessions,2004,R&B,20,\n",
      "Various artists,Flashdance: Original Soundtrack from the Motion Picture,1983,Soundtrack,20,\n",
      "Whitney Houston,Whitney,1987,\"Pop, R&B\",20,\n",
      "Shakira,Laundry Service,2001,\"Pop, Rock\",20,\n",
      "\n"
     ]
    }
   ],
   "source": [
    "print(content)"
   ]
  },
  {
   "cell_type": "markdown",
   "metadata": {},
   "source": [
    "After reading a file, we have to manually close it again to release the OS resources:"
   ]
  },
  {
   "cell_type": "code",
   "execution_count": 21,
   "metadata": {},
   "outputs": [],
   "source": [
    "albums_file.close()"
   ]
  },
  {
   "cell_type": "markdown",
   "metadata": {},
   "source": [
    "Alternatively, we can read each line separately:"
   ]
  },
  {
   "cell_type": "code",
   "execution_count": 22,
   "metadata": {},
   "outputs": [
    {
     "name": "stdout",
     "output_type": "stream",
     "text": [
      "Artist,Album,Released,Genre,\"Certified sales (millions)\",Claimed sales (millions)\n",
      "\n"
     ]
    }
   ],
   "source": [
    "albums_file = open('hit_albums.csv', 'r')\n",
    "line1 = albums_file.readline();\n",
    "print(line1)"
   ]
  },
  {
   "cell_type": "markdown",
   "metadata": {},
   "source": [
    "We could now [`split()`](https://docs.python.org/3/library/stdtypes.html#str.split) the string based on the comma, to create a simple CSV parser:"
   ]
  },
  {
   "cell_type": "code",
   "execution_count": 23,
   "metadata": {},
   "outputs": [
    {
     "data": {
      "text/plain": [
       "['Artist',\n",
       " 'Album',\n",
       " 'Released',\n",
       " 'Genre',\n",
       " '\"Certified sales (millions)\"',\n",
       " 'Claimed sales (millions)\\n']"
      ]
     },
     "execution_count": 23,
     "metadata": {},
     "output_type": "execute_result"
    }
   ],
   "source": [
    "line1.split(\",\")"
   ]
  },
  {
   "cell_type": "markdown",
   "metadata": {},
   "source": [
    "We can loop over the file and read the data into an array:"
   ]
  },
  {
   "cell_type": "code",
   "execution_count": 24,
   "metadata": {},
   "outputs": [
    {
     "data": {
      "text/plain": [
       "[['Michael Jackson',\n",
       "  'Thriller',\n",
       "  '1982',\n",
       "  '\"Pop',\n",
       "  ' rock',\n",
       "  ' R&B\"',\n",
       "  '45.4',\n",
       "  '65\\n'],\n",
       " ['AC/DC', 'Back in Black', '1980', 'Hard rock', '25.9', '50\\n'],\n",
       " ['Pink Floyd',\n",
       "  'The Dark Side of the Moon',\n",
       "  '1973',\n",
       "  'Progressive rock',\n",
       "  '22.7',\n",
       "  '45\\n'],\n",
       " ['Whitney Houston / Various artists',\n",
       "  'The Bodyguard',\n",
       "  '1992',\n",
       "  '\"Soundtrack/R&B',\n",
       "  ' soul',\n",
       "  ' pop\"',\n",
       "  '27.4',\n",
       "  '44\\n'],\n",
       " ['Meat Loaf',\n",
       "  'Bat Out of Hell',\n",
       "  '1977',\n",
       "  '\"Hard rock',\n",
       "  ' progressive rock\"',\n",
       "  '20.6',\n",
       "  '43\\n'],\n",
       " ['Eagles',\n",
       "  'Their Greatest Hits (1971–1975)',\n",
       "  '1976',\n",
       "  '\"Rock',\n",
       "  ' soft rock',\n",
       "  ' folk rock\"',\n",
       "  '32.2',\n",
       "  '42\\n'],\n",
       " ['Bee Gees / Various artists',\n",
       "  'Saturday Night Fever',\n",
       "  '1977',\n",
       "  'Disco',\n",
       "  '19',\n",
       "  '40\\n'],\n",
       " ['Fleetwood Mac', 'Rumours', '1977', 'Soft rock', '27.9', '40\\n'],\n",
       " ['Shania Twain', 'Come On Over', '1997', '\"Country', ' pop\"', '29.6', '39\\n'],\n",
       " ['Led Zeppelin',\n",
       "  'Led Zeppelin IV',\n",
       "  '1971',\n",
       "  '\"Hard rock',\n",
       "  ' heavy metal\"',\n",
       "  '29',\n",
       "  '37\\n'],\n",
       " ['Michael Jackson', 'Bad', '1987', '\"Pop', ' funk', ' rock\"', '20.3', '34\\n'],\n",
       " ['Alanis Morissette',\n",
       "  'Jagged Little Pill',\n",
       "  '1995',\n",
       "  'Alternative rock',\n",
       "  '24.8',\n",
       "  '33\\n'],\n",
       " ['Celine Dion',\n",
       "  'Falling into You',\n",
       "  '1996',\n",
       "  '\"Pop',\n",
       "  ' Soft rock\"',\n",
       "  '20.2',\n",
       "  '32\\n'],\n",
       " ['The Beatles',\n",
       "  \"Sgt. Pepper's Lonely Hearts Club Band\",\n",
       "  '1967',\n",
       "  'Rock',\n",
       "  '13.1',\n",
       "  '32\\n'],\n",
       " ['Eagles',\n",
       "  'Hotel California',\n",
       "  '1976',\n",
       "  '\"Rock',\n",
       "  ' soft rock',\n",
       "  ' folk rock\"',\n",
       "  '21.5',\n",
       "  '32\\n'],\n",
       " ['Mariah Carey', 'Music Box', '1993', '\"Pop', ' R&B', ' Rock\"', '19', '32\\n'],\n",
       " ['Michael Jackson',\n",
       "  'Dangerous',\n",
       "  '1991',\n",
       "  '\"Rock',\n",
       "  ' Funk',\n",
       "  ' Pop\"',\n",
       "  '17.6',\n",
       "  '32\\n'],\n",
       " ['Various artists',\n",
       "  'Dirty Dancing',\n",
       "  '1987',\n",
       "  '\"Pop',\n",
       "  ' rock',\n",
       "  ' R&B\"',\n",
       "  '17.9',\n",
       "  '32\\n'],\n",
       " ['Celine Dion',\n",
       "  \"Let's Talk About Love\",\n",
       "  '1997',\n",
       "  '\"Pop',\n",
       "  ' Soft rock\"',\n",
       "  '19.3',\n",
       "  '31\\n'],\n",
       " ['The Beatles', '1', '2000', 'Rock', '21.6', '31\\n'],\n",
       " ['Adele', '21', '2011', '\"Pop', ' soul\"', '22.3', '30\\n'],\n",
       " ['The Beatles', 'Abbey Road', '1969', 'Rock', '14.4', '30\\n'],\n",
       " ['Bruce Springsteen', 'Born in the U.S.A.', '1984', 'Rock', '19.6', '30\\n'],\n",
       " ['Dire Straits', 'Brothers in Arms', '1985', 'Rock', '17.7', '30\\n'],\n",
       " ['James Horner',\n",
       "  'Titanic: Music from the Motion Picture',\n",
       "  '1997',\n",
       "  'Soundtrack',\n",
       "  '18.1',\n",
       "  '30\\n'],\n",
       " ['Madonna',\n",
       "  'The Immaculate Collection',\n",
       "  '1990',\n",
       "  '\"Pop',\n",
       "  ' Dance\"',\n",
       "  '19.4',\n",
       "  '30\\n'],\n",
       " ['Metallica',\n",
       "  'Metallica',\n",
       "  '1991',\n",
       "  '\"Thrash metal',\n",
       "  ' heavy metal\"',\n",
       "  '19.9',\n",
       "  '30\\n'],\n",
       " ['Nirvana',\n",
       "  'Nevermind',\n",
       "  '1991',\n",
       "  '\"Grunge',\n",
       "  ' alternative rock\"',\n",
       "  '16.7',\n",
       "  '30\\n'],\n",
       " ['Pink Floyd', 'The Wall', '1979', 'Progressive rock', '17.6', '30\\n'],\n",
       " ['Santana', 'Supernatural', '1999', 'Rock', '20.5', '30\\n'],\n",
       " [\"Guns N' Roses\",\n",
       "  'Appetite for Destruction',\n",
       "  '1987',\n",
       "  '\"Heavy metal',\n",
       "  ' hard rock\"',\n",
       "  '21.3',\n",
       "  '30\\n'],\n",
       " ['ABBA', 'Gold: Greatest Hits', '1992', 'Pop', '29', '\\n'],\n",
       " ['Bon Jovi', 'Slippery When Wet', '1986', 'Hard rock', '28', '\\n'],\n",
       " ['Spice Girls', 'Spice', '1996', 'Pop', '28', '\\n'],\n",
       " ['Various artists',\n",
       "  'Grease: The Original Soundtrack from the Motion Picture',\n",
       "  '1978',\n",
       "  'Soundtrack',\n",
       "  '28',\n",
       "  '\\n'],\n",
       " ['Britney Spears', '...Baby One More Time', '1999', 'Pop', '28', '\\n'],\n",
       " ['Linkin Park',\n",
       "  'Hybrid Theory',\n",
       "  '2000',\n",
       "  '\"Nu metal',\n",
       "  ' rap metal',\n",
       "  ' alternative metal\"',\n",
       "  '27',\n",
       "  '\\n'],\n",
       " ['Bob Marley & The Wailers',\n",
       "  'Legend: The Best of Bob Marley & The Wailers',\n",
       "  '1984',\n",
       "  'Reggae',\n",
       "  '25',\n",
       "  '\\n'],\n",
       " ['Carole King', 'Tapestry', '1971', 'Pop', '25', '\\n'],\n",
       " ['Madonna', 'Like a Virgin', '1984', '\"Pop', ' dance\"', '25', '\\n'],\n",
       " ['Madonna', 'True Blue', '1986', 'Pop', '25', '\\n'],\n",
       " ['Mariah Carey', 'Daydream', '1995', '\"Pop', ' R&B\"', '25', '\\n'],\n",
       " ['Norah Jones', 'Come Away with Me', '2002', 'Jazz', '25', '\\n'],\n",
       " ['Phil Collins', 'No Jacket Required', '1985', '\"Pop', ' Rock\"', '25', '\\n'],\n",
       " ['Queen', 'Greatest Hits', '1981', 'Rock', '25', '\\n'],\n",
       " ['Simon & Garfunkel',\n",
       "  'Bridge over Troubled Water',\n",
       "  '1970',\n",
       "  'Folk rock',\n",
       "  '25',\n",
       "  '\\n'],\n",
       " ['U2', 'The Joshua Tree', '1987', 'Rock', '25', '\\n'],\n",
       " ['Whitney Houston', 'Whitney Houston', '1985', '\"Pop', ' R&B\"', '25', '\\n'],\n",
       " ['Backstreet Boys',\n",
       "  \"Backstreet's Back / Backstreet Boys\",\n",
       "  '1997',\n",
       "  'Pop',\n",
       "  '24',\n",
       "  '\\n'],\n",
       " ['Backstreet Boys', 'Millennium', '1999', 'Pop', '24', '\\n'],\n",
       " ['Ace of Base', 'Happy Nation/The Sign', '1993', 'Pop', '23', '\\n'],\n",
       " ['TLC', 'CrazySexyCool', '1994', '\"R&B', ' hip hop\"', '23', '\\n'],\n",
       " ['Cyndi Lauper',\n",
       "  \"She's So Unusual\",\n",
       "  '1983',\n",
       "  '\"New wave',\n",
       "  ' pop rock',\n",
       "  ' synthpop\"',\n",
       "  '22',\n",
       "  '\\n'],\n",
       " ['Oasis',\n",
       "  \"(What's the Story) Morning Glory?\",\n",
       "  '1995',\n",
       "  '\"Britpop',\n",
       "  ' rock\"',\n",
       "  '22',\n",
       "  '\\n'],\n",
       " ['Bon Jovi', 'Cross Road', '1994', 'Hard rock', '21', '\\n'],\n",
       " ['Eminem',\n",
       "  'The Marshall Mathers LP',\n",
       "  '2000',\n",
       "  '\"Rap',\n",
       "  ' hip-hop\"',\n",
       "  '21',\n",
       "  '\\n'],\n",
       " ['Adele', '25', '2015', '\"Soul', ' pop', ' R&B\"', '20', '\\n'],\n",
       " ['Avril Lavigne',\n",
       "  'Let Go',\n",
       "  '2002',\n",
       "  '\"Pop rock',\n",
       "  ' alternative rock',\n",
       "  ' post-grunge\"',\n",
       "  '20',\n",
       "  '\\n'],\n",
       " ['Boston', 'Boston', '1976', 'Hard rock', '20', '\\n'],\n",
       " ['Britney Spears', 'Oops!... I Did It Again', '2000', 'Pop', '20', '\\n'],\n",
       " ['Eric Clapton',\n",
       "  'Unplugged',\n",
       "  '1992',\n",
       "  '\"Acoustic blues',\n",
       "  ' folk rock\"',\n",
       "  '20',\n",
       "  '\\n'],\n",
       " ['Def Leppard', 'Hysteria', '1987', '\"Pop', ' Hard rock\"', '20', '\\n'],\n",
       " ['George Michael', 'Faith', '1987', '\"Pop', ' R&B\"', '20', '\\n'],\n",
       " ['Green Day',\n",
       "  'Dookie',\n",
       "  '1994',\n",
       "  '\"Pop punk',\n",
       "  ' punk rock',\n",
       "  ' alternative rock\"',\n",
       "  '20',\n",
       "  '\\n'],\n",
       " ['Lionel Richie',\n",
       "  \"Can't Slow Down\",\n",
       "  '1983',\n",
       "  '\"Pop',\n",
       "  ' R&B',\n",
       "  ' soul\"',\n",
       "  '20',\n",
       "  '\\n'],\n",
       " ['Michael Jackson',\n",
       "  '\"HIStory: Past',\n",
       "  ' Present and Future',\n",
       "  ' Book I\"',\n",
       "  '1995',\n",
       "  '\"Pop',\n",
       "  ' rock',\n",
       "  ' R&B\"',\n",
       "  '20',\n",
       "  '\\n'],\n",
       " ['Michael Jackson',\n",
       "  'Off the Wall',\n",
       "  '1979',\n",
       "  '\"Soul',\n",
       "  ' disco',\n",
       "  ' R&B\"',\n",
       "  '20',\n",
       "  '\\n'],\n",
       " ['Prince & the Revolution',\n",
       "  'Purple Rain',\n",
       "  '1984',\n",
       "  '\"Pop',\n",
       "  ' rock',\n",
       "  ' R&B\"',\n",
       "  '20',\n",
       "  '\\n'],\n",
       " ['Shania Twain', 'The Woman in Me', '1995', '\"Country', ' pop\"', '20', '\\n'],\n",
       " ['Shania Twain',\n",
       "  'Up!',\n",
       "  '2002',\n",
       "  '\"Country',\n",
       "  ' pop',\n",
       "  ' world music\"',\n",
       "  '20',\n",
       "  '\\n'],\n",
       " ['Supertramp',\n",
       "  'Breakfast in America',\n",
       "  '1979',\n",
       "  '\"Progressive rock',\n",
       "  ' art rock\"',\n",
       "  '20',\n",
       "  '\\n'],\n",
       " ['Tina Turner',\n",
       "  'Private Dancer',\n",
       "  '1984',\n",
       "  '\"Pop',\n",
       "  ' rock',\n",
       "  ' R&B\"',\n",
       "  '20',\n",
       "  '\\n'],\n",
       " ['Tracy Chapman', 'Tracy Chapman', '1988', 'Folk rock', '20', '\\n'],\n",
       " ['Usher', 'Confessions', '2004', 'R&B', '20', '\\n'],\n",
       " ['Various artists',\n",
       "  'Flashdance: Original Soundtrack from the Motion Picture',\n",
       "  '1983',\n",
       "  'Soundtrack',\n",
       "  '20',\n",
       "  '\\n'],\n",
       " ['Whitney Houston', 'Whitney', '1987', '\"Pop', ' R&B\"', '20', '\\n'],\n",
       " ['Shakira', 'Laundry Service', '2001', '\"Pop', ' Rock\"', '20', '\\n']]"
      ]
     },
     "execution_count": 24,
     "metadata": {},
     "output_type": "execute_result"
    }
   ],
   "source": [
    "data = []\n",
    "for line in albums_file:\n",
    "    data.append(line.split(\",\"))\n",
    "    \n",
    "# let's not forget to close the file:\n",
    "albums_file.close()\n",
    "data"
   ]
  },
  {
   "cell_type": "markdown",
   "metadata": {},
   "source": [
    "We can now read individual cells or rows:"
   ]
  },
  {
   "cell_type": "code",
   "execution_count": 25,
   "metadata": {},
   "outputs": [
    {
     "data": {
      "text/plain": [
       "['Michael Jackson',\n",
       " 'Thriller',\n",
       " '1982',\n",
       " '\"Pop',\n",
       " ' rock',\n",
       " ' R&B\"',\n",
       " '45.4',\n",
       " '65\\n']"
      ]
     },
     "execution_count": 25,
     "metadata": {},
     "output_type": "execute_result"
    }
   ],
   "source": [
    "data[0]"
   ]
  },
  {
   "cell_type": "code",
   "execution_count": 26,
   "metadata": {},
   "outputs": [
    {
     "data": {
      "text/plain": [
       "'Thriller'"
      ]
     },
     "execution_count": 26,
     "metadata": {},
     "output_type": "execute_result"
    }
   ],
   "source": [
    "data[0][1]"
   ]
  },
  {
   "cell_type": "markdown",
   "metadata": {},
   "source": [
    "As we can see, this didn't take proper care of our double-quote escape of \"Pop, rock, R&B\". Also, numbers are still treated as strings and the newline character is also appended to the last cell. \n",
    "\n",
    "We could certainly improve our parser to handle these issues, but fortunately, there are existing methods to parse CSV files that make this easier.\n",
    "\n",
    "### Writing\n",
    "\n",
    "We can write by opening a file using the `w` flag. Here we also use the [`with`](https://docs.python.org/3/reference/compound_stmts.html#the-with-statement) keyword, which also takes care of closing the file for us, even if things go wrong (see [this blog post](https://jeffknupp.com/blog/2016/03/07/python-with-context-managers/) for details):"
   ]
  },
  {
   "cell_type": "code",
   "execution_count": 27,
   "metadata": {},
   "outputs": [],
   "source": [
    "with open('my_file.txt', 'w') as new_file:\n",
    "    new_file.write(\"Hello World\\nAre you still spinning?\\n\")"
   ]
  },
  {
   "cell_type": "markdown",
   "metadata": {},
   "source": [
    "We can now check out this file by opening [my_file.txt](my_file.txt). Notice that the file is only guaranteed to be written if you actually close it (which, here, is take care of by the context manager invoked by the with statement). \n",
    "\n",
    "You can find more examples on basic file operations in the [Python Documentation](https://docs.python.org/3/tutorial/inputoutput.html)."
   ]
  },
  {
   "cell_type": "markdown",
   "metadata": {},
   "source": [
    "## Exercise 1: Reading and Writing Data\n",
    "\n",
    "The file [grades.csv](grades.csv) is a file with student names and letter grades:\n",
    "\n",
    "```\n",
    "Alice; A\n",
    "Bob; B\n",
    "Robert; A\n",
    "Richard; C\n",
    "```\n",
    "\n",
    "Read the file into an array. Add a GPA to the student's row (A=4,B=3,C=2,D=1). \n",
    "\n",
    "Hint: the function [strip()](https://docs.python.org/3/library/stdtypes.html#str.strip) removes trailing whitespace from a string.\n",
    "\n",
    "Write that file into a new file `grades_gpa.csv`"
   ]
  },
  {
   "cell_type": "code",
   "execution_count": 28,
   "metadata": {},
   "outputs": [],
   "source": [
    "gpas = {\"A\":4, \"B\":3, \"C\":2, \"D\":1}\n",
    "\n",
    "data = []\n",
    "# continue here"
   ]
  },
  {
   "cell_type": "markdown",
   "metadata": {},
   "source": [
    "## Reading a CSV file with the CSV Library\n",
    "\n",
    "We can use the CSV library to help with reading the data. It takes a `delimiter` and a `quotechar`, the latter is useful for our double quotes:"
   ]
  },
  {
   "cell_type": "code",
   "execution_count": 29,
   "metadata": {},
   "outputs": [
    {
     "name": "stdout",
     "output_type": "stream",
     "text": [
      "Row: ['Artist', 'Album', 'Released', 'Genre', 'Certified sales (millions)', 'Claimed sales (millions)']\n",
      "Row: ['Michael Jackson', 'Thriller', '1982', 'Pop, rock, R&B', '45.4', '65']\n",
      "Row: ['AC/DC', 'Back in Black', '1980', 'Hard rock', '25.9', '50']\n",
      "Row: ['Pink Floyd', 'The Dark Side of the Moon', '1973', 'Progressive rock', '22.7', '45']\n",
      "Row: ['Whitney Houston / Various artists', 'The Bodyguard', '1992', 'Soundtrack/R&B, soul, pop', '27.4', '44']\n",
      "Row: ['Meat Loaf', 'Bat Out of Hell', '1977', 'Hard rock, progressive rock', '20.6', '43']\n",
      "Row: ['Eagles', 'Their Greatest Hits (1971–1975)', '1976', 'Rock, soft rock, folk rock', '32.2', '42']\n",
      "Row: ['Bee Gees / Various artists', 'Saturday Night Fever', '1977', 'Disco', '19', '40']\n",
      "Row: ['Fleetwood Mac', 'Rumours', '1977', 'Soft rock', '27.9', '40']\n",
      "Row: ['Shania Twain', 'Come On Over', '1997', 'Country, pop', '29.6', '39']\n",
      "Row: ['Led Zeppelin', 'Led Zeppelin IV', '1971', 'Hard rock, heavy metal', '29', '37']\n",
      "Row: ['Michael Jackson', 'Bad', '1987', 'Pop, funk, rock', '20.3', '34']\n",
      "Row: ['Alanis Morissette', 'Jagged Little Pill', '1995', 'Alternative rock', '24.8', '33']\n",
      "Row: ['Celine Dion', 'Falling into You', '1996', 'Pop, Soft rock', '20.2', '32']\n",
      "Row: ['The Beatles', \"Sgt. Pepper's Lonely Hearts Club Band\", '1967', 'Rock', '13.1', '32']\n",
      "Row: ['Eagles', 'Hotel California', '1976', 'Rock, soft rock, folk rock', '21.5', '32']\n",
      "Row: ['Mariah Carey', 'Music Box', '1993', 'Pop, R&B, Rock', '19', '32']\n",
      "Row: ['Michael Jackson', 'Dangerous', '1991', 'Rock, Funk, Pop', '17.6', '32']\n",
      "Row: ['Various artists', 'Dirty Dancing', '1987', 'Pop, rock, R&B', '17.9', '32']\n",
      "Row: ['Celine Dion', \"Let's Talk About Love\", '1997', 'Pop, Soft rock', '19.3', '31']\n",
      "Row: ['The Beatles', '1', '2000', 'Rock', '21.6', '31']\n",
      "Row: ['Adele', '21', '2011', 'Pop, soul', '22.3', '30']\n",
      "Row: ['The Beatles', 'Abbey Road', '1969', 'Rock', '14.4', '30']\n",
      "Row: ['Bruce Springsteen', 'Born in the U.S.A.', '1984', 'Rock', '19.6', '30']\n",
      "Row: ['Dire Straits', 'Brothers in Arms', '1985', 'Rock', '17.7', '30']\n",
      "Row: ['James Horner', 'Titanic: Music from the Motion Picture', '1997', 'Soundtrack', '18.1', '30']\n",
      "Row: ['Madonna', 'The Immaculate Collection', '1990', 'Pop, Dance', '19.4', '30']\n",
      "Row: ['Metallica', 'Metallica', '1991', 'Thrash metal, heavy metal', '19.9', '30']\n",
      "Row: ['Nirvana', 'Nevermind', '1991', 'Grunge, alternative rock', '16.7', '30']\n",
      "Row: ['Pink Floyd', 'The Wall', '1979', 'Progressive rock', '17.6', '30']\n",
      "Row: ['Santana', 'Supernatural', '1999', 'Rock', '20.5', '30']\n",
      "Row: [\"Guns N' Roses\", 'Appetite for Destruction', '1987', 'Heavy metal, hard rock', '21.3', '30']\n",
      "Row: ['ABBA', 'Gold: Greatest Hits', '1992', 'Pop', '29', '']\n",
      "Row: ['Bon Jovi', 'Slippery When Wet', '1986', 'Hard rock', '28', '']\n",
      "Row: ['Spice Girls', 'Spice', '1996', 'Pop', '28', '']\n",
      "Row: ['Various artists', 'Grease: The Original Soundtrack from the Motion Picture', '1978', 'Soundtrack', '28', '']\n",
      "Row: ['Britney Spears', '...Baby One More Time', '1999', 'Pop', '28', '']\n",
      "Row: ['Linkin Park', 'Hybrid Theory', '2000', 'Nu metal, rap metal, alternative metal', '27', '']\n",
      "Row: ['Bob Marley & The Wailers', 'Legend: The Best of Bob Marley & The Wailers', '1984', 'Reggae', '25', '']\n",
      "Row: ['Carole King', 'Tapestry', '1971', 'Pop', '25', '']\n",
      "Row: ['Madonna', 'Like a Virgin', '1984', 'Pop, dance', '25', '']\n",
      "Row: ['Madonna', 'True Blue', '1986', 'Pop', '25', '']\n",
      "Row: ['Mariah Carey', 'Daydream', '1995', 'Pop, R&B', '25', '']\n",
      "Row: ['Norah Jones', 'Come Away with Me', '2002', 'Jazz', '25', '']\n",
      "Row: ['Phil Collins', 'No Jacket Required', '1985', 'Pop, Rock', '25', '']\n",
      "Row: ['Queen', 'Greatest Hits', '1981', 'Rock', '25', '']\n",
      "Row: ['Simon & Garfunkel', 'Bridge over Troubled Water', '1970', 'Folk rock', '25', '']\n",
      "Row: ['U2', 'The Joshua Tree', '1987', 'Rock', '25', '']\n",
      "Row: ['Whitney Houston', 'Whitney Houston', '1985', 'Pop, R&B', '25', '']\n",
      "Row: ['Backstreet Boys', \"Backstreet's Back / Backstreet Boys\", '1997', 'Pop', '24', '']\n",
      "Row: ['Backstreet Boys', 'Millennium', '1999', 'Pop', '24', '']\n",
      "Row: ['Ace of Base', 'Happy Nation/The Sign', '1993', 'Pop', '23', '']\n",
      "Row: ['TLC', 'CrazySexyCool', '1994', 'R&B, hip hop', '23', '']\n",
      "Row: ['Cyndi Lauper', \"She's So Unusual\", '1983', 'New wave, pop rock, synthpop', '22', '']\n",
      "Row: ['Oasis', \"(What's the Story) Morning Glory?\", '1995', 'Britpop, rock', '22', '']\n",
      "Row: ['Bon Jovi', 'Cross Road', '1994', 'Hard rock', '21', '']\n",
      "Row: ['Eminem', 'The Marshall Mathers LP', '2000', 'Rap, hip-hop', '21', '']\n",
      "Row: ['Adele', '25', '2015', 'Soul, pop, R&B', '20', '']\n",
      "Row: ['Avril Lavigne', 'Let Go', '2002', 'Pop rock, alternative rock, post-grunge', '20', '']\n",
      "Row: ['Boston', 'Boston', '1976', 'Hard rock', '20', '']\n",
      "Row: ['Britney Spears', 'Oops!... I Did It Again', '2000', 'Pop', '20', '']\n",
      "Row: ['Eric Clapton', 'Unplugged', '1992', 'Acoustic blues, folk rock', '20', '']\n",
      "Row: ['Def Leppard', 'Hysteria', '1987', 'Pop, Hard rock', '20', '']\n",
      "Row: ['George Michael', 'Faith', '1987', 'Pop, R&B', '20', '']\n",
      "Row: ['Green Day', 'Dookie', '1994', 'Pop punk, punk rock, alternative rock', '20', '']\n",
      "Row: ['Lionel Richie', \"Can't Slow Down\", '1983', 'Pop, R&B, soul', '20', '']\n",
      "Row: ['Michael Jackson', 'HIStory: Past, Present and Future, Book I', '1995', 'Pop, rock, R&B', '20', '']\n",
      "Row: ['Michael Jackson', 'Off the Wall', '1979', 'Soul, disco, R&B', '20', '']\n",
      "Row: ['Prince & the Revolution', 'Purple Rain', '1984', 'Pop, rock, R&B', '20', '']\n",
      "Row: ['Shania Twain', 'The Woman in Me', '1995', 'Country, pop', '20', '']\n",
      "Row: ['Shania Twain', 'Up!', '2002', 'Country, pop, world music', '20', '']\n",
      "Row: ['Supertramp', 'Breakfast in America', '1979', 'Progressive rock, art rock', '20', '']\n",
      "Row: ['Tina Turner', 'Private Dancer', '1984', 'Pop, rock, R&B', '20', '']\n",
      "Row: ['Tracy Chapman', 'Tracy Chapman', '1988', 'Folk rock', '20', '']\n",
      "Row: ['Usher', 'Confessions', '2004', 'R&B', '20', '']\n",
      "Row: ['Various artists', 'Flashdance: Original Soundtrack from the Motion Picture', '1983', 'Soundtrack', '20', '']\n",
      "Row: ['Whitney Houston', 'Whitney', '1987', 'Pop, R&B', '20', '']\n",
      "Row: ['Shakira', 'Laundry Service', '2001', 'Pop, Rock', '20', '']\n",
      "\n",
      "['Artist', 'Album', 'Released', 'Genre', 'Certified sales (millions)', 'Claimed sales (millions)']\n",
      "\n",
      "[['Michael Jackson', 'Thriller', '1982', 'Pop, rock, R&B', '45.4', '65'], ['AC/DC', 'Back in Black', '1980', 'Hard rock', '25.9', '50'], ['Pink Floyd', 'The Dark Side of the Moon', '1973', 'Progressive rock', '22.7', '45'], ['Whitney Houston / Various artists', 'The Bodyguard', '1992', 'Soundtrack/R&B, soul, pop', '27.4', '44'], ['Meat Loaf', 'Bat Out of Hell', '1977', 'Hard rock, progressive rock', '20.6', '43'], ['Eagles', 'Their Greatest Hits (1971–1975)', '1976', 'Rock, soft rock, folk rock', '32.2', '42'], ['Bee Gees / Various artists', 'Saturday Night Fever', '1977', 'Disco', '19', '40'], ['Fleetwood Mac', 'Rumours', '1977', 'Soft rock', '27.9', '40'], ['Shania Twain', 'Come On Over', '1997', 'Country, pop', '29.6', '39'], ['Led Zeppelin', 'Led Zeppelin IV', '1971', 'Hard rock, heavy metal', '29', '37'], ['Michael Jackson', 'Bad', '1987', 'Pop, funk, rock', '20.3', '34'], ['Alanis Morissette', 'Jagged Little Pill', '1995', 'Alternative rock', '24.8', '33'], ['Celine Dion', 'Falling into You', '1996', 'Pop, Soft rock', '20.2', '32'], ['The Beatles', \"Sgt. Pepper's Lonely Hearts Club Band\", '1967', 'Rock', '13.1', '32'], ['Eagles', 'Hotel California', '1976', 'Rock, soft rock, folk rock', '21.5', '32'], ['Mariah Carey', 'Music Box', '1993', 'Pop, R&B, Rock', '19', '32'], ['Michael Jackson', 'Dangerous', '1991', 'Rock, Funk, Pop', '17.6', '32'], ['Various artists', 'Dirty Dancing', '1987', 'Pop, rock, R&B', '17.9', '32'], ['Celine Dion', \"Let's Talk About Love\", '1997', 'Pop, Soft rock', '19.3', '31'], ['The Beatles', '1', '2000', 'Rock', '21.6', '31'], ['Adele', '21', '2011', 'Pop, soul', '22.3', '30'], ['The Beatles', 'Abbey Road', '1969', 'Rock', '14.4', '30'], ['Bruce Springsteen', 'Born in the U.S.A.', '1984', 'Rock', '19.6', '30'], ['Dire Straits', 'Brothers in Arms', '1985', 'Rock', '17.7', '30'], ['James Horner', 'Titanic: Music from the Motion Picture', '1997', 'Soundtrack', '18.1', '30'], ['Madonna', 'The Immaculate Collection', '1990', 'Pop, Dance', '19.4', '30'], ['Metallica', 'Metallica', '1991', 'Thrash metal, heavy metal', '19.9', '30'], ['Nirvana', 'Nevermind', '1991', 'Grunge, alternative rock', '16.7', '30'], ['Pink Floyd', 'The Wall', '1979', 'Progressive rock', '17.6', '30'], ['Santana', 'Supernatural', '1999', 'Rock', '20.5', '30'], [\"Guns N' Roses\", 'Appetite for Destruction', '1987', 'Heavy metal, hard rock', '21.3', '30'], ['ABBA', 'Gold: Greatest Hits', '1992', 'Pop', '29', ''], ['Bon Jovi', 'Slippery When Wet', '1986', 'Hard rock', '28', ''], ['Spice Girls', 'Spice', '1996', 'Pop', '28', ''], ['Various artists', 'Grease: The Original Soundtrack from the Motion Picture', '1978', 'Soundtrack', '28', ''], ['Britney Spears', '...Baby One More Time', '1999', 'Pop', '28', ''], ['Linkin Park', 'Hybrid Theory', '2000', 'Nu metal, rap metal, alternative metal', '27', ''], ['Bob Marley & The Wailers', 'Legend: The Best of Bob Marley & The Wailers', '1984', 'Reggae', '25', ''], ['Carole King', 'Tapestry', '1971', 'Pop', '25', ''], ['Madonna', 'Like a Virgin', '1984', 'Pop, dance', '25', ''], ['Madonna', 'True Blue', '1986', 'Pop', '25', ''], ['Mariah Carey', 'Daydream', '1995', 'Pop, R&B', '25', ''], ['Norah Jones', 'Come Away with Me', '2002', 'Jazz', '25', ''], ['Phil Collins', 'No Jacket Required', '1985', 'Pop, Rock', '25', ''], ['Queen', 'Greatest Hits', '1981', 'Rock', '25', ''], ['Simon & Garfunkel', 'Bridge over Troubled Water', '1970', 'Folk rock', '25', ''], ['U2', 'The Joshua Tree', '1987', 'Rock', '25', ''], ['Whitney Houston', 'Whitney Houston', '1985', 'Pop, R&B', '25', ''], ['Backstreet Boys', \"Backstreet's Back / Backstreet Boys\", '1997', 'Pop', '24', ''], ['Backstreet Boys', 'Millennium', '1999', 'Pop', '24', ''], ['Ace of Base', 'Happy Nation/The Sign', '1993', 'Pop', '23', ''], ['TLC', 'CrazySexyCool', '1994', 'R&B, hip hop', '23', ''], ['Cyndi Lauper', \"She's So Unusual\", '1983', 'New wave, pop rock, synthpop', '22', ''], ['Oasis', \"(What's the Story) Morning Glory?\", '1995', 'Britpop, rock', '22', ''], ['Bon Jovi', 'Cross Road', '1994', 'Hard rock', '21', ''], ['Eminem', 'The Marshall Mathers LP', '2000', 'Rap, hip-hop', '21', ''], ['Adele', '25', '2015', 'Soul, pop, R&B', '20', ''], ['Avril Lavigne', 'Let Go', '2002', 'Pop rock, alternative rock, post-grunge', '20', ''], ['Boston', 'Boston', '1976', 'Hard rock', '20', ''], ['Britney Spears', 'Oops!... I Did It Again', '2000', 'Pop', '20', ''], ['Eric Clapton', 'Unplugged', '1992', 'Acoustic blues, folk rock', '20', ''], ['Def Leppard', 'Hysteria', '1987', 'Pop, Hard rock', '20', ''], ['George Michael', 'Faith', '1987', 'Pop, R&B', '20', ''], ['Green Day', 'Dookie', '1994', 'Pop punk, punk rock, alternative rock', '20', ''], ['Lionel Richie', \"Can't Slow Down\", '1983', 'Pop, R&B, soul', '20', ''], ['Michael Jackson', 'HIStory: Past, Present and Future, Book I', '1995', 'Pop, rock, R&B', '20', ''], ['Michael Jackson', 'Off the Wall', '1979', 'Soul, disco, R&B', '20', ''], ['Prince & the Revolution', 'Purple Rain', '1984', 'Pop, rock, R&B', '20', ''], ['Shania Twain', 'The Woman in Me', '1995', 'Country, pop', '20', ''], ['Shania Twain', 'Up!', '2002', 'Country, pop, world music', '20', ''], ['Supertramp', 'Breakfast in America', '1979', 'Progressive rock, art rock', '20', ''], ['Tina Turner', 'Private Dancer', '1984', 'Pop, rock, R&B', '20', ''], ['Tracy Chapman', 'Tracy Chapman', '1988', 'Folk rock', '20', ''], ['Usher', 'Confessions', '2004', 'R&B', '20', ''], ['Various artists', 'Flashdance: Original Soundtrack from the Motion Picture', '1983', 'Soundtrack', '20', ''], ['Whitney Houston', 'Whitney', '1987', 'Pop, R&B', '20', ''], ['Shakira', 'Laundry Service', '2001', 'Pop, Rock', '20', '']]\n"
     ]
    }
   ],
   "source": [
    "# import the csv library\n",
    "import csv\n",
    "\n",
    "# initialize the top-level array\n",
    "data_values = []\n",
    "\n",
    "# open the file and append rows as arrays to the data_values\n",
    "with open('hit_albums.csv') as csvfile:\n",
    "    # note that we can interchangably use ' and \" in general\n",
    "    # for the quotechar, however we use ' so that we can use \" without escaping\n",
    "    filereader = csv.reader(csvfile, delimiter=',', quotechar='\"')\n",
    "    # the row here is an array\n",
    "    for row in filereader:\n",
    "        print(\"Row: \" + str(row))\n",
    "        data_values.append(row)\n",
    "\n",
    "# Store the header in a separate array\n",
    "header = data_values.pop(0)\n",
    "   \n",
    "print()    \n",
    "print(header)\n",
    "print()\n",
    "print(data_values)"
   ]
  },
  {
   "cell_type": "markdown",
   "metadata": {},
   "source": [
    "To do computation on the numerical dimensions of this table, we need to also convert the strings to numbers. Here, the last column, `Claimed sales (millions)` doesn't have values for each row. In that case, the conversion throws a `ValueError` exception. [Exceptions](https://docs.python.org/3/reference/compound_stmts.html#try) are error states that can be raised and caught:"
   ]
  },
  {
   "cell_type": "code",
   "execution_count": 30,
   "metadata": {},
   "outputs": [
    {
     "data": {
      "text/plain": [
       "[['Michael Jackson', 'Thriller', 1982, 'Pop, rock, R&B', 45.4, 65.0],\n",
       " ['AC/DC', 'Back in Black', 1980, 'Hard rock', 25.9, 50.0],\n",
       " ['Pink Floyd',\n",
       "  'The Dark Side of the Moon',\n",
       "  1973,\n",
       "  'Progressive rock',\n",
       "  22.7,\n",
       "  45.0],\n",
       " ['Whitney Houston / Various artists',\n",
       "  'The Bodyguard',\n",
       "  1992,\n",
       "  'Soundtrack/R&B, soul, pop',\n",
       "  27.4,\n",
       "  44.0],\n",
       " ['Meat Loaf',\n",
       "  'Bat Out of Hell',\n",
       "  1977,\n",
       "  'Hard rock, progressive rock',\n",
       "  20.6,\n",
       "  43.0],\n",
       " ['Eagles',\n",
       "  'Their Greatest Hits (1971–1975)',\n",
       "  1976,\n",
       "  'Rock, soft rock, folk rock',\n",
       "  32.2,\n",
       "  42.0],\n",
       " ['Bee Gees / Various artists',\n",
       "  'Saturday Night Fever',\n",
       "  1977,\n",
       "  'Disco',\n",
       "  19.0,\n",
       "  40.0],\n",
       " ['Fleetwood Mac', 'Rumours', 1977, 'Soft rock', 27.9, 40.0],\n",
       " ['Shania Twain', 'Come On Over', 1997, 'Country, pop', 29.6, 39.0],\n",
       " ['Led Zeppelin',\n",
       "  'Led Zeppelin IV',\n",
       "  1971,\n",
       "  'Hard rock, heavy metal',\n",
       "  29.0,\n",
       "  37.0],\n",
       " ['Michael Jackson', 'Bad', 1987, 'Pop, funk, rock', 20.3, 34.0],\n",
       " ['Alanis Morissette',\n",
       "  'Jagged Little Pill',\n",
       "  1995,\n",
       "  'Alternative rock',\n",
       "  24.8,\n",
       "  33.0],\n",
       " ['Celine Dion', 'Falling into You', 1996, 'Pop, Soft rock', 20.2, 32.0],\n",
       " ['The Beatles',\n",
       "  \"Sgt. Pepper's Lonely Hearts Club Band\",\n",
       "  1967,\n",
       "  'Rock',\n",
       "  13.1,\n",
       "  32.0],\n",
       " ['Eagles',\n",
       "  'Hotel California',\n",
       "  1976,\n",
       "  'Rock, soft rock, folk rock',\n",
       "  21.5,\n",
       "  32.0],\n",
       " ['Mariah Carey', 'Music Box', 1993, 'Pop, R&B, Rock', 19.0, 32.0],\n",
       " ['Michael Jackson', 'Dangerous', 1991, 'Rock, Funk, Pop', 17.6, 32.0],\n",
       " ['Various artists', 'Dirty Dancing', 1987, 'Pop, rock, R&B', 17.9, 32.0],\n",
       " ['Celine Dion', \"Let's Talk About Love\", 1997, 'Pop, Soft rock', 19.3, 31.0],\n",
       " ['The Beatles', '1', 2000, 'Rock', 21.6, 31.0],\n",
       " ['Adele', '21', 2011, 'Pop, soul', 22.3, 30.0],\n",
       " ['The Beatles', 'Abbey Road', 1969, 'Rock', 14.4, 30.0],\n",
       " ['Bruce Springsteen', 'Born in the U.S.A.', 1984, 'Rock', 19.6, 30.0],\n",
       " ['Dire Straits', 'Brothers in Arms', 1985, 'Rock', 17.7, 30.0],\n",
       " ['James Horner',\n",
       "  'Titanic: Music from the Motion Picture',\n",
       "  1997,\n",
       "  'Soundtrack',\n",
       "  18.1,\n",
       "  30.0],\n",
       " ['Madonna', 'The Immaculate Collection', 1990, 'Pop, Dance', 19.4, 30.0],\n",
       " ['Metallica', 'Metallica', 1991, 'Thrash metal, heavy metal', 19.9, 30.0],\n",
       " ['Nirvana', 'Nevermind', 1991, 'Grunge, alternative rock', 16.7, 30.0],\n",
       " ['Pink Floyd', 'The Wall', 1979, 'Progressive rock', 17.6, 30.0],\n",
       " ['Santana', 'Supernatural', 1999, 'Rock', 20.5, 30.0],\n",
       " [\"Guns N' Roses\",\n",
       "  'Appetite for Destruction',\n",
       "  1987,\n",
       "  'Heavy metal, hard rock',\n",
       "  21.3,\n",
       "  30.0],\n",
       " ['ABBA', 'Gold: Greatest Hits', 1992, 'Pop', 29.0, None],\n",
       " ['Bon Jovi', 'Slippery When Wet', 1986, 'Hard rock', 28.0, None],\n",
       " ['Spice Girls', 'Spice', 1996, 'Pop', 28.0, None],\n",
       " ['Various artists',\n",
       "  'Grease: The Original Soundtrack from the Motion Picture',\n",
       "  1978,\n",
       "  'Soundtrack',\n",
       "  28.0,\n",
       "  None],\n",
       " ['Britney Spears', '...Baby One More Time', 1999, 'Pop', 28.0, None],\n",
       " ['Linkin Park',\n",
       "  'Hybrid Theory',\n",
       "  2000,\n",
       "  'Nu metal, rap metal, alternative metal',\n",
       "  27.0,\n",
       "  None],\n",
       " ['Bob Marley & The Wailers',\n",
       "  'Legend: The Best of Bob Marley & The Wailers',\n",
       "  1984,\n",
       "  'Reggae',\n",
       "  25.0,\n",
       "  None],\n",
       " ['Carole King', 'Tapestry', 1971, 'Pop', 25.0, None],\n",
       " ['Madonna', 'Like a Virgin', 1984, 'Pop, dance', 25.0, None],\n",
       " ['Madonna', 'True Blue', 1986, 'Pop', 25.0, None],\n",
       " ['Mariah Carey', 'Daydream', 1995, 'Pop, R&B', 25.0, None],\n",
       " ['Norah Jones', 'Come Away with Me', 2002, 'Jazz', 25.0, None],\n",
       " ['Phil Collins', 'No Jacket Required', 1985, 'Pop, Rock', 25.0, None],\n",
       " ['Queen', 'Greatest Hits', 1981, 'Rock', 25.0, None],\n",
       " ['Simon & Garfunkel',\n",
       "  'Bridge over Troubled Water',\n",
       "  1970,\n",
       "  'Folk rock',\n",
       "  25.0,\n",
       "  None],\n",
       " ['U2', 'The Joshua Tree', 1987, 'Rock', 25.0, None],\n",
       " ['Whitney Houston', 'Whitney Houston', 1985, 'Pop, R&B', 25.0, None],\n",
       " ['Backstreet Boys',\n",
       "  \"Backstreet's Back / Backstreet Boys\",\n",
       "  1997,\n",
       "  'Pop',\n",
       "  24.0,\n",
       "  None],\n",
       " ['Backstreet Boys', 'Millennium', 1999, 'Pop', 24.0, None],\n",
       " ['Ace of Base', 'Happy Nation/The Sign', 1993, 'Pop', 23.0, None],\n",
       " ['TLC', 'CrazySexyCool', 1994, 'R&B, hip hop', 23.0, None],\n",
       " ['Cyndi Lauper',\n",
       "  \"She's So Unusual\",\n",
       "  1983,\n",
       "  'New wave, pop rock, synthpop',\n",
       "  22.0,\n",
       "  None],\n",
       " ['Oasis',\n",
       "  \"(What's the Story) Morning Glory?\",\n",
       "  1995,\n",
       "  'Britpop, rock',\n",
       "  22.0,\n",
       "  None],\n",
       " ['Bon Jovi', 'Cross Road', 1994, 'Hard rock', 21.0, None],\n",
       " ['Eminem', 'The Marshall Mathers LP', 2000, 'Rap, hip-hop', 21.0, None],\n",
       " ['Adele', '25', 2015, 'Soul, pop, R&B', 20.0, None],\n",
       " ['Avril Lavigne',\n",
       "  'Let Go',\n",
       "  2002,\n",
       "  'Pop rock, alternative rock, post-grunge',\n",
       "  20.0,\n",
       "  None],\n",
       " ['Boston', 'Boston', 1976, 'Hard rock', 20.0, None],\n",
       " ['Britney Spears', 'Oops!... I Did It Again', 2000, 'Pop', 20.0, None],\n",
       " ['Eric Clapton', 'Unplugged', 1992, 'Acoustic blues, folk rock', 20.0, None],\n",
       " ['Def Leppard', 'Hysteria', 1987, 'Pop, Hard rock', 20.0, None],\n",
       " ['George Michael', 'Faith', 1987, 'Pop, R&B', 20.0, None],\n",
       " ['Green Day',\n",
       "  'Dookie',\n",
       "  1994,\n",
       "  'Pop punk, punk rock, alternative rock',\n",
       "  20.0,\n",
       "  None],\n",
       " ['Lionel Richie', \"Can't Slow Down\", 1983, 'Pop, R&B, soul', 20.0, None],\n",
       " ['Michael Jackson',\n",
       "  'HIStory: Past, Present and Future, Book I',\n",
       "  1995,\n",
       "  'Pop, rock, R&B',\n",
       "  20.0,\n",
       "  None],\n",
       " ['Michael Jackson', 'Off the Wall', 1979, 'Soul, disco, R&B', 20.0, None],\n",
       " ['Prince & the Revolution',\n",
       "  'Purple Rain',\n",
       "  1984,\n",
       "  'Pop, rock, R&B',\n",
       "  20.0,\n",
       "  None],\n",
       " ['Shania Twain', 'The Woman in Me', 1995, 'Country, pop', 20.0, None],\n",
       " ['Shania Twain', 'Up!', 2002, 'Country, pop, world music', 20.0, None],\n",
       " ['Supertramp',\n",
       "  'Breakfast in America',\n",
       "  1979,\n",
       "  'Progressive rock, art rock',\n",
       "  20.0,\n",
       "  None],\n",
       " ['Tina Turner', 'Private Dancer', 1984, 'Pop, rock, R&B', 20.0, None],\n",
       " ['Tracy Chapman', 'Tracy Chapman', 1988, 'Folk rock', 20.0, None],\n",
       " ['Usher', 'Confessions', 2004, 'R&B', 20.0, None],\n",
       " ['Various artists',\n",
       "  'Flashdance: Original Soundtrack from the Motion Picture',\n",
       "  1983,\n",
       "  'Soundtrack',\n",
       "  20.0,\n",
       "  None],\n",
       " ['Whitney Houston', 'Whitney', 1987, 'Pop, R&B', 20.0, None],\n",
       " ['Shakira', 'Laundry Service', 2001, 'Pop, Rock', 20.0, None]]"
      ]
     },
     "execution_count": 30,
     "metadata": {},
     "output_type": "execute_result"
    }
   ],
   "source": [
    "for row in data_values: \n",
    "    row[2] = int(row[2])\n",
    "    row[4] = float(row[4])\n",
    "    # need to try and catch the exception because the column contains NaN values\n",
    "    try:\n",
    "        row[5] = float(row[5])\n",
    "    except ValueError: \n",
    "        row[5] = None\n",
    "    \n",
    "data_values"
   ]
  },
  {
   "cell_type": "markdown",
   "metadata": {},
   "source": [
    "So, here we have matrix that we could work with. In reality, we probably would want to structure the data a little differently - instead of treating each row as an array, we'd want to treat each dimension (column) as an array, as this makes the column homogeneous and it makes it easy to calculate means, etc. "
   ]
  },
  {
   "cell_type": "markdown",
   "metadata": {},
   "source": [
    "## Reading CSV with Pandas\n",
    "\n",
    "Now, let's take a look at what it takes to read this file using pandas."
   ]
  },
  {
   "cell_type": "code",
   "execution_count": 31,
   "metadata": {
    "scrolled": true
   },
   "outputs": [
    {
     "data": {
      "text/html": [
       "<div>\n",
       "<style scoped>\n",
       "    .dataframe tbody tr th:only-of-type {\n",
       "        vertical-align: middle;\n",
       "    }\n",
       "\n",
       "    .dataframe tbody tr th {\n",
       "        vertical-align: top;\n",
       "    }\n",
       "\n",
       "    .dataframe thead th {\n",
       "        text-align: right;\n",
       "    }\n",
       "</style>\n",
       "<table border=\"1\" class=\"dataframe\">\n",
       "  <thead>\n",
       "    <tr style=\"text-align: right;\">\n",
       "      <th></th>\n",
       "      <th>Artist</th>\n",
       "      <th>Album</th>\n",
       "      <th>Released</th>\n",
       "      <th>Genre</th>\n",
       "      <th>Certified sales (millions)</th>\n",
       "      <th>Claimed sales (millions)</th>\n",
       "    </tr>\n",
       "  </thead>\n",
       "  <tbody>\n",
       "    <tr>\n",
       "      <th>0</th>\n",
       "      <td>Michael Jackson</td>\n",
       "      <td>Thriller</td>\n",
       "      <td>1982</td>\n",
       "      <td>Pop, rock, R&amp;B</td>\n",
       "      <td>45.4</td>\n",
       "      <td>65.0</td>\n",
       "    </tr>\n",
       "    <tr>\n",
       "      <th>1</th>\n",
       "      <td>AC/DC</td>\n",
       "      <td>Back in Black</td>\n",
       "      <td>1980</td>\n",
       "      <td>Hard rock</td>\n",
       "      <td>25.9</td>\n",
       "      <td>50.0</td>\n",
       "    </tr>\n",
       "    <tr>\n",
       "      <th>2</th>\n",
       "      <td>Pink Floyd</td>\n",
       "      <td>The Dark Side of the Moon</td>\n",
       "      <td>1973</td>\n",
       "      <td>Progressive rock</td>\n",
       "      <td>22.7</td>\n",
       "      <td>45.0</td>\n",
       "    </tr>\n",
       "    <tr>\n",
       "      <th>3</th>\n",
       "      <td>Whitney Houston / Various artists</td>\n",
       "      <td>The Bodyguard</td>\n",
       "      <td>1992</td>\n",
       "      <td>Soundtrack/R&amp;B, soul, pop</td>\n",
       "      <td>27.4</td>\n",
       "      <td>44.0</td>\n",
       "    </tr>\n",
       "    <tr>\n",
       "      <th>4</th>\n",
       "      <td>Meat Loaf</td>\n",
       "      <td>Bat Out of Hell</td>\n",
       "      <td>1977</td>\n",
       "      <td>Hard rock, progressive rock</td>\n",
       "      <td>20.6</td>\n",
       "      <td>43.0</td>\n",
       "    </tr>\n",
       "    <tr>\n",
       "      <th>5</th>\n",
       "      <td>Eagles</td>\n",
       "      <td>Their Greatest Hits (1971–1975)</td>\n",
       "      <td>1976</td>\n",
       "      <td>Rock, soft rock, folk rock</td>\n",
       "      <td>32.2</td>\n",
       "      <td>42.0</td>\n",
       "    </tr>\n",
       "    <tr>\n",
       "      <th>6</th>\n",
       "      <td>Bee Gees / Various artists</td>\n",
       "      <td>Saturday Night Fever</td>\n",
       "      <td>1977</td>\n",
       "      <td>Disco</td>\n",
       "      <td>19.0</td>\n",
       "      <td>40.0</td>\n",
       "    </tr>\n",
       "    <tr>\n",
       "      <th>7</th>\n",
       "      <td>Fleetwood Mac</td>\n",
       "      <td>Rumours</td>\n",
       "      <td>1977</td>\n",
       "      <td>Soft rock</td>\n",
       "      <td>27.9</td>\n",
       "      <td>40.0</td>\n",
       "    </tr>\n",
       "    <tr>\n",
       "      <th>8</th>\n",
       "      <td>Shania Twain</td>\n",
       "      <td>Come On Over</td>\n",
       "      <td>1997</td>\n",
       "      <td>Country, pop</td>\n",
       "      <td>29.6</td>\n",
       "      <td>39.0</td>\n",
       "    </tr>\n",
       "    <tr>\n",
       "      <th>9</th>\n",
       "      <td>Led Zeppelin</td>\n",
       "      <td>Led Zeppelin IV</td>\n",
       "      <td>1971</td>\n",
       "      <td>Hard rock, heavy metal</td>\n",
       "      <td>29.0</td>\n",
       "      <td>37.0</td>\n",
       "    </tr>\n",
       "    <tr>\n",
       "      <th>10</th>\n",
       "      <td>Michael Jackson</td>\n",
       "      <td>Bad</td>\n",
       "      <td>1987</td>\n",
       "      <td>Pop, funk, rock</td>\n",
       "      <td>20.3</td>\n",
       "      <td>34.0</td>\n",
       "    </tr>\n",
       "    <tr>\n",
       "      <th>11</th>\n",
       "      <td>Alanis Morissette</td>\n",
       "      <td>Jagged Little Pill</td>\n",
       "      <td>1995</td>\n",
       "      <td>Alternative rock</td>\n",
       "      <td>24.8</td>\n",
       "      <td>33.0</td>\n",
       "    </tr>\n",
       "    <tr>\n",
       "      <th>12</th>\n",
       "      <td>Celine Dion</td>\n",
       "      <td>Falling into You</td>\n",
       "      <td>1996</td>\n",
       "      <td>Pop, Soft rock</td>\n",
       "      <td>20.2</td>\n",
       "      <td>32.0</td>\n",
       "    </tr>\n",
       "    <tr>\n",
       "      <th>13</th>\n",
       "      <td>The Beatles</td>\n",
       "      <td>Sgt. Pepper's Lonely Hearts Club Band</td>\n",
       "      <td>1967</td>\n",
       "      <td>Rock</td>\n",
       "      <td>13.1</td>\n",
       "      <td>32.0</td>\n",
       "    </tr>\n",
       "    <tr>\n",
       "      <th>14</th>\n",
       "      <td>Eagles</td>\n",
       "      <td>Hotel California</td>\n",
       "      <td>1976</td>\n",
       "      <td>Rock, soft rock, folk rock</td>\n",
       "      <td>21.5</td>\n",
       "      <td>32.0</td>\n",
       "    </tr>\n",
       "    <tr>\n",
       "      <th>15</th>\n",
       "      <td>Mariah Carey</td>\n",
       "      <td>Music Box</td>\n",
       "      <td>1993</td>\n",
       "      <td>Pop, R&amp;B, Rock</td>\n",
       "      <td>19.0</td>\n",
       "      <td>32.0</td>\n",
       "    </tr>\n",
       "    <tr>\n",
       "      <th>16</th>\n",
       "      <td>Michael Jackson</td>\n",
       "      <td>Dangerous</td>\n",
       "      <td>1991</td>\n",
       "      <td>Rock, Funk, Pop</td>\n",
       "      <td>17.6</td>\n",
       "      <td>32.0</td>\n",
       "    </tr>\n",
       "    <tr>\n",
       "      <th>17</th>\n",
       "      <td>Various artists</td>\n",
       "      <td>Dirty Dancing</td>\n",
       "      <td>1987</td>\n",
       "      <td>Pop, rock, R&amp;B</td>\n",
       "      <td>17.9</td>\n",
       "      <td>32.0</td>\n",
       "    </tr>\n",
       "    <tr>\n",
       "      <th>18</th>\n",
       "      <td>Celine Dion</td>\n",
       "      <td>Let's Talk About Love</td>\n",
       "      <td>1997</td>\n",
       "      <td>Pop, Soft rock</td>\n",
       "      <td>19.3</td>\n",
       "      <td>31.0</td>\n",
       "    </tr>\n",
       "    <tr>\n",
       "      <th>19</th>\n",
       "      <td>The Beatles</td>\n",
       "      <td>1</td>\n",
       "      <td>2000</td>\n",
       "      <td>Rock</td>\n",
       "      <td>21.6</td>\n",
       "      <td>31.0</td>\n",
       "    </tr>\n",
       "    <tr>\n",
       "      <th>20</th>\n",
       "      <td>Adele</td>\n",
       "      <td>21</td>\n",
       "      <td>2011</td>\n",
       "      <td>Pop, soul</td>\n",
       "      <td>22.3</td>\n",
       "      <td>30.0</td>\n",
       "    </tr>\n",
       "    <tr>\n",
       "      <th>21</th>\n",
       "      <td>The Beatles</td>\n",
       "      <td>Abbey Road</td>\n",
       "      <td>1969</td>\n",
       "      <td>Rock</td>\n",
       "      <td>14.4</td>\n",
       "      <td>30.0</td>\n",
       "    </tr>\n",
       "    <tr>\n",
       "      <th>22</th>\n",
       "      <td>Bruce Springsteen</td>\n",
       "      <td>Born in the U.S.A.</td>\n",
       "      <td>1984</td>\n",
       "      <td>Rock</td>\n",
       "      <td>19.6</td>\n",
       "      <td>30.0</td>\n",
       "    </tr>\n",
       "    <tr>\n",
       "      <th>23</th>\n",
       "      <td>Dire Straits</td>\n",
       "      <td>Brothers in Arms</td>\n",
       "      <td>1985</td>\n",
       "      <td>Rock</td>\n",
       "      <td>17.7</td>\n",
       "      <td>30.0</td>\n",
       "    </tr>\n",
       "    <tr>\n",
       "      <th>24</th>\n",
       "      <td>James Horner</td>\n",
       "      <td>Titanic: Music from the Motion Picture</td>\n",
       "      <td>1997</td>\n",
       "      <td>Soundtrack</td>\n",
       "      <td>18.1</td>\n",
       "      <td>30.0</td>\n",
       "    </tr>\n",
       "    <tr>\n",
       "      <th>25</th>\n",
       "      <td>Madonna</td>\n",
       "      <td>The Immaculate Collection</td>\n",
       "      <td>1990</td>\n",
       "      <td>Pop, Dance</td>\n",
       "      <td>19.4</td>\n",
       "      <td>30.0</td>\n",
       "    </tr>\n",
       "    <tr>\n",
       "      <th>26</th>\n",
       "      <td>Metallica</td>\n",
       "      <td>Metallica</td>\n",
       "      <td>1991</td>\n",
       "      <td>Thrash metal, heavy metal</td>\n",
       "      <td>19.9</td>\n",
       "      <td>30.0</td>\n",
       "    </tr>\n",
       "    <tr>\n",
       "      <th>27</th>\n",
       "      <td>Nirvana</td>\n",
       "      <td>Nevermind</td>\n",
       "      <td>1991</td>\n",
       "      <td>Grunge, alternative rock</td>\n",
       "      <td>16.7</td>\n",
       "      <td>30.0</td>\n",
       "    </tr>\n",
       "    <tr>\n",
       "      <th>28</th>\n",
       "      <td>Pink Floyd</td>\n",
       "      <td>The Wall</td>\n",
       "      <td>1979</td>\n",
       "      <td>Progressive rock</td>\n",
       "      <td>17.6</td>\n",
       "      <td>30.0</td>\n",
       "    </tr>\n",
       "    <tr>\n",
       "      <th>29</th>\n",
       "      <td>Santana</td>\n",
       "      <td>Supernatural</td>\n",
       "      <td>1999</td>\n",
       "      <td>Rock</td>\n",
       "      <td>20.5</td>\n",
       "      <td>30.0</td>\n",
       "    </tr>\n",
       "    <tr>\n",
       "      <th>...</th>\n",
       "      <td>...</td>\n",
       "      <td>...</td>\n",
       "      <td>...</td>\n",
       "      <td>...</td>\n",
       "      <td>...</td>\n",
       "      <td>...</td>\n",
       "    </tr>\n",
       "    <tr>\n",
       "      <th>47</th>\n",
       "      <td>Whitney Houston</td>\n",
       "      <td>Whitney Houston</td>\n",
       "      <td>1985</td>\n",
       "      <td>Pop, R&amp;B</td>\n",
       "      <td>25.0</td>\n",
       "      <td>NaN</td>\n",
       "    </tr>\n",
       "    <tr>\n",
       "      <th>48</th>\n",
       "      <td>Backstreet Boys</td>\n",
       "      <td>Backstreet's Back / Backstreet Boys</td>\n",
       "      <td>1997</td>\n",
       "      <td>Pop</td>\n",
       "      <td>24.0</td>\n",
       "      <td>NaN</td>\n",
       "    </tr>\n",
       "    <tr>\n",
       "      <th>49</th>\n",
       "      <td>Backstreet Boys</td>\n",
       "      <td>Millennium</td>\n",
       "      <td>1999</td>\n",
       "      <td>Pop</td>\n",
       "      <td>24.0</td>\n",
       "      <td>NaN</td>\n",
       "    </tr>\n",
       "    <tr>\n",
       "      <th>50</th>\n",
       "      <td>Ace of Base</td>\n",
       "      <td>Happy Nation/The Sign</td>\n",
       "      <td>1993</td>\n",
       "      <td>Pop</td>\n",
       "      <td>23.0</td>\n",
       "      <td>NaN</td>\n",
       "    </tr>\n",
       "    <tr>\n",
       "      <th>51</th>\n",
       "      <td>TLC</td>\n",
       "      <td>CrazySexyCool</td>\n",
       "      <td>1994</td>\n",
       "      <td>R&amp;B, hip hop</td>\n",
       "      <td>23.0</td>\n",
       "      <td>NaN</td>\n",
       "    </tr>\n",
       "    <tr>\n",
       "      <th>52</th>\n",
       "      <td>Cyndi Lauper</td>\n",
       "      <td>She's So Unusual</td>\n",
       "      <td>1983</td>\n",
       "      <td>New wave, pop rock, synthpop</td>\n",
       "      <td>22.0</td>\n",
       "      <td>NaN</td>\n",
       "    </tr>\n",
       "    <tr>\n",
       "      <th>53</th>\n",
       "      <td>Oasis</td>\n",
       "      <td>(What's the Story) Morning Glory?</td>\n",
       "      <td>1995</td>\n",
       "      <td>Britpop, rock</td>\n",
       "      <td>22.0</td>\n",
       "      <td>NaN</td>\n",
       "    </tr>\n",
       "    <tr>\n",
       "      <th>54</th>\n",
       "      <td>Bon Jovi</td>\n",
       "      <td>Cross Road</td>\n",
       "      <td>1994</td>\n",
       "      <td>Hard rock</td>\n",
       "      <td>21.0</td>\n",
       "      <td>NaN</td>\n",
       "    </tr>\n",
       "    <tr>\n",
       "      <th>55</th>\n",
       "      <td>Eminem</td>\n",
       "      <td>The Marshall Mathers LP</td>\n",
       "      <td>2000</td>\n",
       "      <td>Rap, hip-hop</td>\n",
       "      <td>21.0</td>\n",
       "      <td>NaN</td>\n",
       "    </tr>\n",
       "    <tr>\n",
       "      <th>56</th>\n",
       "      <td>Adele</td>\n",
       "      <td>25</td>\n",
       "      <td>2015</td>\n",
       "      <td>Soul, pop, R&amp;B</td>\n",
       "      <td>20.0</td>\n",
       "      <td>NaN</td>\n",
       "    </tr>\n",
       "    <tr>\n",
       "      <th>57</th>\n",
       "      <td>Avril Lavigne</td>\n",
       "      <td>Let Go</td>\n",
       "      <td>2002</td>\n",
       "      <td>Pop rock, alternative rock, post-grunge</td>\n",
       "      <td>20.0</td>\n",
       "      <td>NaN</td>\n",
       "    </tr>\n",
       "    <tr>\n",
       "      <th>58</th>\n",
       "      <td>Boston</td>\n",
       "      <td>Boston</td>\n",
       "      <td>1976</td>\n",
       "      <td>Hard rock</td>\n",
       "      <td>20.0</td>\n",
       "      <td>NaN</td>\n",
       "    </tr>\n",
       "    <tr>\n",
       "      <th>59</th>\n",
       "      <td>Britney Spears</td>\n",
       "      <td>Oops!... I Did It Again</td>\n",
       "      <td>2000</td>\n",
       "      <td>Pop</td>\n",
       "      <td>20.0</td>\n",
       "      <td>NaN</td>\n",
       "    </tr>\n",
       "    <tr>\n",
       "      <th>60</th>\n",
       "      <td>Eric Clapton</td>\n",
       "      <td>Unplugged</td>\n",
       "      <td>1992</td>\n",
       "      <td>Acoustic blues, folk rock</td>\n",
       "      <td>20.0</td>\n",
       "      <td>NaN</td>\n",
       "    </tr>\n",
       "    <tr>\n",
       "      <th>61</th>\n",
       "      <td>Def Leppard</td>\n",
       "      <td>Hysteria</td>\n",
       "      <td>1987</td>\n",
       "      <td>Pop, Hard rock</td>\n",
       "      <td>20.0</td>\n",
       "      <td>NaN</td>\n",
       "    </tr>\n",
       "    <tr>\n",
       "      <th>62</th>\n",
       "      <td>George Michael</td>\n",
       "      <td>Faith</td>\n",
       "      <td>1987</td>\n",
       "      <td>Pop, R&amp;B</td>\n",
       "      <td>20.0</td>\n",
       "      <td>NaN</td>\n",
       "    </tr>\n",
       "    <tr>\n",
       "      <th>63</th>\n",
       "      <td>Green Day</td>\n",
       "      <td>Dookie</td>\n",
       "      <td>1994</td>\n",
       "      <td>Pop punk, punk rock, alternative rock</td>\n",
       "      <td>20.0</td>\n",
       "      <td>NaN</td>\n",
       "    </tr>\n",
       "    <tr>\n",
       "      <th>64</th>\n",
       "      <td>Lionel Richie</td>\n",
       "      <td>Can't Slow Down</td>\n",
       "      <td>1983</td>\n",
       "      <td>Pop, R&amp;B, soul</td>\n",
       "      <td>20.0</td>\n",
       "      <td>NaN</td>\n",
       "    </tr>\n",
       "    <tr>\n",
       "      <th>65</th>\n",
       "      <td>Michael Jackson</td>\n",
       "      <td>HIStory: Past, Present and Future, Book I</td>\n",
       "      <td>1995</td>\n",
       "      <td>Pop, rock, R&amp;B</td>\n",
       "      <td>20.0</td>\n",
       "      <td>NaN</td>\n",
       "    </tr>\n",
       "    <tr>\n",
       "      <th>66</th>\n",
       "      <td>Michael Jackson</td>\n",
       "      <td>Off the Wall</td>\n",
       "      <td>1979</td>\n",
       "      <td>Soul, disco, R&amp;B</td>\n",
       "      <td>20.0</td>\n",
       "      <td>NaN</td>\n",
       "    </tr>\n",
       "    <tr>\n",
       "      <th>67</th>\n",
       "      <td>Prince &amp; the Revolution</td>\n",
       "      <td>Purple Rain</td>\n",
       "      <td>1984</td>\n",
       "      <td>Pop, rock, R&amp;B</td>\n",
       "      <td>20.0</td>\n",
       "      <td>NaN</td>\n",
       "    </tr>\n",
       "    <tr>\n",
       "      <th>68</th>\n",
       "      <td>Shania Twain</td>\n",
       "      <td>The Woman in Me</td>\n",
       "      <td>1995</td>\n",
       "      <td>Country, pop</td>\n",
       "      <td>20.0</td>\n",
       "      <td>NaN</td>\n",
       "    </tr>\n",
       "    <tr>\n",
       "      <th>69</th>\n",
       "      <td>Shania Twain</td>\n",
       "      <td>Up!</td>\n",
       "      <td>2002</td>\n",
       "      <td>Country, pop, world music</td>\n",
       "      <td>20.0</td>\n",
       "      <td>NaN</td>\n",
       "    </tr>\n",
       "    <tr>\n",
       "      <th>70</th>\n",
       "      <td>Supertramp</td>\n",
       "      <td>Breakfast in America</td>\n",
       "      <td>1979</td>\n",
       "      <td>Progressive rock, art rock</td>\n",
       "      <td>20.0</td>\n",
       "      <td>NaN</td>\n",
       "    </tr>\n",
       "    <tr>\n",
       "      <th>71</th>\n",
       "      <td>Tina Turner</td>\n",
       "      <td>Private Dancer</td>\n",
       "      <td>1984</td>\n",
       "      <td>Pop, rock, R&amp;B</td>\n",
       "      <td>20.0</td>\n",
       "      <td>NaN</td>\n",
       "    </tr>\n",
       "    <tr>\n",
       "      <th>72</th>\n",
       "      <td>Tracy Chapman</td>\n",
       "      <td>Tracy Chapman</td>\n",
       "      <td>1988</td>\n",
       "      <td>Folk rock</td>\n",
       "      <td>20.0</td>\n",
       "      <td>NaN</td>\n",
       "    </tr>\n",
       "    <tr>\n",
       "      <th>73</th>\n",
       "      <td>Usher</td>\n",
       "      <td>Confessions</td>\n",
       "      <td>2004</td>\n",
       "      <td>R&amp;B</td>\n",
       "      <td>20.0</td>\n",
       "      <td>NaN</td>\n",
       "    </tr>\n",
       "    <tr>\n",
       "      <th>74</th>\n",
       "      <td>Various artists</td>\n",
       "      <td>Flashdance: Original Soundtrack from the Motio...</td>\n",
       "      <td>1983</td>\n",
       "      <td>Soundtrack</td>\n",
       "      <td>20.0</td>\n",
       "      <td>NaN</td>\n",
       "    </tr>\n",
       "    <tr>\n",
       "      <th>75</th>\n",
       "      <td>Whitney Houston</td>\n",
       "      <td>Whitney</td>\n",
       "      <td>1987</td>\n",
       "      <td>Pop, R&amp;B</td>\n",
       "      <td>20.0</td>\n",
       "      <td>NaN</td>\n",
       "    </tr>\n",
       "    <tr>\n",
       "      <th>76</th>\n",
       "      <td>Shakira</td>\n",
       "      <td>Laundry Service</td>\n",
       "      <td>2001</td>\n",
       "      <td>Pop, Rock</td>\n",
       "      <td>20.0</td>\n",
       "      <td>NaN</td>\n",
       "    </tr>\n",
       "  </tbody>\n",
       "</table>\n",
       "<p>77 rows × 6 columns</p>\n",
       "</div>"
      ],
      "text/plain": [
       "                               Artist  \\\n",
       "0                     Michael Jackson   \n",
       "1                               AC/DC   \n",
       "2                          Pink Floyd   \n",
       "3   Whitney Houston / Various artists   \n",
       "4                           Meat Loaf   \n",
       "5                              Eagles   \n",
       "6          Bee Gees / Various artists   \n",
       "7                       Fleetwood Mac   \n",
       "8                        Shania Twain   \n",
       "9                        Led Zeppelin   \n",
       "10                    Michael Jackson   \n",
       "11                  Alanis Morissette   \n",
       "12                        Celine Dion   \n",
       "13                        The Beatles   \n",
       "14                             Eagles   \n",
       "15                       Mariah Carey   \n",
       "16                    Michael Jackson   \n",
       "17                    Various artists   \n",
       "18                        Celine Dion   \n",
       "19                        The Beatles   \n",
       "20                              Adele   \n",
       "21                        The Beatles   \n",
       "22                  Bruce Springsteen   \n",
       "23                       Dire Straits   \n",
       "24                       James Horner   \n",
       "25                            Madonna   \n",
       "26                          Metallica   \n",
       "27                            Nirvana   \n",
       "28                         Pink Floyd   \n",
       "29                            Santana   \n",
       "..                                ...   \n",
       "47                    Whitney Houston   \n",
       "48                    Backstreet Boys   \n",
       "49                    Backstreet Boys   \n",
       "50                        Ace of Base   \n",
       "51                                TLC   \n",
       "52                       Cyndi Lauper   \n",
       "53                              Oasis   \n",
       "54                           Bon Jovi   \n",
       "55                             Eminem   \n",
       "56                              Adele   \n",
       "57                      Avril Lavigne   \n",
       "58                             Boston   \n",
       "59                     Britney Spears   \n",
       "60                       Eric Clapton   \n",
       "61                        Def Leppard   \n",
       "62                     George Michael   \n",
       "63                          Green Day   \n",
       "64                      Lionel Richie   \n",
       "65                    Michael Jackson   \n",
       "66                    Michael Jackson   \n",
       "67            Prince & the Revolution   \n",
       "68                       Shania Twain   \n",
       "69                       Shania Twain   \n",
       "70                         Supertramp   \n",
       "71                        Tina Turner   \n",
       "72                      Tracy Chapman   \n",
       "73                              Usher   \n",
       "74                    Various artists   \n",
       "75                    Whitney Houston   \n",
       "76                            Shakira   \n",
       "\n",
       "                                                Album  Released  \\\n",
       "0                                            Thriller      1982   \n",
       "1                                       Back in Black      1980   \n",
       "2                           The Dark Side of the Moon      1973   \n",
       "3                                       The Bodyguard      1992   \n",
       "4                                     Bat Out of Hell      1977   \n",
       "5                     Their Greatest Hits (1971–1975)      1976   \n",
       "6                                Saturday Night Fever      1977   \n",
       "7                                             Rumours      1977   \n",
       "8                                        Come On Over      1997   \n",
       "9                                     Led Zeppelin IV      1971   \n",
       "10                                                Bad      1987   \n",
       "11                                 Jagged Little Pill      1995   \n",
       "12                                   Falling into You      1996   \n",
       "13              Sgt. Pepper's Lonely Hearts Club Band      1967   \n",
       "14                                   Hotel California      1976   \n",
       "15                                          Music Box      1993   \n",
       "16                                          Dangerous      1991   \n",
       "17                                      Dirty Dancing      1987   \n",
       "18                              Let's Talk About Love      1997   \n",
       "19                                                  1      2000   \n",
       "20                                                 21      2011   \n",
       "21                                         Abbey Road      1969   \n",
       "22                                 Born in the U.S.A.      1984   \n",
       "23                                   Brothers in Arms      1985   \n",
       "24             Titanic: Music from the Motion Picture      1997   \n",
       "25                          The Immaculate Collection      1990   \n",
       "26                                          Metallica      1991   \n",
       "27                                          Nevermind      1991   \n",
       "28                                           The Wall      1979   \n",
       "29                                       Supernatural      1999   \n",
       "..                                                ...       ...   \n",
       "47                                    Whitney Houston      1985   \n",
       "48                Backstreet's Back / Backstreet Boys      1997   \n",
       "49                                         Millennium      1999   \n",
       "50                              Happy Nation/The Sign      1993   \n",
       "51                                      CrazySexyCool      1994   \n",
       "52                                   She's So Unusual      1983   \n",
       "53                  (What's the Story) Morning Glory?      1995   \n",
       "54                                         Cross Road      1994   \n",
       "55                            The Marshall Mathers LP      2000   \n",
       "56                                                 25      2015   \n",
       "57                                             Let Go      2002   \n",
       "58                                             Boston      1976   \n",
       "59                            Oops!... I Did It Again      2000   \n",
       "60                                          Unplugged      1992   \n",
       "61                                           Hysteria      1987   \n",
       "62                                              Faith      1987   \n",
       "63                                             Dookie      1994   \n",
       "64                                    Can't Slow Down      1983   \n",
       "65          HIStory: Past, Present and Future, Book I      1995   \n",
       "66                                       Off the Wall      1979   \n",
       "67                                        Purple Rain      1984   \n",
       "68                                    The Woman in Me      1995   \n",
       "69                                                Up!      2002   \n",
       "70                               Breakfast in America      1979   \n",
       "71                                     Private Dancer      1984   \n",
       "72                                      Tracy Chapman      1988   \n",
       "73                                        Confessions      2004   \n",
       "74  Flashdance: Original Soundtrack from the Motio...      1983   \n",
       "75                                            Whitney      1987   \n",
       "76                                    Laundry Service      2001   \n",
       "\n",
       "                                      Genre  Certified sales (millions)  \\\n",
       "0                            Pop, rock, R&B                        45.4   \n",
       "1                                 Hard rock                        25.9   \n",
       "2                          Progressive rock                        22.7   \n",
       "3                 Soundtrack/R&B, soul, pop                        27.4   \n",
       "4               Hard rock, progressive rock                        20.6   \n",
       "5                Rock, soft rock, folk rock                        32.2   \n",
       "6                                     Disco                        19.0   \n",
       "7                                 Soft rock                        27.9   \n",
       "8                              Country, pop                        29.6   \n",
       "9                    Hard rock, heavy metal                        29.0   \n",
       "10                          Pop, funk, rock                        20.3   \n",
       "11                         Alternative rock                        24.8   \n",
       "12                           Pop, Soft rock                        20.2   \n",
       "13                                     Rock                        13.1   \n",
       "14               Rock, soft rock, folk rock                        21.5   \n",
       "15                           Pop, R&B, Rock                        19.0   \n",
       "16                          Rock, Funk, Pop                        17.6   \n",
       "17                           Pop, rock, R&B                        17.9   \n",
       "18                           Pop, Soft rock                        19.3   \n",
       "19                                     Rock                        21.6   \n",
       "20                                Pop, soul                        22.3   \n",
       "21                                     Rock                        14.4   \n",
       "22                                     Rock                        19.6   \n",
       "23                                     Rock                        17.7   \n",
       "24                               Soundtrack                        18.1   \n",
       "25                               Pop, Dance                        19.4   \n",
       "26                Thrash metal, heavy metal                        19.9   \n",
       "27                 Grunge, alternative rock                        16.7   \n",
       "28                         Progressive rock                        17.6   \n",
       "29                                     Rock                        20.5   \n",
       "..                                      ...                         ...   \n",
       "47                                 Pop, R&B                        25.0   \n",
       "48                                      Pop                        24.0   \n",
       "49                                      Pop                        24.0   \n",
       "50                                      Pop                        23.0   \n",
       "51                             R&B, hip hop                        23.0   \n",
       "52             New wave, pop rock, synthpop                        22.0   \n",
       "53                            Britpop, rock                        22.0   \n",
       "54                                Hard rock                        21.0   \n",
       "55                             Rap, hip-hop                        21.0   \n",
       "56                           Soul, pop, R&B                        20.0   \n",
       "57  Pop rock, alternative rock, post-grunge                        20.0   \n",
       "58                                Hard rock                        20.0   \n",
       "59                                      Pop                        20.0   \n",
       "60                Acoustic blues, folk rock                        20.0   \n",
       "61                           Pop, Hard rock                        20.0   \n",
       "62                                 Pop, R&B                        20.0   \n",
       "63    Pop punk, punk rock, alternative rock                        20.0   \n",
       "64                           Pop, R&B, soul                        20.0   \n",
       "65                           Pop, rock, R&B                        20.0   \n",
       "66                         Soul, disco, R&B                        20.0   \n",
       "67                           Pop, rock, R&B                        20.0   \n",
       "68                             Country, pop                        20.0   \n",
       "69                Country, pop, world music                        20.0   \n",
       "70               Progressive rock, art rock                        20.0   \n",
       "71                           Pop, rock, R&B                        20.0   \n",
       "72                                Folk rock                        20.0   \n",
       "73                                      R&B                        20.0   \n",
       "74                               Soundtrack                        20.0   \n",
       "75                                 Pop, R&B                        20.0   \n",
       "76                                Pop, Rock                        20.0   \n",
       "\n",
       "    Claimed sales (millions)  \n",
       "0                       65.0  \n",
       "1                       50.0  \n",
       "2                       45.0  \n",
       "3                       44.0  \n",
       "4                       43.0  \n",
       "5                       42.0  \n",
       "6                       40.0  \n",
       "7                       40.0  \n",
       "8                       39.0  \n",
       "9                       37.0  \n",
       "10                      34.0  \n",
       "11                      33.0  \n",
       "12                      32.0  \n",
       "13                      32.0  \n",
       "14                      32.0  \n",
       "15                      32.0  \n",
       "16                      32.0  \n",
       "17                      32.0  \n",
       "18                      31.0  \n",
       "19                      31.0  \n",
       "20                      30.0  \n",
       "21                      30.0  \n",
       "22                      30.0  \n",
       "23                      30.0  \n",
       "24                      30.0  \n",
       "25                      30.0  \n",
       "26                      30.0  \n",
       "27                      30.0  \n",
       "28                      30.0  \n",
       "29                      30.0  \n",
       "..                       ...  \n",
       "47                       NaN  \n",
       "48                       NaN  \n",
       "49                       NaN  \n",
       "50                       NaN  \n",
       "51                       NaN  \n",
       "52                       NaN  \n",
       "53                       NaN  \n",
       "54                       NaN  \n",
       "55                       NaN  \n",
       "56                       NaN  \n",
       "57                       NaN  \n",
       "58                       NaN  \n",
       "59                       NaN  \n",
       "60                       NaN  \n",
       "61                       NaN  \n",
       "62                       NaN  \n",
       "63                       NaN  \n",
       "64                       NaN  \n",
       "65                       NaN  \n",
       "66                       NaN  \n",
       "67                       NaN  \n",
       "68                       NaN  \n",
       "69                       NaN  \n",
       "70                       NaN  \n",
       "71                       NaN  \n",
       "72                       NaN  \n",
       "73                       NaN  \n",
       "74                       NaN  \n",
       "75                       NaN  \n",
       "76                       NaN  \n",
       "\n",
       "[77 rows x 6 columns]"
      ]
     },
     "execution_count": 31,
     "metadata": {},
     "output_type": "execute_result"
    }
   ],
   "source": [
    "hit_albums = pd.read_csv(\"hit_albums.csv\")\n",
    "hit_albums"
   ]
  },
  {
   "cell_type": "markdown",
   "metadata": {},
   "source": [
    "Well, that was different! \n",
    "\n",
    "Pandas provides the insanely powerful ['read_csv()'](http://pandas.pydata.org/pandas-docs/stable/generated/pandas.read_csv.html) method - also see [this](http://pandas.pydata.org/pandas-docs/stable/io.html) for more info on all I/O operations in pandas, including writing CSV files. \n",
    "\n",
    "You can pass a lot of arguments to the method, such as delimiter, quote-chars, etc., but for our case the default parameters just worked. \n",
    "\n",
    "We've also just created our first data frame! Let's look at data frames in detail next. "
   ]
  },
  {
   "cell_type": "markdown",
   "metadata": {},
   "source": [
    "# 2. Data Frames\n",
    "\n",
    "A data frame is a column-oriented data structure where each column is a pandas series.\n",
    "\n",
    "Here is [a printable cheat sheet for pandas](https://drive.google.com/drive/u/0/folders/0ByIrJAE4KMTtaGhRcXkxNHhmY2M).\n",
    "\n",
    "We've already loaded a data frame from file, but for completeness sake, let's create one in code: "
   ]
  },
  {
   "cell_type": "code",
   "execution_count": 32,
   "metadata": {},
   "outputs": [
    {
     "data": {
      "text/html": [
       "<div>\n",
       "<style scoped>\n",
       "    .dataframe tbody tr th:only-of-type {\n",
       "        vertical-align: middle;\n",
       "    }\n",
       "\n",
       "    .dataframe tbody tr th {\n",
       "        vertical-align: top;\n",
       "    }\n",
       "\n",
       "    .dataframe thead th {\n",
       "        text-align: right;\n",
       "    }\n",
       "</style>\n",
       "<table border=\"1\" class=\"dataframe\">\n",
       "  <thead>\n",
       "    <tr style=\"text-align: right;\">\n",
       "      <th></th>\n",
       "      <th>Name</th>\n",
       "      <th>No Members</th>\n",
       "      <th>No Albums</th>\n",
       "    </tr>\n",
       "  </thead>\n",
       "  <tbody>\n",
       "    <tr>\n",
       "      <th>0</th>\n",
       "      <td>Led Zeppelin</td>\n",
       "      <td>4</td>\n",
       "      <td>9</td>\n",
       "    </tr>\n",
       "    <tr>\n",
       "      <th>1</th>\n",
       "      <td>The Beatles</td>\n",
       "      <td>4</td>\n",
       "      <td>12</td>\n",
       "    </tr>\n",
       "    <tr>\n",
       "      <th>2</th>\n",
       "      <td>Rolling Stones</td>\n",
       "      <td>4</td>\n",
       "      <td>29</td>\n",
       "    </tr>\n",
       "    <tr>\n",
       "      <th>3</th>\n",
       "      <td>Radiohead</td>\n",
       "      <td>5</td>\n",
       "      <td>9</td>\n",
       "    </tr>\n",
       "  </tbody>\n",
       "</table>\n",
       "</div>"
      ],
      "text/plain": [
       "             Name  No Members  No Albums\n",
       "0    Led Zeppelin           4          9\n",
       "1     The Beatles           4         12\n",
       "2  Rolling Stones           4         29\n",
       "3       Radiohead           5          9"
      ]
     },
     "execution_count": 32,
     "metadata": {},
     "output_type": "execute_result"
    }
   ],
   "source": [
    "bandInfo = pd.DataFrame({\n",
    "        \"Name\":[\"Led Zeppelin\", \"The Beatles\", \"Rolling Stones\", \"Radiohead\"],\n",
    "        \"No Members\":[4, 4, 4, 5],\n",
    "        \"No Albums\":[9, 12, 29 ,9]\n",
    "    })\n",
    "bandInfo\n"
   ]
  },
  {
   "cell_type": "markdown",
   "metadata": {},
   "source": [
    "This dataframe was initialized with a dictonary of column headers as keys and column data as values."
   ]
  },
  {
   "cell_type": "markdown",
   "metadata": {},
   "source": [
    "Just as a series, a data frame has an index, which corresponds to the first column here. In this case the index was automatically generated, but as for the series, we could use explicit values for the index. \n",
    "\n",
    "We can access columns in a data frame, which returns a series:"
   ]
  },
  {
   "cell_type": "code",
   "execution_count": 33,
   "metadata": {},
   "outputs": [
    {
     "data": {
      "text/plain": [
       "0      Led Zeppelin\n",
       "1       The Beatles\n",
       "2    Rolling Stones\n",
       "3         Radiohead\n",
       "Name: Name, dtype: object"
      ]
     },
     "execution_count": 33,
     "metadata": {},
     "output_type": "execute_result"
    }
   ],
   "source": [
    "bandInfo[\"Name\"]"
   ]
  },
  {
   "cell_type": "code",
   "execution_count": 34,
   "metadata": {},
   "outputs": [
    {
     "data": {
      "text/plain": [
       "pandas.core.series.Series"
      ]
     },
     "execution_count": 34,
     "metadata": {},
     "output_type": "execute_result"
    }
   ],
   "source": [
    "type(bandInfo[\"Name\"])"
   ]
  },
  {
   "cell_type": "markdown",
   "metadata": {},
   "source": [
    "And obviously, we can do all the things we've learned about to this column/series. "
   ]
  },
  {
   "cell_type": "markdown",
   "metadata": {},
   "source": [
    "The previous example used columns to create the data frame. We can also create a data frame from rows. This doesn't make a ton of sense in this example, but you could find the data coming out of a data source, like our CSV file, in that order. "
   ]
  },
  {
   "cell_type": "code",
   "execution_count": 35,
   "metadata": {},
   "outputs": [
    {
     "data": {
      "text/html": [
       "<div>\n",
       "<style scoped>\n",
       "    .dataframe tbody tr th:only-of-type {\n",
       "        vertical-align: middle;\n",
       "    }\n",
       "\n",
       "    .dataframe tbody tr th {\n",
       "        vertical-align: top;\n",
       "    }\n",
       "\n",
       "    .dataframe thead th {\n",
       "        text-align: right;\n",
       "    }\n",
       "</style>\n",
       "<table border=\"1\" class=\"dataframe\">\n",
       "  <thead>\n",
       "    <tr style=\"text-align: right;\">\n",
       "      <th></th>\n",
       "      <th>Name</th>\n",
       "      <th>No Albums</th>\n",
       "      <th>No Members</th>\n",
       "    </tr>\n",
       "  </thead>\n",
       "  <tbody>\n",
       "    <tr>\n",
       "      <th>0</th>\n",
       "      <td>Led Zeppelin</td>\n",
       "      <td>9</td>\n",
       "      <td>4</td>\n",
       "    </tr>\n",
       "    <tr>\n",
       "      <th>1</th>\n",
       "      <td>The Beatles</td>\n",
       "      <td>12</td>\n",
       "      <td>4</td>\n",
       "    </tr>\n",
       "    <tr>\n",
       "      <th>2</th>\n",
       "      <td>Rolling Stones</td>\n",
       "      <td>29</td>\n",
       "      <td>4</td>\n",
       "    </tr>\n",
       "    <tr>\n",
       "      <th>3</th>\n",
       "      <td>Radiohead</td>\n",
       "      <td>9</td>\n",
       "      <td>5</td>\n",
       "    </tr>\n",
       "  </tbody>\n",
       "</table>\n",
       "</div>"
      ],
      "text/plain": [
       "             Name  No Albums  No Members\n",
       "0    Led Zeppelin          9           4\n",
       "1     The Beatles         12           4\n",
       "2  Rolling Stones         29           4\n",
       "3       Radiohead          9           5"
      ]
     },
     "execution_count": 35,
     "metadata": {},
     "output_type": "execute_result"
    }
   ],
   "source": [
    "bandInfo2 = pd.DataFrame([\n",
    "        {\"Name\":\"Led Zeppelin\", \"No Albums\":9, \"No Members\":4},\n",
    "        {\"Name\":\"The Beatles\", \"No Albums\":12, \"No Members\":4},\n",
    "        {\"Name\":\"Rolling Stones\", \"No Albums\":29, \"No Members\":4},\n",
    "        {\"Name\":\"Radiohead\", \"No Albums\":9, \"No Members\":5},\n",
    "    ])\n",
    "bandInfo2"
   ]
  },
  {
   "cell_type": "markdown",
   "metadata": {},
   "source": [
    "While a series has only one axis, a dataframe has two, one for the rows (the index or '0' axis), one for the columns (the column or '1' axis). We can check out these axes:"
   ]
  },
  {
   "cell_type": "code",
   "execution_count": 36,
   "metadata": {},
   "outputs": [
    {
     "data": {
      "text/plain": [
       "[RangeIndex(start=0, stop=4, step=1),\n",
       " Index(['Name', 'No Members', 'No Albums'], dtype='object')]"
      ]
     },
     "execution_count": 36,
     "metadata": {},
     "output_type": "execute_result"
    }
   ],
   "source": [
    "bandInfo.axes"
   ]
  },
  {
   "cell_type": "markdown",
   "metadata": {},
   "source": [
    "We can access these axes directly:"
   ]
  },
  {
   "cell_type": "code",
   "execution_count": 37,
   "metadata": {},
   "outputs": [
    {
     "data": {
      "text/plain": [
       "RangeIndex(start=0, stop=4, step=1)"
      ]
     },
     "execution_count": 37,
     "metadata": {},
     "output_type": "execute_result"
    }
   ],
   "source": [
    "# The row axis\n",
    "bandInfo.axes[0]"
   ]
  },
  {
   "cell_type": "code",
   "execution_count": 38,
   "metadata": {},
   "outputs": [
    {
     "data": {
      "text/plain": [
       "Index(['Name', 'No Members', 'No Albums'], dtype='object')"
      ]
     },
     "execution_count": 38,
     "metadata": {},
     "output_type": "execute_result"
    }
   ],
   "source": [
    "# The columns axis\n",
    "bandInfo.axes[1]"
   ]
  },
  {
   "cell_type": "markdown",
   "metadata": {},
   "source": [
    "## Exploring Data Frames\n",
    "\n",
    "You might have noticed that data frames are rendered in nice HTML tables within Jupyter Notebooks. For small data frames, just showing all the data makes sense, but for larger datasets, like our `hit_albums` dataset, plotting 70+ rows can be annoying, and for datasets with hundreds or thousands of rows it can be prohibitive. By default, a data frame only prints a limited number of elements (notice the `...` in row 30 of the output of `hit_albums` above - only the first 30 and last 30 are printed. \n",
    "\n",
    "When working with data, e.g., when transforming or loading a dataset, it is important to see the raw data, for example, to check if a transformation was done correctly. Often, however, it's sufficient to see a part of the data, e.g., the first couple of rows and/or the last couple of rows. We can do this with the `head()` and `tail()` function:\n"
   ]
  },
  {
   "cell_type": "code",
   "execution_count": 39,
   "metadata": {},
   "outputs": [
    {
     "data": {
      "text/html": [
       "<div>\n",
       "<style scoped>\n",
       "    .dataframe tbody tr th:only-of-type {\n",
       "        vertical-align: middle;\n",
       "    }\n",
       "\n",
       "    .dataframe tbody tr th {\n",
       "        vertical-align: top;\n",
       "    }\n",
       "\n",
       "    .dataframe thead th {\n",
       "        text-align: right;\n",
       "    }\n",
       "</style>\n",
       "<table border=\"1\" class=\"dataframe\">\n",
       "  <thead>\n",
       "    <tr style=\"text-align: right;\">\n",
       "      <th></th>\n",
       "      <th>Artist</th>\n",
       "      <th>Album</th>\n",
       "      <th>Released</th>\n",
       "      <th>Genre</th>\n",
       "      <th>Certified sales (millions)</th>\n",
       "      <th>Claimed sales (millions)</th>\n",
       "    </tr>\n",
       "  </thead>\n",
       "  <tbody>\n",
       "    <tr>\n",
       "      <th>0</th>\n",
       "      <td>Michael Jackson</td>\n",
       "      <td>Thriller</td>\n",
       "      <td>1982</td>\n",
       "      <td>Pop, rock, R&amp;B</td>\n",
       "      <td>45.4</td>\n",
       "      <td>65.0</td>\n",
       "    </tr>\n",
       "    <tr>\n",
       "      <th>1</th>\n",
       "      <td>AC/DC</td>\n",
       "      <td>Back in Black</td>\n",
       "      <td>1980</td>\n",
       "      <td>Hard rock</td>\n",
       "      <td>25.9</td>\n",
       "      <td>50.0</td>\n",
       "    </tr>\n",
       "    <tr>\n",
       "      <th>2</th>\n",
       "      <td>Pink Floyd</td>\n",
       "      <td>The Dark Side of the Moon</td>\n",
       "      <td>1973</td>\n",
       "      <td>Progressive rock</td>\n",
       "      <td>22.7</td>\n",
       "      <td>45.0</td>\n",
       "    </tr>\n",
       "    <tr>\n",
       "      <th>3</th>\n",
       "      <td>Whitney Houston / Various artists</td>\n",
       "      <td>The Bodyguard</td>\n",
       "      <td>1992</td>\n",
       "      <td>Soundtrack/R&amp;B, soul, pop</td>\n",
       "      <td>27.4</td>\n",
       "      <td>44.0</td>\n",
       "    </tr>\n",
       "    <tr>\n",
       "      <th>4</th>\n",
       "      <td>Meat Loaf</td>\n",
       "      <td>Bat Out of Hell</td>\n",
       "      <td>1977</td>\n",
       "      <td>Hard rock, progressive rock</td>\n",
       "      <td>20.6</td>\n",
       "      <td>43.0</td>\n",
       "    </tr>\n",
       "  </tbody>\n",
       "</table>\n",
       "</div>"
      ],
      "text/plain": [
       "                              Artist                      Album  Released  \\\n",
       "0                    Michael Jackson                   Thriller      1982   \n",
       "1                              AC/DC              Back in Black      1980   \n",
       "2                         Pink Floyd  The Dark Side of the Moon      1973   \n",
       "3  Whitney Houston / Various artists              The Bodyguard      1992   \n",
       "4                          Meat Loaf            Bat Out of Hell      1977   \n",
       "\n",
       "                         Genre  Certified sales (millions)  \\\n",
       "0               Pop, rock, R&B                        45.4   \n",
       "1                    Hard rock                        25.9   \n",
       "2             Progressive rock                        22.7   \n",
       "3    Soundtrack/R&B, soul, pop                        27.4   \n",
       "4  Hard rock, progressive rock                        20.6   \n",
       "\n",
       "   Claimed sales (millions)  \n",
       "0                      65.0  \n",
       "1                      50.0  \n",
       "2                      45.0  \n",
       "3                      44.0  \n",
       "4                      43.0  "
      ]
     },
     "execution_count": 39,
     "metadata": {},
     "output_type": "execute_result"
    }
   ],
   "source": [
    "# head shows the first 5 rows of a datset\n",
    "hit_albums.head()"
   ]
  },
  {
   "cell_type": "code",
   "execution_count": 40,
   "metadata": {},
   "outputs": [
    {
     "data": {
      "text/html": [
       "<div>\n",
       "<style scoped>\n",
       "    .dataframe tbody tr th:only-of-type {\n",
       "        vertical-align: middle;\n",
       "    }\n",
       "\n",
       "    .dataframe tbody tr th {\n",
       "        vertical-align: top;\n",
       "    }\n",
       "\n",
       "    .dataframe thead th {\n",
       "        text-align: right;\n",
       "    }\n",
       "</style>\n",
       "<table border=\"1\" class=\"dataframe\">\n",
       "  <thead>\n",
       "    <tr style=\"text-align: right;\">\n",
       "      <th></th>\n",
       "      <th>Artist</th>\n",
       "      <th>Album</th>\n",
       "      <th>Released</th>\n",
       "      <th>Genre</th>\n",
       "      <th>Certified sales (millions)</th>\n",
       "      <th>Claimed sales (millions)</th>\n",
       "    </tr>\n",
       "  </thead>\n",
       "  <tbody>\n",
       "    <tr>\n",
       "      <th>0</th>\n",
       "      <td>Michael Jackson</td>\n",
       "      <td>Thriller</td>\n",
       "      <td>1982</td>\n",
       "      <td>Pop, rock, R&amp;B</td>\n",
       "      <td>45.4</td>\n",
       "      <td>65.0</td>\n",
       "    </tr>\n",
       "    <tr>\n",
       "      <th>1</th>\n",
       "      <td>AC/DC</td>\n",
       "      <td>Back in Black</td>\n",
       "      <td>1980</td>\n",
       "      <td>Hard rock</td>\n",
       "      <td>25.9</td>\n",
       "      <td>50.0</td>\n",
       "    </tr>\n",
       "    <tr>\n",
       "      <th>2</th>\n",
       "      <td>Pink Floyd</td>\n",
       "      <td>The Dark Side of the Moon</td>\n",
       "      <td>1973</td>\n",
       "      <td>Progressive rock</td>\n",
       "      <td>22.7</td>\n",
       "      <td>45.0</td>\n",
       "    </tr>\n",
       "    <tr>\n",
       "      <th>3</th>\n",
       "      <td>Whitney Houston / Various artists</td>\n",
       "      <td>The Bodyguard</td>\n",
       "      <td>1992</td>\n",
       "      <td>Soundtrack/R&amp;B, soul, pop</td>\n",
       "      <td>27.4</td>\n",
       "      <td>44.0</td>\n",
       "    </tr>\n",
       "    <tr>\n",
       "      <th>4</th>\n",
       "      <td>Meat Loaf</td>\n",
       "      <td>Bat Out of Hell</td>\n",
       "      <td>1977</td>\n",
       "      <td>Hard rock, progressive rock</td>\n",
       "      <td>20.6</td>\n",
       "      <td>43.0</td>\n",
       "    </tr>\n",
       "    <tr>\n",
       "      <th>5</th>\n",
       "      <td>Eagles</td>\n",
       "      <td>Their Greatest Hits (1971–1975)</td>\n",
       "      <td>1976</td>\n",
       "      <td>Rock, soft rock, folk rock</td>\n",
       "      <td>32.2</td>\n",
       "      <td>42.0</td>\n",
       "    </tr>\n",
       "    <tr>\n",
       "      <th>6</th>\n",
       "      <td>Bee Gees / Various artists</td>\n",
       "      <td>Saturday Night Fever</td>\n",
       "      <td>1977</td>\n",
       "      <td>Disco</td>\n",
       "      <td>19.0</td>\n",
       "      <td>40.0</td>\n",
       "    </tr>\n",
       "    <tr>\n",
       "      <th>7</th>\n",
       "      <td>Fleetwood Mac</td>\n",
       "      <td>Rumours</td>\n",
       "      <td>1977</td>\n",
       "      <td>Soft rock</td>\n",
       "      <td>27.9</td>\n",
       "      <td>40.0</td>\n",
       "    </tr>\n",
       "  </tbody>\n",
       "</table>\n",
       "</div>"
      ],
      "text/plain": [
       "                              Artist                            Album  \\\n",
       "0                    Michael Jackson                         Thriller   \n",
       "1                              AC/DC                    Back in Black   \n",
       "2                         Pink Floyd        The Dark Side of the Moon   \n",
       "3  Whitney Houston / Various artists                    The Bodyguard   \n",
       "4                          Meat Loaf                  Bat Out of Hell   \n",
       "5                             Eagles  Their Greatest Hits (1971–1975)   \n",
       "6         Bee Gees / Various artists             Saturday Night Fever   \n",
       "7                      Fleetwood Mac                          Rumours   \n",
       "\n",
       "   Released                        Genre  Certified sales (millions)  \\\n",
       "0      1982               Pop, rock, R&B                        45.4   \n",
       "1      1980                    Hard rock                        25.9   \n",
       "2      1973             Progressive rock                        22.7   \n",
       "3      1992    Soundtrack/R&B, soul, pop                        27.4   \n",
       "4      1977  Hard rock, progressive rock                        20.6   \n",
       "5      1976   Rock, soft rock, folk rock                        32.2   \n",
       "6      1977                        Disco                        19.0   \n",
       "7      1977                    Soft rock                        27.9   \n",
       "\n",
       "   Claimed sales (millions)  \n",
       "0                      65.0  \n",
       "1                      50.0  \n",
       "2                      45.0  \n",
       "3                      44.0  \n",
       "4                      43.0  \n",
       "5                      42.0  \n",
       "6                      40.0  \n",
       "7                      40.0  "
      ]
     },
     "execution_count": 40,
     "metadata": {},
     "output_type": "execute_result"
    }
   ],
   "source": [
    "# we can specify how much to show\n",
    "hit_albums.head(8)"
   ]
  },
  {
   "cell_type": "code",
   "execution_count": 41,
   "metadata": {},
   "outputs": [
    {
     "data": {
      "text/html": [
       "<div>\n",
       "<style scoped>\n",
       "    .dataframe tbody tr th:only-of-type {\n",
       "        vertical-align: middle;\n",
       "    }\n",
       "\n",
       "    .dataframe tbody tr th {\n",
       "        vertical-align: top;\n",
       "    }\n",
       "\n",
       "    .dataframe thead th {\n",
       "        text-align: right;\n",
       "    }\n",
       "</style>\n",
       "<table border=\"1\" class=\"dataframe\">\n",
       "  <thead>\n",
       "    <tr style=\"text-align: right;\">\n",
       "      <th></th>\n",
       "      <th>Artist</th>\n",
       "      <th>Album</th>\n",
       "      <th>Released</th>\n",
       "      <th>Genre</th>\n",
       "      <th>Certified sales (millions)</th>\n",
       "      <th>Claimed sales (millions)</th>\n",
       "    </tr>\n",
       "  </thead>\n",
       "  <tbody>\n",
       "    <tr>\n",
       "      <th>72</th>\n",
       "      <td>Tracy Chapman</td>\n",
       "      <td>Tracy Chapman</td>\n",
       "      <td>1988</td>\n",
       "      <td>Folk rock</td>\n",
       "      <td>20.0</td>\n",
       "      <td>NaN</td>\n",
       "    </tr>\n",
       "    <tr>\n",
       "      <th>73</th>\n",
       "      <td>Usher</td>\n",
       "      <td>Confessions</td>\n",
       "      <td>2004</td>\n",
       "      <td>R&amp;B</td>\n",
       "      <td>20.0</td>\n",
       "      <td>NaN</td>\n",
       "    </tr>\n",
       "    <tr>\n",
       "      <th>74</th>\n",
       "      <td>Various artists</td>\n",
       "      <td>Flashdance: Original Soundtrack from the Motio...</td>\n",
       "      <td>1983</td>\n",
       "      <td>Soundtrack</td>\n",
       "      <td>20.0</td>\n",
       "      <td>NaN</td>\n",
       "    </tr>\n",
       "    <tr>\n",
       "      <th>75</th>\n",
       "      <td>Whitney Houston</td>\n",
       "      <td>Whitney</td>\n",
       "      <td>1987</td>\n",
       "      <td>Pop, R&amp;B</td>\n",
       "      <td>20.0</td>\n",
       "      <td>NaN</td>\n",
       "    </tr>\n",
       "    <tr>\n",
       "      <th>76</th>\n",
       "      <td>Shakira</td>\n",
       "      <td>Laundry Service</td>\n",
       "      <td>2001</td>\n",
       "      <td>Pop, Rock</td>\n",
       "      <td>20.0</td>\n",
       "      <td>NaN</td>\n",
       "    </tr>\n",
       "  </tbody>\n",
       "</table>\n",
       "</div>"
      ],
      "text/plain": [
       "             Artist                                              Album  \\\n",
       "72    Tracy Chapman                                      Tracy Chapman   \n",
       "73            Usher                                        Confessions   \n",
       "74  Various artists  Flashdance: Original Soundtrack from the Motio...   \n",
       "75  Whitney Houston                                            Whitney   \n",
       "76          Shakira                                    Laundry Service   \n",
       "\n",
       "    Released       Genre  Certified sales (millions)  Claimed sales (millions)  \n",
       "72      1988   Folk rock                        20.0                       NaN  \n",
       "73      2004         R&B                        20.0                       NaN  \n",
       "74      1983  Soundtrack                        20.0                       NaN  \n",
       "75      1987    Pop, R&B                        20.0                       NaN  \n",
       "76      2001   Pop, Rock                        20.0                       NaN  "
      ]
     },
     "execution_count": 41,
     "metadata": {},
     "output_type": "execute_result"
    }
   ],
   "source": [
    "# tail shows the last five rows in a datasaet\n",
    "hit_albums.tail()"
   ]
  },
  {
   "cell_type": "markdown",
   "metadata": {},
   "source": [
    "We can check out the dimensions of the data frame:"
   ]
  },
  {
   "cell_type": "code",
   "execution_count": 42,
   "metadata": {},
   "outputs": [
    {
     "data": {
      "text/plain": [
       "(77, 6)"
      ]
     },
     "execution_count": 42,
     "metadata": {},
     "output_type": "execute_result"
    }
   ],
   "source": [
    "hit_albums.shape"
   ]
  },
  {
   "cell_type": "markdown",
   "metadata": {},
   "source": [
    "Here we learn that our dataset has 77 rows and 6 columns.\n",
    "\n",
    "We can also get more info about the dataset using the info method, which is especially helpful to see the data types of the columns:"
   ]
  },
  {
   "cell_type": "code",
   "execution_count": 43,
   "metadata": {},
   "outputs": [
    {
     "name": "stdout",
     "output_type": "stream",
     "text": [
      "<class 'pandas.core.frame.DataFrame'>\n",
      "RangeIndex: 77 entries, 0 to 76\n",
      "Data columns (total 6 columns):\n",
      "Artist                        77 non-null object\n",
      "Album                         77 non-null object\n",
      "Released                      77 non-null int64\n",
      "Genre                         77 non-null object\n",
      "Certified sales (millions)    77 non-null float64\n",
      "Claimed sales (millions)      31 non-null float64\n",
      "dtypes: float64(2), int64(1), object(3)\n",
      "memory usage: 3.7+ KB\n"
     ]
    }
   ],
   "source": [
    "hit_albums.info()"
   ]
  },
  {
   "cell_type": "markdown",
   "metadata": {},
   "source": [
    "As for series, we can get a rough description of the numerical values of the dataset."
   ]
  },
  {
   "cell_type": "code",
   "execution_count": 44,
   "metadata": {},
   "outputs": [
    {
     "data": {
      "text/html": [
       "<div>\n",
       "<style scoped>\n",
       "    .dataframe tbody tr th:only-of-type {\n",
       "        vertical-align: middle;\n",
       "    }\n",
       "\n",
       "    .dataframe tbody tr th {\n",
       "        vertical-align: top;\n",
       "    }\n",
       "\n",
       "    .dataframe thead th {\n",
       "        text-align: right;\n",
       "    }\n",
       "</style>\n",
       "<table border=\"1\" class=\"dataframe\">\n",
       "  <thead>\n",
       "    <tr style=\"text-align: right;\">\n",
       "      <th></th>\n",
       "      <th>Released</th>\n",
       "      <th>Certified sales (millions)</th>\n",
       "      <th>Claimed sales (millions)</th>\n",
       "    </tr>\n",
       "  </thead>\n",
       "  <tbody>\n",
       "    <tr>\n",
       "      <th>count</th>\n",
       "      <td>77.000000</td>\n",
       "      <td>77.000000</td>\n",
       "      <td>31.000000</td>\n",
       "    </tr>\n",
       "    <tr>\n",
       "      <th>mean</th>\n",
       "      <td>1988.662338</td>\n",
       "      <td>22.409091</td>\n",
       "      <td>35.354839</td>\n",
       "    </tr>\n",
       "    <tr>\n",
       "      <th>std</th>\n",
       "      <td>9.949359</td>\n",
       "      <td>4.521620</td>\n",
       "      <td>7.855140</td>\n",
       "    </tr>\n",
       "    <tr>\n",
       "      <th>min</th>\n",
       "      <td>1967.000000</td>\n",
       "      <td>13.100000</td>\n",
       "      <td>30.000000</td>\n",
       "    </tr>\n",
       "    <tr>\n",
       "      <th>25%</th>\n",
       "      <td>1983.000000</td>\n",
       "      <td>20.000000</td>\n",
       "      <td>30.000000</td>\n",
       "    </tr>\n",
       "    <tr>\n",
       "      <th>50%</th>\n",
       "      <td>1987.000000</td>\n",
       "      <td>20.600000</td>\n",
       "      <td>32.000000</td>\n",
       "    </tr>\n",
       "    <tr>\n",
       "      <th>75%</th>\n",
       "      <td>1996.000000</td>\n",
       "      <td>25.000000</td>\n",
       "      <td>39.500000</td>\n",
       "    </tr>\n",
       "    <tr>\n",
       "      <th>max</th>\n",
       "      <td>2015.000000</td>\n",
       "      <td>45.400000</td>\n",
       "      <td>65.000000</td>\n",
       "    </tr>\n",
       "  </tbody>\n",
       "</table>\n",
       "</div>"
      ],
      "text/plain": [
       "          Released  Certified sales (millions)  Claimed sales (millions)\n",
       "count    77.000000                   77.000000                 31.000000\n",
       "mean   1988.662338                   22.409091                 35.354839\n",
       "std       9.949359                    4.521620                  7.855140\n",
       "min    1967.000000                   13.100000                 30.000000\n",
       "25%    1983.000000                   20.000000                 30.000000\n",
       "50%    1987.000000                   20.600000                 32.000000\n",
       "75%    1996.000000                   25.000000                 39.500000\n",
       "max    2015.000000                   45.400000                 65.000000"
      ]
     },
     "execution_count": 44,
     "metadata": {},
     "output_type": "execute_result"
    }
   ],
   "source": [
    "hit_albums.describe()"
   ]
  },
  {
   "cell_type": "markdown",
   "metadata": {},
   "source": [
    "We don't see any descriptions of the columns of non-numerical type. We can, however, get a summary by directly accessing a column:"
   ]
  },
  {
   "cell_type": "code",
   "execution_count": 45,
   "metadata": {},
   "outputs": [
    {
     "data": {
      "text/plain": [
       "count                  77\n",
       "unique                 56\n",
       "top       Michael Jackson\n",
       "freq                    5\n",
       "Name: Artist, dtype: object"
      ]
     },
     "execution_count": 45,
     "metadata": {},
     "output_type": "execute_result"
    }
   ],
   "source": [
    "hit_albums[\"Artist\"].describe()"
   ]
  },
  {
   "cell_type": "markdown",
   "metadata": {},
   "source": [
    "Here we can see that Michael Jackson is the top artist in this list, with five albums. Are there other artists with multiple albums in the list? We can answer that question with the value_counts() method:"
   ]
  },
  {
   "cell_type": "code",
   "execution_count": 46,
   "metadata": {},
   "outputs": [
    {
     "data": {
      "text/plain": [
       "Michael Jackson                      5\n",
       "The Beatles                          3\n",
       "Shania Twain                         3\n",
       "Various artists                      3\n",
       "Madonna                              3\n",
       "Adele                                2\n",
       "Backstreet Boys                      2\n",
       "Whitney Houston                      2\n",
       "Bon Jovi                             2\n",
       "Pink Floyd                           2\n",
       "Mariah Carey                         2\n",
       "Celine Dion                          2\n",
       "Eagles                               2\n",
       "Britney Spears                       2\n",
       "Tina Turner                          1\n",
       "Simon & Garfunkel                    1\n",
       "Meat Loaf                            1\n",
       "Boston                               1\n",
       "Cyndi Lauper                         1\n",
       "Linkin Park                          1\n",
       "Guns N' Roses                        1\n",
       "Tracy Chapman                        1\n",
       "Supertramp                           1\n",
       "AC/DC                                1\n",
       "Green Day                            1\n",
       "Alanis Morissette                    1\n",
       "James Horner                         1\n",
       "Bob Marley & The Wailers             1\n",
       "Eminem                               1\n",
       "Eric Clapton                         1\n",
       "Ace of Base                          1\n",
       "Whitney Houston / Various artists    1\n",
       "Queen                                1\n",
       "Def Leppard                          1\n",
       "Norah Jones                          1\n",
       "Phil Collins                         1\n",
       "Bee Gees / Various artists           1\n",
       "Lionel Richie                        1\n",
       "TLC                                  1\n",
       "Metallica                            1\n",
       "Avril Lavigne                        1\n",
       "George Michael                       1\n",
       "Shakira                              1\n",
       "Carole King                          1\n",
       "Nirvana                              1\n",
       "Prince & the Revolution              1\n",
       "Dire Straits                         1\n",
       "Bruce Springsteen                    1\n",
       "Santana                              1\n",
       "ABBA                                 1\n",
       "Fleetwood Mac                        1\n",
       "Oasis                                1\n",
       "Led Zeppelin                         1\n",
       "U2                                   1\n",
       "Usher                                1\n",
       "Spice Girls                          1\n",
       "Name: Artist, dtype: int64"
      ]
     },
     "execution_count": 46,
     "metadata": {},
     "output_type": "execute_result"
    }
   ],
   "source": [
    "hit_albums[\"Artist\"].value_counts()"
   ]
  },
  {
   "cell_type": "markdown",
   "metadata": {},
   "source": [
    "We can look at whether the numerical columns in our data frame are correlated using the [`corr()`](http://pandas.pydata.org/pandas-docs/stable/generated/pandas.DataFrame.corr.html) method. By default, this calculates a Pearson correlation between the column, excluding NaN values. Not surprisingly, we see a rather strong correlation (0.81) between certified and claimed sales. "
   ]
  },
  {
   "cell_type": "code",
   "execution_count": 47,
   "metadata": {},
   "outputs": [
    {
     "data": {
      "text/html": [
       "<div>\n",
       "<style scoped>\n",
       "    .dataframe tbody tr th:only-of-type {\n",
       "        vertical-align: middle;\n",
       "    }\n",
       "\n",
       "    .dataframe tbody tr th {\n",
       "        vertical-align: top;\n",
       "    }\n",
       "\n",
       "    .dataframe thead th {\n",
       "        text-align: right;\n",
       "    }\n",
       "</style>\n",
       "<table border=\"1\" class=\"dataframe\">\n",
       "  <thead>\n",
       "    <tr style=\"text-align: right;\">\n",
       "      <th></th>\n",
       "      <th>Released</th>\n",
       "      <th>Certified sales (millions)</th>\n",
       "      <th>Claimed sales (millions)</th>\n",
       "    </tr>\n",
       "  </thead>\n",
       "  <tbody>\n",
       "    <tr>\n",
       "      <th>Released</th>\n",
       "      <td>1.000000</td>\n",
       "      <td>-0.052109</td>\n",
       "      <td>-0.320593</td>\n",
       "    </tr>\n",
       "    <tr>\n",
       "      <th>Certified sales (millions)</th>\n",
       "      <td>-0.052109</td>\n",
       "      <td>1.000000</td>\n",
       "      <td>0.810280</td>\n",
       "    </tr>\n",
       "    <tr>\n",
       "      <th>Claimed sales (millions)</th>\n",
       "      <td>-0.320593</td>\n",
       "      <td>0.810280</td>\n",
       "      <td>1.000000</td>\n",
       "    </tr>\n",
       "  </tbody>\n",
       "</table>\n",
       "</div>"
      ],
      "text/plain": [
       "                            Released  Certified sales (millions)  \\\n",
       "Released                    1.000000                   -0.052109   \n",
       "Certified sales (millions) -0.052109                    1.000000   \n",
       "Claimed sales (millions)   -0.320593                    0.810280   \n",
       "\n",
       "                            Claimed sales (millions)  \n",
       "Released                                   -0.320593  \n",
       "Certified sales (millions)                  0.810280  \n",
       "Claimed sales (millions)                    1.000000  "
      ]
     },
     "execution_count": 47,
     "metadata": {},
     "output_type": "execute_result"
    }
   ],
   "source": [
    "hit_albums.corr()"
   ]
  },
  {
   "cell_type": "markdown",
   "metadata": {},
   "source": [
    "We can also do transpose a dataframe:"
   ]
  },
  {
   "cell_type": "code",
   "execution_count": 48,
   "metadata": {},
   "outputs": [
    {
     "data": {
      "text/html": [
       "<div>\n",
       "<style scoped>\n",
       "    .dataframe tbody tr th:only-of-type {\n",
       "        vertical-align: middle;\n",
       "    }\n",
       "\n",
       "    .dataframe tbody tr th {\n",
       "        vertical-align: top;\n",
       "    }\n",
       "\n",
       "    .dataframe thead th {\n",
       "        text-align: right;\n",
       "    }\n",
       "</style>\n",
       "<table border=\"1\" class=\"dataframe\">\n",
       "  <thead>\n",
       "    <tr style=\"text-align: right;\">\n",
       "      <th></th>\n",
       "      <th>0</th>\n",
       "      <th>1</th>\n",
       "      <th>2</th>\n",
       "      <th>3</th>\n",
       "      <th>4</th>\n",
       "      <th>5</th>\n",
       "      <th>6</th>\n",
       "      <th>7</th>\n",
       "      <th>8</th>\n",
       "      <th>9</th>\n",
       "      <th>...</th>\n",
       "      <th>67</th>\n",
       "      <th>68</th>\n",
       "      <th>69</th>\n",
       "      <th>70</th>\n",
       "      <th>71</th>\n",
       "      <th>72</th>\n",
       "      <th>73</th>\n",
       "      <th>74</th>\n",
       "      <th>75</th>\n",
       "      <th>76</th>\n",
       "    </tr>\n",
       "  </thead>\n",
       "  <tbody>\n",
       "    <tr>\n",
       "      <th>Artist</th>\n",
       "      <td>Michael Jackson</td>\n",
       "      <td>AC/DC</td>\n",
       "      <td>Pink Floyd</td>\n",
       "      <td>Whitney Houston / Various artists</td>\n",
       "      <td>Meat Loaf</td>\n",
       "      <td>Eagles</td>\n",
       "      <td>Bee Gees / Various artists</td>\n",
       "      <td>Fleetwood Mac</td>\n",
       "      <td>Shania Twain</td>\n",
       "      <td>Led Zeppelin</td>\n",
       "      <td>...</td>\n",
       "      <td>Prince &amp; the Revolution</td>\n",
       "      <td>Shania Twain</td>\n",
       "      <td>Shania Twain</td>\n",
       "      <td>Supertramp</td>\n",
       "      <td>Tina Turner</td>\n",
       "      <td>Tracy Chapman</td>\n",
       "      <td>Usher</td>\n",
       "      <td>Various artists</td>\n",
       "      <td>Whitney Houston</td>\n",
       "      <td>Shakira</td>\n",
       "    </tr>\n",
       "    <tr>\n",
       "      <th>Album</th>\n",
       "      <td>Thriller</td>\n",
       "      <td>Back in Black</td>\n",
       "      <td>The Dark Side of the Moon</td>\n",
       "      <td>The Bodyguard</td>\n",
       "      <td>Bat Out of Hell</td>\n",
       "      <td>Their Greatest Hits (1971–1975)</td>\n",
       "      <td>Saturday Night Fever</td>\n",
       "      <td>Rumours</td>\n",
       "      <td>Come On Over</td>\n",
       "      <td>Led Zeppelin IV</td>\n",
       "      <td>...</td>\n",
       "      <td>Purple Rain</td>\n",
       "      <td>The Woman in Me</td>\n",
       "      <td>Up!</td>\n",
       "      <td>Breakfast in America</td>\n",
       "      <td>Private Dancer</td>\n",
       "      <td>Tracy Chapman</td>\n",
       "      <td>Confessions</td>\n",
       "      <td>Flashdance: Original Soundtrack from the Motio...</td>\n",
       "      <td>Whitney</td>\n",
       "      <td>Laundry Service</td>\n",
       "    </tr>\n",
       "    <tr>\n",
       "      <th>Released</th>\n",
       "      <td>1982</td>\n",
       "      <td>1980</td>\n",
       "      <td>1973</td>\n",
       "      <td>1992</td>\n",
       "      <td>1977</td>\n",
       "      <td>1976</td>\n",
       "      <td>1977</td>\n",
       "      <td>1977</td>\n",
       "      <td>1997</td>\n",
       "      <td>1971</td>\n",
       "      <td>...</td>\n",
       "      <td>1984</td>\n",
       "      <td>1995</td>\n",
       "      <td>2002</td>\n",
       "      <td>1979</td>\n",
       "      <td>1984</td>\n",
       "      <td>1988</td>\n",
       "      <td>2004</td>\n",
       "      <td>1983</td>\n",
       "      <td>1987</td>\n",
       "      <td>2001</td>\n",
       "    </tr>\n",
       "    <tr>\n",
       "      <th>Genre</th>\n",
       "      <td>Pop, rock, R&amp;B</td>\n",
       "      <td>Hard rock</td>\n",
       "      <td>Progressive rock</td>\n",
       "      <td>Soundtrack/R&amp;B, soul, pop</td>\n",
       "      <td>Hard rock, progressive rock</td>\n",
       "      <td>Rock, soft rock, folk rock</td>\n",
       "      <td>Disco</td>\n",
       "      <td>Soft rock</td>\n",
       "      <td>Country, pop</td>\n",
       "      <td>Hard rock, heavy metal</td>\n",
       "      <td>...</td>\n",
       "      <td>Pop, rock, R&amp;B</td>\n",
       "      <td>Country, pop</td>\n",
       "      <td>Country, pop, world music</td>\n",
       "      <td>Progressive rock, art rock</td>\n",
       "      <td>Pop, rock, R&amp;B</td>\n",
       "      <td>Folk rock</td>\n",
       "      <td>R&amp;B</td>\n",
       "      <td>Soundtrack</td>\n",
       "      <td>Pop, R&amp;B</td>\n",
       "      <td>Pop, Rock</td>\n",
       "    </tr>\n",
       "    <tr>\n",
       "      <th>Certified sales (millions)</th>\n",
       "      <td>45.4</td>\n",
       "      <td>25.9</td>\n",
       "      <td>22.7</td>\n",
       "      <td>27.4</td>\n",
       "      <td>20.6</td>\n",
       "      <td>32.2</td>\n",
       "      <td>19</td>\n",
       "      <td>27.9</td>\n",
       "      <td>29.6</td>\n",
       "      <td>29</td>\n",
       "      <td>...</td>\n",
       "      <td>20</td>\n",
       "      <td>20</td>\n",
       "      <td>20</td>\n",
       "      <td>20</td>\n",
       "      <td>20</td>\n",
       "      <td>20</td>\n",
       "      <td>20</td>\n",
       "      <td>20</td>\n",
       "      <td>20</td>\n",
       "      <td>20</td>\n",
       "    </tr>\n",
       "    <tr>\n",
       "      <th>Claimed sales (millions)</th>\n",
       "      <td>65</td>\n",
       "      <td>50</td>\n",
       "      <td>45</td>\n",
       "      <td>44</td>\n",
       "      <td>43</td>\n",
       "      <td>42</td>\n",
       "      <td>40</td>\n",
       "      <td>40</td>\n",
       "      <td>39</td>\n",
       "      <td>37</td>\n",
       "      <td>...</td>\n",
       "      <td>NaN</td>\n",
       "      <td>NaN</td>\n",
       "      <td>NaN</td>\n",
       "      <td>NaN</td>\n",
       "      <td>NaN</td>\n",
       "      <td>NaN</td>\n",
       "      <td>NaN</td>\n",
       "      <td>NaN</td>\n",
       "      <td>NaN</td>\n",
       "      <td>NaN</td>\n",
       "    </tr>\n",
       "  </tbody>\n",
       "</table>\n",
       "<p>6 rows × 77 columns</p>\n",
       "</div>"
      ],
      "text/plain": [
       "                                         0              1   \\\n",
       "Artist                      Michael Jackson          AC/DC   \n",
       "Album                              Thriller  Back in Black   \n",
       "Released                               1982           1980   \n",
       "Genre                        Pop, rock, R&B      Hard rock   \n",
       "Certified sales (millions)             45.4           25.9   \n",
       "Claimed sales (millions)                 65             50   \n",
       "\n",
       "                                                   2   \\\n",
       "Artist                                     Pink Floyd   \n",
       "Album                       The Dark Side of the Moon   \n",
       "Released                                         1973   \n",
       "Genre                                Progressive rock   \n",
       "Certified sales (millions)                       22.7   \n",
       "Claimed sales (millions)                           45   \n",
       "\n",
       "                                                           3   \\\n",
       "Artist                      Whitney Houston / Various artists   \n",
       "Album                                           The Bodyguard   \n",
       "Released                                                 1992   \n",
       "Genre                               Soundtrack/R&B, soul, pop   \n",
       "Certified sales (millions)                               27.4   \n",
       "Claimed sales (millions)                                   44   \n",
       "\n",
       "                                                     4   \\\n",
       "Artist                                        Meat Loaf   \n",
       "Album                                   Bat Out of Hell   \n",
       "Released                                           1977   \n",
       "Genre                       Hard rock, progressive rock   \n",
       "Certified sales (millions)                         20.6   \n",
       "Claimed sales (millions)                             43   \n",
       "\n",
       "                                                         5   \\\n",
       "Artist                                               Eagles   \n",
       "Album                       Their Greatest Hits (1971–1975)   \n",
       "Released                                               1976   \n",
       "Genre                            Rock, soft rock, folk rock   \n",
       "Certified sales (millions)                             32.2   \n",
       "Claimed sales (millions)                                 42   \n",
       "\n",
       "                                                    6              7   \\\n",
       "Artist                      Bee Gees / Various artists  Fleetwood Mac   \n",
       "Album                             Saturday Night Fever        Rumours   \n",
       "Released                                          1977           1977   \n",
       "Genre                                            Disco      Soft rock   \n",
       "Certified sales (millions)                          19           27.9   \n",
       "Claimed sales (millions)                            40             40   \n",
       "\n",
       "                                      8                       9   \\\n",
       "Artist                      Shania Twain            Led Zeppelin   \n",
       "Album                       Come On Over         Led Zeppelin IV   \n",
       "Released                            1997                    1971   \n",
       "Genre                       Country, pop  Hard rock, heavy metal   \n",
       "Certified sales (millions)          29.6                      29   \n",
       "Claimed sales (millions)              39                      37   \n",
       "\n",
       "                                 ...                              67  \\\n",
       "Artist                           ...         Prince & the Revolution   \n",
       "Album                            ...                     Purple Rain   \n",
       "Released                         ...                            1984   \n",
       "Genre                            ...                  Pop, rock, R&B   \n",
       "Certified sales (millions)       ...                              20   \n",
       "Claimed sales (millions)         ...                             NaN   \n",
       "\n",
       "                                         68                         69  \\\n",
       "Artist                         Shania Twain               Shania Twain   \n",
       "Album                       The Woman in Me                        Up!   \n",
       "Released                               1995                       2002   \n",
       "Genre                          Country, pop  Country, pop, world music   \n",
       "Certified sales (millions)               20                         20   \n",
       "Claimed sales (millions)                NaN                        NaN   \n",
       "\n",
       "                                                    70              71  \\\n",
       "Artist                                      Supertramp     Tina Turner   \n",
       "Album                             Breakfast in America  Private Dancer   \n",
       "Released                                          1979            1984   \n",
       "Genre                       Progressive rock, art rock  Pop, rock, R&B   \n",
       "Certified sales (millions)                          20              20   \n",
       "Claimed sales (millions)                           NaN             NaN   \n",
       "\n",
       "                                       72           73  \\\n",
       "Artist                      Tracy Chapman        Usher   \n",
       "Album                       Tracy Chapman  Confessions   \n",
       "Released                             1988         2004   \n",
       "Genre                           Folk rock          R&B   \n",
       "Certified sales (millions)             20           20   \n",
       "Claimed sales (millions)              NaN          NaN   \n",
       "\n",
       "                                                                           74  \\\n",
       "Artist                                                        Various artists   \n",
       "Album                       Flashdance: Original Soundtrack from the Motio...   \n",
       "Released                                                                 1983   \n",
       "Genre                                                              Soundtrack   \n",
       "Certified sales (millions)                                                 20   \n",
       "Claimed sales (millions)                                                  NaN   \n",
       "\n",
       "                                         75               76  \n",
       "Artist                      Whitney Houston          Shakira  \n",
       "Album                               Whitney  Laundry Service  \n",
       "Released                               1987             2001  \n",
       "Genre                              Pop, R&B        Pop, Rock  \n",
       "Certified sales (millions)               20               20  \n",
       "Claimed sales (millions)                NaN              NaN  \n",
       "\n",
       "[6 rows x 77 columns]"
      ]
     },
     "execution_count": 48,
     "metadata": {},
     "output_type": "execute_result"
    }
   ],
   "source": [
    "hit_albums.T"
   ]
  },
  {
   "cell_type": "markdown",
   "metadata": {},
   "source": [
    "### Slicing Data Frames\n",
    "\n",
    "A common task is to create subsets of a dataframe. \n",
    "\n",
    "We can explicitly define the the columns we want by their lables:"
   ]
  },
  {
   "cell_type": "code",
   "execution_count": 49,
   "metadata": {},
   "outputs": [
    {
     "data": {
      "text/html": [
       "<div>\n",
       "<style scoped>\n",
       "    .dataframe tbody tr th:only-of-type {\n",
       "        vertical-align: middle;\n",
       "    }\n",
       "\n",
       "    .dataframe tbody tr th {\n",
       "        vertical-align: top;\n",
       "    }\n",
       "\n",
       "    .dataframe thead th {\n",
       "        text-align: right;\n",
       "    }\n",
       "</style>\n",
       "<table border=\"1\" class=\"dataframe\">\n",
       "  <thead>\n",
       "    <tr style=\"text-align: right;\">\n",
       "      <th></th>\n",
       "      <th>Artist</th>\n",
       "      <th>Certified sales (millions)</th>\n",
       "      <th>Claimed sales (millions)</th>\n",
       "    </tr>\n",
       "  </thead>\n",
       "  <tbody>\n",
       "    <tr>\n",
       "      <th>0</th>\n",
       "      <td>Michael Jackson</td>\n",
       "      <td>45.4</td>\n",
       "      <td>65.0</td>\n",
       "    </tr>\n",
       "    <tr>\n",
       "      <th>1</th>\n",
       "      <td>AC/DC</td>\n",
       "      <td>25.9</td>\n",
       "      <td>50.0</td>\n",
       "    </tr>\n",
       "    <tr>\n",
       "      <th>2</th>\n",
       "      <td>Pink Floyd</td>\n",
       "      <td>22.7</td>\n",
       "      <td>45.0</td>\n",
       "    </tr>\n",
       "    <tr>\n",
       "      <th>3</th>\n",
       "      <td>Whitney Houston / Various artists</td>\n",
       "      <td>27.4</td>\n",
       "      <td>44.0</td>\n",
       "    </tr>\n",
       "    <tr>\n",
       "      <th>4</th>\n",
       "      <td>Meat Loaf</td>\n",
       "      <td>20.6</td>\n",
       "      <td>43.0</td>\n",
       "    </tr>\n",
       "  </tbody>\n",
       "</table>\n",
       "</div>"
      ],
      "text/plain": [
       "                              Artist  Certified sales (millions)  \\\n",
       "0                    Michael Jackson                        45.4   \n",
       "1                              AC/DC                        25.9   \n",
       "2                         Pink Floyd                        22.7   \n",
       "3  Whitney Houston / Various artists                        27.4   \n",
       "4                          Meat Loaf                        20.6   \n",
       "\n",
       "   Claimed sales (millions)  \n",
       "0                      65.0  \n",
       "1                      50.0  \n",
       "2                      45.0  \n",
       "3                      44.0  \n",
       "4                      43.0  "
      ]
     },
     "execution_count": 49,
     "metadata": {},
     "output_type": "execute_result"
    }
   ],
   "source": [
    "# we only need to keep the columns we care about\n",
    "hit_albums = hit_albums[[\"Artist\",\"Certified sales (millions)\", \"Claimed sales (millions)\"]]\n",
    "hit_albums.head()"
   ]
  },
  {
   "cell_type": "markdown",
   "metadata": {},
   "source": [
    "We can also set a column to be the index:"
   ]
  },
  {
   "cell_type": "code",
   "execution_count": 50,
   "metadata": {},
   "outputs": [
    {
     "data": {
      "text/html": [
       "<div>\n",
       "<style scoped>\n",
       "    .dataframe tbody tr th:only-of-type {\n",
       "        vertical-align: middle;\n",
       "    }\n",
       "\n",
       "    .dataframe tbody tr th {\n",
       "        vertical-align: top;\n",
       "    }\n",
       "\n",
       "    .dataframe thead th {\n",
       "        text-align: right;\n",
       "    }\n",
       "</style>\n",
       "<table border=\"1\" class=\"dataframe\">\n",
       "  <thead>\n",
       "    <tr style=\"text-align: right;\">\n",
       "      <th></th>\n",
       "      <th>Certified sales (millions)</th>\n",
       "      <th>Claimed sales (millions)</th>\n",
       "    </tr>\n",
       "    <tr>\n",
       "      <th>Artist</th>\n",
       "      <th></th>\n",
       "      <th></th>\n",
       "    </tr>\n",
       "  </thead>\n",
       "  <tbody>\n",
       "    <tr>\n",
       "      <th>Michael Jackson</th>\n",
       "      <td>45.4</td>\n",
       "      <td>65.0</td>\n",
       "    </tr>\n",
       "    <tr>\n",
       "      <th>AC/DC</th>\n",
       "      <td>25.9</td>\n",
       "      <td>50.0</td>\n",
       "    </tr>\n",
       "    <tr>\n",
       "      <th>Pink Floyd</th>\n",
       "      <td>22.7</td>\n",
       "      <td>45.0</td>\n",
       "    </tr>\n",
       "    <tr>\n",
       "      <th>Whitney Houston / Various artists</th>\n",
       "      <td>27.4</td>\n",
       "      <td>44.0</td>\n",
       "    </tr>\n",
       "    <tr>\n",
       "      <th>Meat Loaf</th>\n",
       "      <td>20.6</td>\n",
       "      <td>43.0</td>\n",
       "    </tr>\n",
       "  </tbody>\n",
       "</table>\n",
       "</div>"
      ],
      "text/plain": [
       "                                   Certified sales (millions)  \\\n",
       "Artist                                                          \n",
       "Michael Jackson                                          45.4   \n",
       "AC/DC                                                    25.9   \n",
       "Pink Floyd                                               22.7   \n",
       "Whitney Houston / Various artists                        27.4   \n",
       "Meat Loaf                                                20.6   \n",
       "\n",
       "                                   Claimed sales (millions)  \n",
       "Artist                                                       \n",
       "Michael Jackson                                        65.0  \n",
       "AC/DC                                                  50.0  \n",
       "Pink Floyd                                             45.0  \n",
       "Whitney Houston / Various artists                      44.0  \n",
       "Meat Loaf                                              43.0  "
      ]
     },
     "execution_count": 50,
     "metadata": {},
     "output_type": "execute_result"
    }
   ],
   "source": [
    "hit_albums_reindexed = hit_albums.set_index(\"Artist\")\n",
    "hit_albums_reindexed.head()"
   ]
  },
  {
   "cell_type": "markdown",
   "metadata": {},
   "source": [
    "Using these access methods we can also update the order: "
   ]
  },
  {
   "cell_type": "code",
   "execution_count": 51,
   "metadata": {},
   "outputs": [
    {
     "data": {
      "text/html": [
       "<div>\n",
       "<style scoped>\n",
       "    .dataframe tbody tr th:only-of-type {\n",
       "        vertical-align: middle;\n",
       "    }\n",
       "\n",
       "    .dataframe tbody tr th {\n",
       "        vertical-align: top;\n",
       "    }\n",
       "\n",
       "    .dataframe thead th {\n",
       "        text-align: right;\n",
       "    }\n",
       "</style>\n",
       "<table border=\"1\" class=\"dataframe\">\n",
       "  <thead>\n",
       "    <tr style=\"text-align: right;\">\n",
       "      <th></th>\n",
       "      <th>Certified sales (millions)</th>\n",
       "      <th>Artist</th>\n",
       "    </tr>\n",
       "  </thead>\n",
       "  <tbody>\n",
       "    <tr>\n",
       "      <th>0</th>\n",
       "      <td>45.4</td>\n",
       "      <td>Michael Jackson</td>\n",
       "    </tr>\n",
       "    <tr>\n",
       "      <th>1</th>\n",
       "      <td>25.9</td>\n",
       "      <td>AC/DC</td>\n",
       "    </tr>\n",
       "    <tr>\n",
       "      <th>2</th>\n",
       "      <td>22.7</td>\n",
       "      <td>Pink Floyd</td>\n",
       "    </tr>\n",
       "    <tr>\n",
       "      <th>3</th>\n",
       "      <td>27.4</td>\n",
       "      <td>Whitney Houston / Various artists</td>\n",
       "    </tr>\n",
       "    <tr>\n",
       "      <th>4</th>\n",
       "      <td>20.6</td>\n",
       "      <td>Meat Loaf</td>\n",
       "    </tr>\n",
       "  </tbody>\n",
       "</table>\n",
       "</div>"
      ],
      "text/plain": [
       "   Certified sales (millions)                             Artist\n",
       "0                        45.4                    Michael Jackson\n",
       "1                        25.9                              AC/DC\n",
       "2                        22.7                         Pink Floyd\n",
       "3                        27.4  Whitney Houston / Various artists\n",
       "4                        20.6                          Meat Loaf"
      ]
     },
     "execution_count": 51,
     "metadata": {},
     "output_type": "execute_result"
    }
   ],
   "source": [
    "hit_albums[[\"Certified sales (millions)\", \"Artist\"]].head()"
   ]
  },
  {
   "cell_type": "markdown",
   "metadata": {},
   "source": [
    "We can retrieve rows using the `loc` indexer by name. Note that this doesn't work if we use duplicates as indexers. "
   ]
  },
  {
   "cell_type": "code",
   "execution_count": 52,
   "metadata": {},
   "outputs": [
    {
     "data": {
      "text/html": [
       "<div>\n",
       "<style scoped>\n",
       "    .dataframe tbody tr th:only-of-type {\n",
       "        vertical-align: middle;\n",
       "    }\n",
       "\n",
       "    .dataframe tbody tr th {\n",
       "        vertical-align: top;\n",
       "    }\n",
       "\n",
       "    .dataframe thead th {\n",
       "        text-align: right;\n",
       "    }\n",
       "</style>\n",
       "<table border=\"1\" class=\"dataframe\">\n",
       "  <thead>\n",
       "    <tr style=\"text-align: right;\">\n",
       "      <th></th>\n",
       "      <th>Certified sales (millions)</th>\n",
       "      <th>Claimed sales (millions)</th>\n",
       "    </tr>\n",
       "    <tr>\n",
       "      <th>Artist</th>\n",
       "      <th></th>\n",
       "      <th></th>\n",
       "    </tr>\n",
       "  </thead>\n",
       "  <tbody>\n",
       "    <tr>\n",
       "      <th>Green Day</th>\n",
       "      <td>20.0</td>\n",
       "      <td>NaN</td>\n",
       "    </tr>\n",
       "    <tr>\n",
       "      <th>Lionel Richie</th>\n",
       "      <td>20.0</td>\n",
       "      <td>NaN</td>\n",
       "    </tr>\n",
       "    <tr>\n",
       "      <th>Michael Jackson</th>\n",
       "      <td>20.0</td>\n",
       "      <td>NaN</td>\n",
       "    </tr>\n",
       "    <tr>\n",
       "      <th>Michael Jackson</th>\n",
       "      <td>20.0</td>\n",
       "      <td>NaN</td>\n",
       "    </tr>\n",
       "    <tr>\n",
       "      <th>Prince &amp; the Revolution</th>\n",
       "      <td>20.0</td>\n",
       "      <td>NaN</td>\n",
       "    </tr>\n",
       "    <tr>\n",
       "      <th>Shania Twain</th>\n",
       "      <td>20.0</td>\n",
       "      <td>NaN</td>\n",
       "    </tr>\n",
       "    <tr>\n",
       "      <th>Shania Twain</th>\n",
       "      <td>20.0</td>\n",
       "      <td>NaN</td>\n",
       "    </tr>\n",
       "    <tr>\n",
       "      <th>Supertramp</th>\n",
       "      <td>20.0</td>\n",
       "      <td>NaN</td>\n",
       "    </tr>\n",
       "  </tbody>\n",
       "</table>\n",
       "</div>"
      ],
      "text/plain": [
       "                         Certified sales (millions)  Claimed sales (millions)\n",
       "Artist                                                                       \n",
       "Green Day                                      20.0                       NaN\n",
       "Lionel Richie                                  20.0                       NaN\n",
       "Michael Jackson                                20.0                       NaN\n",
       "Michael Jackson                                20.0                       NaN\n",
       "Prince & the Revolution                        20.0                       NaN\n",
       "Shania Twain                                   20.0                       NaN\n",
       "Shania Twain                                   20.0                       NaN\n",
       "Supertramp                                     20.0                       NaN"
      ]
     },
     "execution_count": 52,
     "metadata": {},
     "output_type": "execute_result"
    }
   ],
   "source": [
    "hit_albums_reindexed.loc[\"Green Day\":\"Supertramp\"]"
   ]
  },
  {
   "cell_type": "markdown",
   "metadata": {},
   "source": [
    "This can also be combined with slicing columns: "
   ]
  },
  {
   "cell_type": "code",
   "execution_count": 53,
   "metadata": {},
   "outputs": [
    {
     "data": {
      "text/html": [
       "<div>\n",
       "<style scoped>\n",
       "    .dataframe tbody tr th:only-of-type {\n",
       "        vertical-align: middle;\n",
       "    }\n",
       "\n",
       "    .dataframe tbody tr th {\n",
       "        vertical-align: top;\n",
       "    }\n",
       "\n",
       "    .dataframe thead th {\n",
       "        text-align: right;\n",
       "    }\n",
       "</style>\n",
       "<table border=\"1\" class=\"dataframe\">\n",
       "  <thead>\n",
       "    <tr style=\"text-align: right;\">\n",
       "      <th></th>\n",
       "      <th>Certified sales (millions)</th>\n",
       "    </tr>\n",
       "    <tr>\n",
       "      <th>Artist</th>\n",
       "      <th></th>\n",
       "    </tr>\n",
       "  </thead>\n",
       "  <tbody>\n",
       "    <tr>\n",
       "      <th>Green Day</th>\n",
       "      <td>20.0</td>\n",
       "    </tr>\n",
       "    <tr>\n",
       "      <th>Lionel Richie</th>\n",
       "      <td>20.0</td>\n",
       "    </tr>\n",
       "    <tr>\n",
       "      <th>Michael Jackson</th>\n",
       "      <td>20.0</td>\n",
       "    </tr>\n",
       "    <tr>\n",
       "      <th>Michael Jackson</th>\n",
       "      <td>20.0</td>\n",
       "    </tr>\n",
       "    <tr>\n",
       "      <th>Prince &amp; the Revolution</th>\n",
       "      <td>20.0</td>\n",
       "    </tr>\n",
       "    <tr>\n",
       "      <th>Shania Twain</th>\n",
       "      <td>20.0</td>\n",
       "    </tr>\n",
       "    <tr>\n",
       "      <th>Shania Twain</th>\n",
       "      <td>20.0</td>\n",
       "    </tr>\n",
       "    <tr>\n",
       "      <th>Supertramp</th>\n",
       "      <td>20.0</td>\n",
       "    </tr>\n",
       "  </tbody>\n",
       "</table>\n",
       "</div>"
      ],
      "text/plain": [
       "                         Certified sales (millions)\n",
       "Artist                                             \n",
       "Green Day                                      20.0\n",
       "Lionel Richie                                  20.0\n",
       "Michael Jackson                                20.0\n",
       "Michael Jackson                                20.0\n",
       "Prince & the Revolution                        20.0\n",
       "Shania Twain                                   20.0\n",
       "Shania Twain                                   20.0\n",
       "Supertramp                                     20.0"
      ]
     },
     "execution_count": 53,
     "metadata": {},
     "output_type": "execute_result"
    }
   ],
   "source": [
    "hit_albums_reindexed.loc[\"Green Day\":\"Supertramp\", [\"Certified sales (millions)\"]]"
   ]
  },
  {
   "cell_type": "markdown",
   "metadata": {},
   "source": [
    "Here is the same thing using `iloc`, i.e., index based slicing:"
   ]
  },
  {
   "cell_type": "code",
   "execution_count": 54,
   "metadata": {},
   "outputs": [
    {
     "data": {
      "text/html": [
       "<div>\n",
       "<style scoped>\n",
       "    .dataframe tbody tr th:only-of-type {\n",
       "        vertical-align: middle;\n",
       "    }\n",
       "\n",
       "    .dataframe tbody tr th {\n",
       "        vertical-align: top;\n",
       "    }\n",
       "\n",
       "    .dataframe thead th {\n",
       "        text-align: right;\n",
       "    }\n",
       "</style>\n",
       "<table border=\"1\" class=\"dataframe\">\n",
       "  <thead>\n",
       "    <tr style=\"text-align: right;\">\n",
       "      <th></th>\n",
       "      <th>Certified sales (millions)</th>\n",
       "    </tr>\n",
       "    <tr>\n",
       "      <th>Artist</th>\n",
       "      <th></th>\n",
       "    </tr>\n",
       "  </thead>\n",
       "  <tbody>\n",
       "    <tr>\n",
       "      <th>Whitney Houston / Various artists</th>\n",
       "      <td>27.4</td>\n",
       "    </tr>\n",
       "    <tr>\n",
       "      <th>Meat Loaf</th>\n",
       "      <td>20.6</td>\n",
       "    </tr>\n",
       "  </tbody>\n",
       "</table>\n",
       "</div>"
      ],
      "text/plain": [
       "                                   Certified sales (millions)\n",
       "Artist                                                       \n",
       "Whitney Houston / Various artists                        27.4\n",
       "Meat Loaf                                                20.6"
      ]
     },
     "execution_count": 54,
     "metadata": {},
     "output_type": "execute_result"
    }
   ],
   "source": [
    "hit_albums_reindexed.iloc[3:5, [0]]"
   ]
  },
  {
   "cell_type": "markdown",
   "metadata": {},
   "source": [
    "### Grouping Data Frames\n",
    "\n",
    "Very often, we want to aggregate data. Given the hit-albums dataset, for example, we might want to ask how many albums each artist in that list has sold in total. We can do these aggregations using the group-by method. \n",
    "\n"
   ]
  },
  {
   "cell_type": "markdown",
   "metadata": {},
   "source": [
    "We can specify a column to group by, for example, \"Artist\". We can look at the groups created:"
   ]
  },
  {
   "cell_type": "code",
   "execution_count": 55,
   "metadata": {},
   "outputs": [
    {
     "data": {
      "text/plain": [
       "{'ABBA': Int64Index([31], dtype='int64'),\n",
       " 'AC/DC': Int64Index([1], dtype='int64'),\n",
       " 'Ace of Base': Int64Index([50], dtype='int64'),\n",
       " 'Adele': Int64Index([20, 56], dtype='int64'),\n",
       " 'Alanis Morissette': Int64Index([11], dtype='int64'),\n",
       " 'Avril Lavigne': Int64Index([57], dtype='int64'),\n",
       " 'Backstreet Boys': Int64Index([48, 49], dtype='int64'),\n",
       " 'Bee Gees / Various artists': Int64Index([6], dtype='int64'),\n",
       " 'Bob Marley & The Wailers': Int64Index([37], dtype='int64'),\n",
       " 'Bon Jovi': Int64Index([32, 54], dtype='int64'),\n",
       " 'Boston': Int64Index([58], dtype='int64'),\n",
       " 'Britney Spears': Int64Index([35, 59], dtype='int64'),\n",
       " 'Bruce Springsteen': Int64Index([22], dtype='int64'),\n",
       " 'Carole King': Int64Index([38], dtype='int64'),\n",
       " 'Celine Dion': Int64Index([12, 18], dtype='int64'),\n",
       " 'Cyndi Lauper': Int64Index([52], dtype='int64'),\n",
       " 'Def Leppard': Int64Index([61], dtype='int64'),\n",
       " 'Dire Straits': Int64Index([23], dtype='int64'),\n",
       " 'Eagles': Int64Index([5, 14], dtype='int64'),\n",
       " 'Eminem': Int64Index([55], dtype='int64'),\n",
       " 'Eric Clapton': Int64Index([60], dtype='int64'),\n",
       " 'Fleetwood Mac': Int64Index([7], dtype='int64'),\n",
       " 'George Michael': Int64Index([62], dtype='int64'),\n",
       " 'Green Day': Int64Index([63], dtype='int64'),\n",
       " \"Guns N' Roses\": Int64Index([30], dtype='int64'),\n",
       " 'James Horner': Int64Index([24], dtype='int64'),\n",
       " 'Led Zeppelin': Int64Index([9], dtype='int64'),\n",
       " 'Linkin Park': Int64Index([36], dtype='int64'),\n",
       " 'Lionel Richie': Int64Index([64], dtype='int64'),\n",
       " 'Madonna': Int64Index([25, 39, 40], dtype='int64'),\n",
       " 'Mariah Carey': Int64Index([15, 41], dtype='int64'),\n",
       " 'Meat Loaf': Int64Index([4], dtype='int64'),\n",
       " 'Metallica': Int64Index([26], dtype='int64'),\n",
       " 'Michael Jackson': Int64Index([0, 10, 16, 65, 66], dtype='int64'),\n",
       " 'Nirvana': Int64Index([27], dtype='int64'),\n",
       " 'Norah Jones': Int64Index([42], dtype='int64'),\n",
       " 'Oasis': Int64Index([53], dtype='int64'),\n",
       " 'Phil Collins': Int64Index([43], dtype='int64'),\n",
       " 'Pink Floyd': Int64Index([2, 28], dtype='int64'),\n",
       " 'Prince & the Revolution': Int64Index([67], dtype='int64'),\n",
       " 'Queen': Int64Index([44], dtype='int64'),\n",
       " 'Santana': Int64Index([29], dtype='int64'),\n",
       " 'Shakira': Int64Index([76], dtype='int64'),\n",
       " 'Shania Twain': Int64Index([8, 68, 69], dtype='int64'),\n",
       " 'Simon & Garfunkel': Int64Index([45], dtype='int64'),\n",
       " 'Spice Girls': Int64Index([33], dtype='int64'),\n",
       " 'Supertramp': Int64Index([70], dtype='int64'),\n",
       " 'TLC': Int64Index([51], dtype='int64'),\n",
       " 'The Beatles': Int64Index([13, 19, 21], dtype='int64'),\n",
       " 'Tina Turner': Int64Index([71], dtype='int64'),\n",
       " 'Tracy Chapman': Int64Index([72], dtype='int64'),\n",
       " 'U2': Int64Index([46], dtype='int64'),\n",
       " 'Usher': Int64Index([73], dtype='int64'),\n",
       " 'Various artists': Int64Index([17, 34, 74], dtype='int64'),\n",
       " 'Whitney Houston': Int64Index([47, 75], dtype='int64'),\n",
       " 'Whitney Houston / Various artists': Int64Index([3], dtype='int64')}"
      ]
     },
     "execution_count": 55,
     "metadata": {},
     "output_type": "execute_result"
    }
   ],
   "source": [
    "grouped = hit_albums.groupby(\"Artist\")\n",
    "grouped.groups"
   ]
  },
  {
   "cell_type": "markdown",
   "metadata": {},
   "source": [
    "Note that the keys map to a set of indices. For example, Michael Jackson's albums are found at indices [0, 10, 16, 65, 66].\n",
    "\n",
    "Once we have created these groups, we can specify what to do with it. A very generic solution is the `agg()` function, which we can pass a function to do things with the data:"
   ]
  },
  {
   "cell_type": "code",
   "execution_count": 56,
   "metadata": {},
   "outputs": [
    {
     "data": {
      "text/html": [
       "<div>\n",
       "<style scoped>\n",
       "    .dataframe tbody tr th:only-of-type {\n",
       "        vertical-align: middle;\n",
       "    }\n",
       "\n",
       "    .dataframe tbody tr th {\n",
       "        vertical-align: top;\n",
       "    }\n",
       "\n",
       "    .dataframe thead th {\n",
       "        text-align: right;\n",
       "    }\n",
       "</style>\n",
       "<table border=\"1\" class=\"dataframe\">\n",
       "  <thead>\n",
       "    <tr style=\"text-align: right;\">\n",
       "      <th></th>\n",
       "      <th>Certified sales (millions)</th>\n",
       "      <th>Claimed sales (millions)</th>\n",
       "    </tr>\n",
       "    <tr>\n",
       "      <th>Artist</th>\n",
       "      <th></th>\n",
       "      <th></th>\n",
       "    </tr>\n",
       "  </thead>\n",
       "  <tbody>\n",
       "    <tr>\n",
       "      <th>ABBA</th>\n",
       "      <td>29.0</td>\n",
       "      <td>0.0</td>\n",
       "    </tr>\n",
       "    <tr>\n",
       "      <th>AC/DC</th>\n",
       "      <td>25.9</td>\n",
       "      <td>50.0</td>\n",
       "    </tr>\n",
       "    <tr>\n",
       "      <th>Ace of Base</th>\n",
       "      <td>23.0</td>\n",
       "      <td>0.0</td>\n",
       "    </tr>\n",
       "    <tr>\n",
       "      <th>Adele</th>\n",
       "      <td>42.3</td>\n",
       "      <td>30.0</td>\n",
       "    </tr>\n",
       "    <tr>\n",
       "      <th>Alanis Morissette</th>\n",
       "      <td>24.8</td>\n",
       "      <td>33.0</td>\n",
       "    </tr>\n",
       "  </tbody>\n",
       "</table>\n",
       "</div>"
      ],
      "text/plain": [
       "                   Certified sales (millions)  Claimed sales (millions)\n",
       "Artist                                                                 \n",
       "ABBA                                     29.0                       0.0\n",
       "AC/DC                                    25.9                      50.0\n",
       "Ace of Base                              23.0                       0.0\n",
       "Adele                                    42.3                      30.0\n",
       "Alanis Morissette                        24.8                      33.0"
      ]
     },
     "execution_count": 56,
     "metadata": {},
     "output_type": "execute_result"
    }
   ],
   "source": [
    "#here we pass the sum function, which calcualtes the sum of a list, to the group\n",
    "grouped.agg(sum).head()"
   ]
  },
  {
   "cell_type": "markdown",
   "metadata": {},
   "source": [
    "We can see here that we've summed up all columns. However, note that NaN plus some number is still NaN. So let's work with a slice of the dataframe instead. \n"
   ]
  },
  {
   "cell_type": "markdown",
   "metadata": {},
   "source": [
    "Here is an aggregation with an in-line function definition where we still create the sum, but also multiply by a million. We use a [lambda expression](https://docs.python.org/3/tutorial/controlflow.html#lambda-expressions) to define the function:"
   ]
  },
  {
   "cell_type": "code",
   "execution_count": 57,
   "metadata": {},
   "outputs": [
    {
     "data": {
      "text/html": [
       "<div>\n",
       "<style scoped>\n",
       "    .dataframe tbody tr th:only-of-type {\n",
       "        vertical-align: middle;\n",
       "    }\n",
       "\n",
       "    .dataframe tbody tr th {\n",
       "        vertical-align: top;\n",
       "    }\n",
       "\n",
       "    .dataframe thead th {\n",
       "        text-align: right;\n",
       "    }\n",
       "</style>\n",
       "<table border=\"1\" class=\"dataframe\">\n",
       "  <thead>\n",
       "    <tr style=\"text-align: right;\">\n",
       "      <th></th>\n",
       "      <th>Certified sales (millions)</th>\n",
       "      <th>Claimed sales (millions)</th>\n",
       "    </tr>\n",
       "    <tr>\n",
       "      <th>Artist</th>\n",
       "      <th></th>\n",
       "      <th></th>\n",
       "    </tr>\n",
       "  </thead>\n",
       "  <tbody>\n",
       "    <tr>\n",
       "      <th>ABBA</th>\n",
       "      <td>29000000.0</td>\n",
       "      <td>NaN</td>\n",
       "    </tr>\n",
       "    <tr>\n",
       "      <th>AC/DC</th>\n",
       "      <td>25900000.0</td>\n",
       "      <td>50000000.0</td>\n",
       "    </tr>\n",
       "    <tr>\n",
       "      <th>Ace of Base</th>\n",
       "      <td>23000000.0</td>\n",
       "      <td>NaN</td>\n",
       "    </tr>\n",
       "    <tr>\n",
       "      <th>Adele</th>\n",
       "      <td>42300000.0</td>\n",
       "      <td>NaN</td>\n",
       "    </tr>\n",
       "    <tr>\n",
       "      <th>Alanis Morissette</th>\n",
       "      <td>24800000.0</td>\n",
       "      <td>33000000.0</td>\n",
       "    </tr>\n",
       "  </tbody>\n",
       "</table>\n",
       "</div>"
      ],
      "text/plain": [
       "                   Certified sales (millions)  Claimed sales (millions)\n",
       "Artist                                                                 \n",
       "ABBA                               29000000.0                       NaN\n",
       "AC/DC                              25900000.0                50000000.0\n",
       "Ace of Base                        23000000.0                       NaN\n",
       "Adele                              42300000.0                       NaN\n",
       "Alanis Morissette                  24800000.0                33000000.0"
      ]
     },
     "execution_count": 57,
     "metadata": {},
     "output_type": "execute_result"
    }
   ],
   "source": [
    "grouped.agg(lambda rows : sum([cell * 1000000 for cell in rows])).head()"
   ]
  },
  {
   "cell_type": "markdown",
   "metadata": {},
   "source": [
    "Lambda expressions are just a different way of defining a function in line, without assigning it a name. They only work for a single statement. \n",
    "\n",
    "Here is a simple lambda expression, which returns a function, which we assign to the variable add:"
   ]
  },
  {
   "cell_type": "code",
   "execution_count": 58,
   "metadata": {},
   "outputs": [],
   "source": [
    "add = lambda a, b : a+b"
   ]
  },
  {
   "cell_type": "code",
   "execution_count": 59,
   "metadata": {},
   "outputs": [
    {
     "data": {
      "text/plain": [
       "5"
      ]
     },
     "execution_count": 59,
     "metadata": {},
     "output_type": "execute_result"
    }
   ],
   "source": [
    "add(2, 3)"
   ]
  },
  {
   "cell_type": "markdown",
   "metadata": {},
   "source": [
    "Pandas also has a couple of built in functions in place of the generic agg method. For example, we can just call `sum()`:"
   ]
  },
  {
   "cell_type": "code",
   "execution_count": 60,
   "metadata": {},
   "outputs": [
    {
     "data": {
      "text/html": [
       "<div>\n",
       "<style scoped>\n",
       "    .dataframe tbody tr th:only-of-type {\n",
       "        vertical-align: middle;\n",
       "    }\n",
       "\n",
       "    .dataframe tbody tr th {\n",
       "        vertical-align: top;\n",
       "    }\n",
       "\n",
       "    .dataframe thead th {\n",
       "        text-align: right;\n",
       "    }\n",
       "</style>\n",
       "<table border=\"1\" class=\"dataframe\">\n",
       "  <thead>\n",
       "    <tr style=\"text-align: right;\">\n",
       "      <th></th>\n",
       "      <th>Certified sales (millions)</th>\n",
       "    </tr>\n",
       "    <tr>\n",
       "      <th>Artist</th>\n",
       "      <th></th>\n",
       "    </tr>\n",
       "  </thead>\n",
       "  <tbody>\n",
       "    <tr>\n",
       "      <th>ABBA</th>\n",
       "      <td>29.0</td>\n",
       "    </tr>\n",
       "    <tr>\n",
       "      <th>AC/DC</th>\n",
       "      <td>25.9</td>\n",
       "    </tr>\n",
       "    <tr>\n",
       "      <th>Ace of Base</th>\n",
       "      <td>23.0</td>\n",
       "    </tr>\n",
       "    <tr>\n",
       "      <th>Adele</th>\n",
       "      <td>42.3</td>\n",
       "    </tr>\n",
       "    <tr>\n",
       "      <th>Alanis Morissette</th>\n",
       "      <td>24.8</td>\n",
       "    </tr>\n",
       "  </tbody>\n",
       "</table>\n",
       "</div>"
      ],
      "text/plain": [
       "                   Certified sales (millions)\n",
       "Artist                                       \n",
       "ABBA                                     29.0\n",
       "AC/DC                                    25.9\n",
       "Ace of Base                              23.0\n",
       "Adele                                    42.3\n",
       "Alanis Morissette                        24.8"
      ]
     },
     "execution_count": 60,
     "metadata": {},
     "output_type": "execute_result"
    }
   ],
   "source": [
    "# first we create a new slice of the dataset\n",
    "artists_sales = hit_albums[[\"Artist\",\"Certified sales (millions)\"]]\n",
    "# then we group by Artist, then sum the values up\n",
    "aggregated = artists_sales.groupby(\"Artist\").sum()\n",
    "aggregated.head()"
   ]
  },
  {
   "cell_type": "markdown",
   "metadata": {},
   "source": [
    "Now we sort them, and have a nice result:"
   ]
  },
  {
   "cell_type": "code",
   "execution_count": 61,
   "metadata": {},
   "outputs": [
    {
     "data": {
      "text/html": [
       "<div>\n",
       "<style scoped>\n",
       "    .dataframe tbody tr th:only-of-type {\n",
       "        vertical-align: middle;\n",
       "    }\n",
       "\n",
       "    .dataframe tbody tr th {\n",
       "        vertical-align: top;\n",
       "    }\n",
       "\n",
       "    .dataframe thead th {\n",
       "        text-align: right;\n",
       "    }\n",
       "</style>\n",
       "<table border=\"1\" class=\"dataframe\">\n",
       "  <thead>\n",
       "    <tr style=\"text-align: right;\">\n",
       "      <th></th>\n",
       "      <th>Certified sales (millions)</th>\n",
       "    </tr>\n",
       "    <tr>\n",
       "      <th>Artist</th>\n",
       "      <th></th>\n",
       "    </tr>\n",
       "  </thead>\n",
       "  <tbody>\n",
       "    <tr>\n",
       "      <th>Michael Jackson</th>\n",
       "      <td>123.3</td>\n",
       "    </tr>\n",
       "    <tr>\n",
       "      <th>Shania Twain</th>\n",
       "      <td>69.6</td>\n",
       "    </tr>\n",
       "    <tr>\n",
       "      <th>Madonna</th>\n",
       "      <td>69.4</td>\n",
       "    </tr>\n",
       "    <tr>\n",
       "      <th>Various artists</th>\n",
       "      <td>65.9</td>\n",
       "    </tr>\n",
       "    <tr>\n",
       "      <th>Eagles</th>\n",
       "      <td>53.7</td>\n",
       "    </tr>\n",
       "  </tbody>\n",
       "</table>\n",
       "</div>"
      ],
      "text/plain": [
       "                 Certified sales (millions)\n",
       "Artist                                     \n",
       "Michael Jackson                       123.3\n",
       "Shania Twain                           69.6\n",
       "Madonna                                69.4\n",
       "Various artists                        65.9\n",
       "Eagles                                 53.7"
      ]
     },
     "execution_count": 61,
     "metadata": {},
     "output_type": "execute_result"
    }
   ],
   "source": [
    "aggregated.sort_values(\"Certified sales (millions)\", ascending=False).head()"
   ]
  },
  {
   "cell_type": "markdown",
   "metadata": {},
   "source": [
    "### Exercise 2: Data Frames\n",
    "\n",
    "* Calculate the mean certified sales for all albums.\n",
    "* Create a new dataframe that only contains albums with more than 20 million certified sales.\n",
    "* Create a new dataframe based on the hit_albums dataset that only contains the artists that have at least two albums in the list.\n",
    "* Create a new dataframe that contains the aggregates sum of all certified sales for each year."
   ]
  },
  {
   "cell_type": "markdown",
   "metadata": {},
   "source": [
    "## Buit-in Plotting\n",
    "\n",
    "Dataframes have built-in plotting capabilities based on the [matplotlib](http://matplotlib.org/) library. We'll see more about plotting later - here we'll only use the buit-in capabilities of pandas. \n",
    "\n",
    "First, we have to import the matplotlib library, and tell Jupyter to display the images directly here:"
   ]
  },
  {
   "cell_type": "code",
   "execution_count": 62,
   "metadata": {},
   "outputs": [],
   "source": [
    "import matplotlib\n",
    "import matplotlib.pyplot as plt\n",
    "plt.style.use('ggplot')\n",
    "# This next line tells jupyter to render the images inline\n",
    "%matplotlib inline"
   ]
  },
  {
   "cell_type": "markdown",
   "metadata": {},
   "source": [
    "Then we can simply call the plot attribute:"
   ]
  },
  {
   "cell_type": "code",
   "execution_count": 63,
   "metadata": {},
   "outputs": [
    {
     "data": {
      "text/plain": [
       "<matplotlib.axes._subplots.AxesSubplot at 0x7fcbee209ba8>"
      ]
     },
     "execution_count": 63,
     "metadata": {},
     "output_type": "execute_result"
    },
    {
     "data": {
      "image/png": "[encoded data removed]",
      "text/plain": [
       "<Figure size 432x288 with 1 Axes>"
      ]
     },
     "metadata": {
      "needs_background": "light"
     },
     "output_type": "display_data"
    }
   ],
   "source": [
    "hit_albums.plot()"
   ]
  },
  {
   "cell_type": "markdown",
   "metadata": {},
   "source": [
    "We can also selected certain columns using labelled indexes and then plot."
   ]
  },
  {
   "cell_type": "code",
   "execution_count": 64,
   "metadata": {},
   "outputs": [
    {
     "data": {
      "text/plain": [
       "<matplotlib.axes._subplots.AxesSubplot at 0x7fcbede29c88>"
      ]
     },
     "execution_count": 64,
     "metadata": {},
     "output_type": "execute_result"
    },
    {
     "data": {
      "image/png": "[encoded data removed]",
      "text/plain": [
       "<Figure size 432x288 with 1 Axes>"
      ]
     },
     "metadata": {
      "needs_background": "light"
     },
     "output_type": "display_data"
    }
   ],
   "source": [
    "hit_albums[[\"Certified sales (millions)\", \"Claimed sales (millions)\"]].plot()"
   ]
  },
  {
   "cell_type": "markdown",
   "metadata": {},
   "source": [
    "We can also use bar-charts instead of line-charts:"
   ]
  },
  {
   "cell_type": "code",
   "execution_count": 65,
   "metadata": {},
   "outputs": [
    {
     "data": {
      "text/plain": [
       "<matplotlib.axes._subplots.AxesSubplot at 0x7fcbeddb41d0>"
      ]
     },
     "execution_count": 65,
     "metadata": {},
     "output_type": "execute_result"
    },
    {
     "data": {
      "image/png": "[encoded data removed]",
      "text/plain": [
       "<Figure size 432x288 with 1 Axes>"
      ]
     },
     "metadata": {
      "needs_background": "light"
     },
     "output_type": "display_data"
    }
   ],
   "source": [
    "hit_albums[[\"Certified sales (millions)\", \"Claimed sales (millions)\"]].plot(kind=\"bar\")"
   ]
  },
  {
   "cell_type": "markdown",
   "metadata": {},
   "source": [
    "The default is a line chart. This doesn't make much sense, since it's mixing index of the row with sales. We're better off plotting only the two different sales figures.\n",
    "\n",
    "A better way to compare certified and claimed sales is a scatterplot:"
   ]
  },
  {
   "cell_type": "code",
   "execution_count": 66,
   "metadata": {},
   "outputs": [
    {
     "data": {
      "text/plain": [
       "<matplotlib.axes._subplots.AxesSubplot at 0x7fcbedaf51d0>"
      ]
     },
     "execution_count": 66,
     "metadata": {},
     "output_type": "execute_result"
    },
    {
     "data": {
      "image/png": "[encoded data removed]",
      "text/plain": [
       "<Figure size 432x288 with 1 Axes>"
      ]
     },
     "metadata": {
      "needs_background": "light"
     },
     "output_type": "display_data"
    }
   ],
   "source": [
    "hit_albums.plot.scatter(x=\"Certified sales (millions)\", y=\"Claimed sales (millions)\")"
   ]
  },
  {
   "cell_type": "markdown",
   "metadata": {
    "collapsed": true
   },
   "source": [
    "We'll do more sophisticated plotting next time! "
   ]
  }
 ],
 "metadata": {
  "anaconda-cloud": {},
  "kernelspec": {
   "display_name": "Python 3",
   "language": "python",
   "name": "python3"
  },
  "language_info": {
   "codemirror_mode": {
    "name": "ipython",
    "version": 3
   },
   "file_extension": ".py",
   "mimetype": "text/x-python",
   "name": "python",
   "nbconvert_exporter": "python",
   "pygments_lexer": "ipython3",
   "version": "3.7.1"
  },
  "nbpresent": {
   "slides": {
    "19a6495f-8346-4b23-a98a-c7115941e8f0": {
     "id": "19a6495f-8346-4b23-a98a-c7115941e8f0",
     "prev": null,
     "regions": {
      "d6523b36-7204-4001-8a6c-37c431b18d26": {
       "attrs": {
        "height": 1,
        "width": 1,
        "x": 0,
        "y": 0
       },
       "id": "d6523b36-7204-4001-8a6c-37c431b18d26"
      }
     }
    }
   },
   "themes": {}
  }
 },
 "nbformat": 4,
 "nbformat_minor": 1
}
