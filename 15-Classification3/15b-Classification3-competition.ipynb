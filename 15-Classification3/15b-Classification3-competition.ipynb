{
 "cells": [
  {
   "cell_type": "markdown",
   "metadata": {},
   "source": [
    "# Introduction to Data Science\n",
    "# Lecture 15 continued - Classification Competition\n",
    "*COMP 5360 / MATH 4100, University of Utah, http://datasciencecourse.net/* \n",
    "\n",
    "We will use classification methods to study this [dataset on contraceptive methods used by Indonesian women](https://archive.ics.uci.edu/ml/datasets/Contraceptive+Method+Choice). This dataset is a subset of the 1987 National Indonesia Contraceptive Prevalence Survey. The samples are married women who were either not pregnant or do not know if they were at the time of interview. The problem is to predict the current contraceptive method choice (no use, long-term methods, or short-term methods) of a woman based on her demographic and socio-economic characteristics.\n",
    "\n",
    "We will use k-nearest neighbor, decision tree, and support vector machines (SVM) methods in the [scikit-learn](http://scikit-learn.org/) library."
   ]
  },
  {
   "cell_type": "markdown",
   "metadata": {},
   "source": [
    "## The Data\n",
    "\n",
    "We will explore a dataset about the use of contraception in Indonesia. The dataset has 1473 records and the following attributes:\n",
    "\n",
    "1. Woman's age (numerical) \n",
    "+ Woman's education (categorical) 1=low, 2, 3, 4=high \n",
    "+ Husband's education (categorical) 1=low, 2, 3, 4=high \n",
    "+ Number of children ever born (numerical) \n",
    "+ Woman's religion (binary) 0=Non-Islam, 1=Islam \n",
    "+ Employed? (binary) 0=Yes, 1=No \n",
    "+ Husband's occupation (categorical) 1, 2, 3, 4 \n",
    "+ Standard-of-living index (categorical) 1=low, 2, 3, 4=high \n",
    "+ Media exposure (binary) 0=Good, 1=Not good \n",
    "\n",
    "along with the variable we are trying to predict: \n",
    "\n",
    "+ Contraceptive method used (class attribute) 1=No-use, 2=Long-term, 3=Short-term"
   ]
  },
  {
   "cell_type": "markdown",
   "metadata": {},
   "source": [
    "### Hypothesis\n",
    "\n",
    "Which features do you think have the most impact on the use of contraception?"
   ]
  },
  {
   "cell_type": "markdown",
   "metadata": {},
   "source": [
    "**Your hypothesis:** TODO"
   ]
  },
  {
   "cell_type": "markdown",
   "metadata": {},
   "source": [
    "### Preliminaries\n",
    "\n",
    "We'll start with the usual imports:"
   ]
  },
  {
   "cell_type": "code",
   "execution_count": 1,
   "metadata": {},
   "outputs": [],
   "source": [
    "import numpy as np\n",
    "import pandas as pd\n",
    "\n",
    "from sklearn import metrics\n",
    "from sklearn.model_selection import train_test_split, cross_val_score, cross_validate\n",
    "\n",
    "from sklearn import tree\n",
    "\n",
    "from sklearn.neighbors import NearestNeighbors\n",
    "from sklearn.neighbors import KNeighborsClassifier\n",
    "\n",
    "from sklearn.feature_selection import SelectKBest, SelectPercentile\n",
    "from sklearn.feature_selection import chi2\n",
    "\n",
    "from sklearn import svm\n",
    "\n",
    "import seaborn as sns\n",
    "sns.set()\n",
    "\n",
    "import matplotlib.pyplot as plt\n",
    "from matplotlib.colors import ListedColormap\n",
    "%matplotlib inline\n",
    "plt.rcParams['figure.figsize'] = (10, 6)\n",
    "plt.style.use('ggplot')"
   ]
  },
  {
   "cell_type": "markdown",
   "metadata": {},
   "source": [
    "### Loading and exploring the dataset"
   ]
  },
  {
   "cell_type": "code",
   "execution_count": 2,
   "metadata": {},
   "outputs": [
    {
     "data": {
      "text/html": [
       "<div>\n",
       "<style scoped>\n",
       "    .dataframe tbody tr th:only-of-type {\n",
       "        vertical-align: middle;\n",
       "    }\n",
       "\n",
       "    .dataframe tbody tr th {\n",
       "        vertical-align: top;\n",
       "    }\n",
       "\n",
       "    .dataframe thead th {\n",
       "        text-align: right;\n",
       "    }\n",
       "</style>\n",
       "<table border=\"1\" class=\"dataframe\">\n",
       "  <thead>\n",
       "    <tr style=\"text-align: right;\">\n",
       "      <th></th>\n",
       "      <th>Age</th>\n",
       "      <th>Education</th>\n",
       "      <th>Husband-Education</th>\n",
       "      <th>Children</th>\n",
       "      <th>Religion</th>\n",
       "      <th>Employed</th>\n",
       "      <th>Husband-Occupation</th>\n",
       "      <th>Standard-of-living</th>\n",
       "      <th>Media-exposure</th>\n",
       "      <th>Contraceptive-method-used</th>\n",
       "    </tr>\n",
       "  </thead>\n",
       "  <tbody>\n",
       "    <tr>\n",
       "      <th>0</th>\n",
       "      <td>24</td>\n",
       "      <td>2</td>\n",
       "      <td>3</td>\n",
       "      <td>3</td>\n",
       "      <td>1</td>\n",
       "      <td>1</td>\n",
       "      <td>2</td>\n",
       "      <td>3</td>\n",
       "      <td>0</td>\n",
       "      <td>1</td>\n",
       "    </tr>\n",
       "    <tr>\n",
       "      <th>1</th>\n",
       "      <td>45</td>\n",
       "      <td>1</td>\n",
       "      <td>3</td>\n",
       "      <td>10</td>\n",
       "      <td>1</td>\n",
       "      <td>1</td>\n",
       "      <td>3</td>\n",
       "      <td>4</td>\n",
       "      <td>0</td>\n",
       "      <td>1</td>\n",
       "    </tr>\n",
       "    <tr>\n",
       "      <th>2</th>\n",
       "      <td>43</td>\n",
       "      <td>2</td>\n",
       "      <td>3</td>\n",
       "      <td>7</td>\n",
       "      <td>1</td>\n",
       "      <td>1</td>\n",
       "      <td>3</td>\n",
       "      <td>4</td>\n",
       "      <td>0</td>\n",
       "      <td>1</td>\n",
       "    </tr>\n",
       "    <tr>\n",
       "      <th>3</th>\n",
       "      <td>42</td>\n",
       "      <td>3</td>\n",
       "      <td>2</td>\n",
       "      <td>9</td>\n",
       "      <td>1</td>\n",
       "      <td>1</td>\n",
       "      <td>3</td>\n",
       "      <td>3</td>\n",
       "      <td>0</td>\n",
       "      <td>1</td>\n",
       "    </tr>\n",
       "    <tr>\n",
       "      <th>4</th>\n",
       "      <td>36</td>\n",
       "      <td>3</td>\n",
       "      <td>3</td>\n",
       "      <td>8</td>\n",
       "      <td>1</td>\n",
       "      <td>1</td>\n",
       "      <td>3</td>\n",
       "      <td>2</td>\n",
       "      <td>0</td>\n",
       "      <td>1</td>\n",
       "    </tr>\n",
       "    <tr>\n",
       "      <th>5</th>\n",
       "      <td>19</td>\n",
       "      <td>4</td>\n",
       "      <td>4</td>\n",
       "      <td>0</td>\n",
       "      <td>1</td>\n",
       "      <td>1</td>\n",
       "      <td>3</td>\n",
       "      <td>3</td>\n",
       "      <td>0</td>\n",
       "      <td>1</td>\n",
       "    </tr>\n",
       "    <tr>\n",
       "      <th>6</th>\n",
       "      <td>38</td>\n",
       "      <td>2</td>\n",
       "      <td>3</td>\n",
       "      <td>6</td>\n",
       "      <td>1</td>\n",
       "      <td>1</td>\n",
       "      <td>3</td>\n",
       "      <td>2</td>\n",
       "      <td>0</td>\n",
       "      <td>1</td>\n",
       "    </tr>\n",
       "    <tr>\n",
       "      <th>7</th>\n",
       "      <td>21</td>\n",
       "      <td>3</td>\n",
       "      <td>3</td>\n",
       "      <td>1</td>\n",
       "      <td>1</td>\n",
       "      <td>0</td>\n",
       "      <td>3</td>\n",
       "      <td>2</td>\n",
       "      <td>0</td>\n",
       "      <td>1</td>\n",
       "    </tr>\n",
       "    <tr>\n",
       "      <th>8</th>\n",
       "      <td>27</td>\n",
       "      <td>2</td>\n",
       "      <td>3</td>\n",
       "      <td>3</td>\n",
       "      <td>1</td>\n",
       "      <td>1</td>\n",
       "      <td>3</td>\n",
       "      <td>4</td>\n",
       "      <td>0</td>\n",
       "      <td>1</td>\n",
       "    </tr>\n",
       "    <tr>\n",
       "      <th>9</th>\n",
       "      <td>45</td>\n",
       "      <td>1</td>\n",
       "      <td>1</td>\n",
       "      <td>8</td>\n",
       "      <td>1</td>\n",
       "      <td>1</td>\n",
       "      <td>2</td>\n",
       "      <td>2</td>\n",
       "      <td>1</td>\n",
       "      <td>1</td>\n",
       "    </tr>\n",
       "  </tbody>\n",
       "</table>\n",
       "</div>"
      ],
      "text/plain": [
       "   Age  Education  Husband-Education  Children  Religion  Employed  \\\n",
       "0   24          2                  3         3         1         1   \n",
       "1   45          1                  3        10         1         1   \n",
       "2   43          2                  3         7         1         1   \n",
       "3   42          3                  2         9         1         1   \n",
       "4   36          3                  3         8         1         1   \n",
       "5   19          4                  4         0         1         1   \n",
       "6   38          2                  3         6         1         1   \n",
       "7   21          3                  3         1         1         0   \n",
       "8   27          2                  3         3         1         1   \n",
       "9   45          1                  1         8         1         1   \n",
       "\n",
       "   Husband-Occupation  Standard-of-living  Media-exposure  \\\n",
       "0                   2                   3               0   \n",
       "1                   3                   4               0   \n",
       "2                   3                   4               0   \n",
       "3                   3                   3               0   \n",
       "4                   3                   2               0   \n",
       "5                   3                   3               0   \n",
       "6                   3                   2               0   \n",
       "7                   3                   2               0   \n",
       "8                   3                   4               0   \n",
       "9                   2                   2               1   \n",
       "\n",
       "   Contraceptive-method-used  \n",
       "0                          1  \n",
       "1                          1  \n",
       "2                          1  \n",
       "3                          1  \n",
       "4                          1  \n",
       "5                          1  \n",
       "6                          1  \n",
       "7                          1  \n",
       "8                          1  \n",
       "9                          1  "
      ]
     },
     "execution_count": 2,
     "metadata": {},
     "output_type": "execute_result"
    }
   ],
   "source": [
    "contraception_df = pd.read_csv(\"cmc.csv\")\n",
    "contraception_df.head(10)"
   ]
  },
  {
   "cell_type": "code",
   "execution_count": 3,
   "metadata": {},
   "outputs": [
    {
     "data": {
      "text/html": [
       "<div>\n",
       "<style scoped>\n",
       "    .dataframe tbody tr th:only-of-type {\n",
       "        vertical-align: middle;\n",
       "    }\n",
       "\n",
       "    .dataframe tbody tr th {\n",
       "        vertical-align: top;\n",
       "    }\n",
       "\n",
       "    .dataframe thead th {\n",
       "        text-align: right;\n",
       "    }\n",
       "</style>\n",
       "<table border=\"1\" class=\"dataframe\">\n",
       "  <thead>\n",
       "    <tr style=\"text-align: right;\">\n",
       "      <th></th>\n",
       "      <th>Age</th>\n",
       "      <th>Education</th>\n",
       "      <th>Husband-Education</th>\n",
       "      <th>Children</th>\n",
       "      <th>Religion</th>\n",
       "      <th>Employed</th>\n",
       "      <th>Husband-Occupation</th>\n",
       "      <th>Standard-of-living</th>\n",
       "      <th>Media-exposure</th>\n",
       "      <th>Contraceptive-method-used</th>\n",
       "    </tr>\n",
       "  </thead>\n",
       "  <tbody>\n",
       "    <tr>\n",
       "      <th>count</th>\n",
       "      <td>1473.000000</td>\n",
       "      <td>1473.000000</td>\n",
       "      <td>1473.000000</td>\n",
       "      <td>1473.000000</td>\n",
       "      <td>1473.000000</td>\n",
       "      <td>1473.000000</td>\n",
       "      <td>1473.000000</td>\n",
       "      <td>1473.000000</td>\n",
       "      <td>1473.000000</td>\n",
       "      <td>1473.000000</td>\n",
       "    </tr>\n",
       "    <tr>\n",
       "      <th>mean</th>\n",
       "      <td>32.538357</td>\n",
       "      <td>2.958588</td>\n",
       "      <td>3.429735</td>\n",
       "      <td>3.261371</td>\n",
       "      <td>0.850645</td>\n",
       "      <td>0.749491</td>\n",
       "      <td>2.137814</td>\n",
       "      <td>3.133741</td>\n",
       "      <td>0.073999</td>\n",
       "      <td>1.919891</td>\n",
       "    </tr>\n",
       "    <tr>\n",
       "      <th>std</th>\n",
       "      <td>8.227245</td>\n",
       "      <td>1.014994</td>\n",
       "      <td>0.816349</td>\n",
       "      <td>2.358549</td>\n",
       "      <td>0.356559</td>\n",
       "      <td>0.433453</td>\n",
       "      <td>0.864857</td>\n",
       "      <td>0.976161</td>\n",
       "      <td>0.261858</td>\n",
       "      <td>0.876376</td>\n",
       "    </tr>\n",
       "    <tr>\n",
       "      <th>min</th>\n",
       "      <td>16.000000</td>\n",
       "      <td>1.000000</td>\n",
       "      <td>1.000000</td>\n",
       "      <td>0.000000</td>\n",
       "      <td>0.000000</td>\n",
       "      <td>0.000000</td>\n",
       "      <td>1.000000</td>\n",
       "      <td>1.000000</td>\n",
       "      <td>0.000000</td>\n",
       "      <td>1.000000</td>\n",
       "    </tr>\n",
       "    <tr>\n",
       "      <th>25%</th>\n",
       "      <td>26.000000</td>\n",
       "      <td>2.000000</td>\n",
       "      <td>3.000000</td>\n",
       "      <td>1.000000</td>\n",
       "      <td>1.000000</td>\n",
       "      <td>0.000000</td>\n",
       "      <td>1.000000</td>\n",
       "      <td>3.000000</td>\n",
       "      <td>0.000000</td>\n",
       "      <td>1.000000</td>\n",
       "    </tr>\n",
       "    <tr>\n",
       "      <th>50%</th>\n",
       "      <td>32.000000</td>\n",
       "      <td>3.000000</td>\n",
       "      <td>4.000000</td>\n",
       "      <td>3.000000</td>\n",
       "      <td>1.000000</td>\n",
       "      <td>1.000000</td>\n",
       "      <td>2.000000</td>\n",
       "      <td>3.000000</td>\n",
       "      <td>0.000000</td>\n",
       "      <td>2.000000</td>\n",
       "    </tr>\n",
       "    <tr>\n",
       "      <th>75%</th>\n",
       "      <td>39.000000</td>\n",
       "      <td>4.000000</td>\n",
       "      <td>4.000000</td>\n",
       "      <td>4.000000</td>\n",
       "      <td>1.000000</td>\n",
       "      <td>1.000000</td>\n",
       "      <td>3.000000</td>\n",
       "      <td>4.000000</td>\n",
       "      <td>0.000000</td>\n",
       "      <td>3.000000</td>\n",
       "    </tr>\n",
       "    <tr>\n",
       "      <th>max</th>\n",
       "      <td>49.000000</td>\n",
       "      <td>4.000000</td>\n",
       "      <td>4.000000</td>\n",
       "      <td>16.000000</td>\n",
       "      <td>1.000000</td>\n",
       "      <td>1.000000</td>\n",
       "      <td>4.000000</td>\n",
       "      <td>4.000000</td>\n",
       "      <td>1.000000</td>\n",
       "      <td>3.000000</td>\n",
       "    </tr>\n",
       "  </tbody>\n",
       "</table>\n",
       "</div>"
      ],
      "text/plain": [
       "               Age    Education  Husband-Education     Children     Religion  \\\n",
       "count  1473.000000  1473.000000        1473.000000  1473.000000  1473.000000   \n",
       "mean     32.538357     2.958588           3.429735     3.261371     0.850645   \n",
       "std       8.227245     1.014994           0.816349     2.358549     0.356559   \n",
       "min      16.000000     1.000000           1.000000     0.000000     0.000000   \n",
       "25%      26.000000     2.000000           3.000000     1.000000     1.000000   \n",
       "50%      32.000000     3.000000           4.000000     3.000000     1.000000   \n",
       "75%      39.000000     4.000000           4.000000     4.000000     1.000000   \n",
       "max      49.000000     4.000000           4.000000    16.000000     1.000000   \n",
       "\n",
       "          Employed  Husband-Occupation  Standard-of-living  Media-exposure  \\\n",
       "count  1473.000000         1473.000000         1473.000000     1473.000000   \n",
       "mean      0.749491            2.137814            3.133741        0.073999   \n",
       "std       0.433453            0.864857            0.976161        0.261858   \n",
       "min       0.000000            1.000000            1.000000        0.000000   \n",
       "25%       0.000000            1.000000            3.000000        0.000000   \n",
       "50%       1.000000            2.000000            3.000000        0.000000   \n",
       "75%       1.000000            3.000000            4.000000        0.000000   \n",
       "max       1.000000            4.000000            4.000000        1.000000   \n",
       "\n",
       "       Contraceptive-method-used  \n",
       "count                1473.000000  \n",
       "mean                    1.919891  \n",
       "std                     0.876376  \n",
       "min                     1.000000  \n",
       "25%                     1.000000  \n",
       "50%                     2.000000  \n",
       "75%                     3.000000  \n",
       "max                     3.000000  "
      ]
     },
     "execution_count": 3,
     "metadata": {},
     "output_type": "execute_result"
    }
   ],
   "source": [
    "contraception_df.describe()"
   ]
  },
  {
   "cell_type": "markdown",
   "metadata": {},
   "source": [
    "Here are a couple of definitions that might come in handy:"
   ]
  },
  {
   "cell_type": "code",
   "execution_count": 4,
   "metadata": {},
   "outputs": [],
   "source": [
    "cmethod = \"Contraceptive-method-used\"\n",
    "labels =[\"None\", \"Long-Term\", \"Short-Term\"]\n",
    "features = ['Age', 'Education', 'Husband-Education', 'Children', 'Religion',\n",
    "       'Employed', 'Husband-Occupation', 'Standard-of-living',\n",
    "       'Media-exposure']\n",
    "religion_children = ['Children', 'Religion',\n",
    "       'Employed', 'Education']\n"
   ]
  },
  {
   "cell_type": "markdown",
   "metadata": {},
   "source": [
    "Let's take a look at the data. How are the contraception methods distributed?"
   ]
  },
  {
   "cell_type": "code",
   "execution_count": 5,
   "metadata": {},
   "outputs": [
    {
     "data": {
      "image/png": "[encoded data removed]",
      "text/plain": [
       "<Figure size 432x288 with 1 Axes>"
      ]
     },
     "metadata": {
      "needs_background": "light"
     },
     "output_type": "display_data"
    }
   ],
   "source": [
    "ax = sns.countplot(x=cmethod, data=contraception_df)"
   ]
  },
  {
   "cell_type": "markdown",
   "metadata": {},
   "source": [
    "Let's look at the age distribution:"
   ]
  },
  {
   "cell_type": "code",
   "execution_count": 6,
   "metadata": {},
   "outputs": [
    {
     "name": "stderr",
     "output_type": "stream",
     "text": [
      "/Applications/anaconda3/lib/python3.7/site-packages/scipy/stats/stats.py:1713: FutureWarning: Using a non-tuple sequence for multidimensional indexing is deprecated; use `arr[tuple(seq)]` instead of `arr[seq]`. In the future this will be interpreted as an array index, `arr[np.array(seq)]`, which will result either in an error or a different result.\n",
      "  return np.add.reduce(sorted[indexer] * weights, axis=axis) / sumval\n"
     ]
    },
    {
     "data": {
      "text/plain": [
       "<matplotlib.axes._subplots.AxesSubplot at 0x105b3ad68>"
      ]
     },
     "execution_count": 6,
     "metadata": {},
     "output_type": "execute_result"
    },
    {
     "data": {
      "image/png": "[encoded data removed]",
      "text/plain": [
       "<Figure size 432x288 with 1 Axes>"
      ]
     },
     "metadata": {
      "needs_background": "light"
     },
     "output_type": "display_data"
    }
   ],
   "source": [
    "sns.distplot(contraception_df[\"Age\"])"
   ]
  },
  {
   "cell_type": "markdown",
   "metadata": {},
   "source": [
    "And facet age by contraceptive method:"
   ]
  },
  {
   "cell_type": "code",
   "execution_count": 7,
   "metadata": {},
   "outputs": [
    {
     "data": {
      "image/png": "[encoded data removed]",
      "text/plain": [
       "<Figure size 1036.8x324 with 3 Axes>"
      ]
     },
     "metadata": {
      "needs_background": "light"
     },
     "output_type": "display_data"
    }
   ],
   "source": [
    "g = sns.catplot(\"Age\", col=cmethod, col_wrap=4, \n",
    "                   data=contraception_df[contraception_df[\"Age\"].notnull()],\n",
    "                   kind=\"count\", height=4.5, aspect=.8)"
   ]
  },
  {
   "cell_type": "markdown",
   "metadata": {},
   "source": [
    "We see some patterns, but let's look instead at bar charts split up by contraceptive method."
   ]
  },
  {
   "cell_type": "code",
   "execution_count": 8,
   "metadata": {},
   "outputs": [
    {
     "data": {
      "image/png": "[encoded data removed]",
      "text/plain": [
       "<Figure size 432x288 with 1 Axes>"
      ]
     },
     "metadata": {
      "needs_background": "light"
     },
     "output_type": "display_data"
    }
   ],
   "source": [
    "sns.countplot(x=\"Employed\", hue=cmethod, data=contraception_df);"
   ]
  },
  {
   "cell_type": "markdown",
   "metadata": {},
   "source": [
    "### Explore Other Variables\n",
    "See whether you can find other variables that have a larger effect on the predicted classes. "
   ]
  },
  {
   "cell_type": "code",
   "execution_count": 9,
   "metadata": {},
   "outputs": [],
   "source": [
    "# your code here\n"
   ]
  },
  {
   "cell_type": "markdown",
   "metadata": {},
   "source": [
    "## Feature Selection\n",
    "\n",
    "Let's take a look at which features have potentially the most impact on our classification. SciPy comes with [a rich feature selection module](http://scikit-learn.org/stable/modules/feature_selection.html). We'll use univariate methods here:\n",
    "+ [SelectPercentile](http://scikit-learn.org/stable/modules/generated/sklearn.feature_selection.SelectPercentile.html#sklearn.feature_selection.SelectPercentile) to have a look at P values, and \n",
    "+ [SelectKBest](http://scikit-learn.org/stable/modules/generated/sklearn.feature_selection.SelectKBest.html#sklearn.feature_selection.SelectKBest) to pick features.\n",
    "\n",
    "Here, we'll use the $\\chi^2$ test, but there are other methods."
   ]
  },
  {
   "cell_type": "code",
   "execution_count": 10,
   "metadata": {},
   "outputs": [
    {
     "name": "stdout",
     "output_type": "stream",
     "text": [
      "Index(['Age', 'Education', 'Husband-Education', 'Children', 'Religion',\n",
      "       'Employed', 'Husband-Occupation', 'Standard-of-living',\n",
      "       'Media-exposure'],\n",
      "      dtype='object')\n",
      "P Values: [1.54469599e-29 1.22480564e-10 8.72157331e-03 1.58696556e-10\n",
      " 1.98956005e-01 5.22194355e-01 1.15289549e-04 1.01048659e-04\n",
      " 4.48216856e-07]\n"
     ]
    }
   ],
   "source": [
    "features = contraception_df.columns[:-1]\n",
    "X = contraception_df[features].values\n",
    "y = contraception_df[\"Contraceptive-method-used\"].values\n",
    "\n",
    "selector = SelectPercentile(chi2)\n",
    "X_new = selector.fit_transform(X, y)\n",
    "print(features)\n",
    "print(\"P Values:\", selector.pvalues_)"
   ]
  },
  {
   "cell_type": "code",
   "execution_count": 11,
   "metadata": {},
   "outputs": [
    {
     "name": "stdout",
     "output_type": "stream",
     "text": [
      "Index(['Age', 'Education', 'Husband-Education', 'Children', 'Religion',\n",
      "       'Employed', 'Husband-Occupation', 'Standard-of-living',\n",
      "       'Media-exposure'],\n",
      "      dtype='object')\n"
     ]
    },
    {
     "data": {
      "text/plain": [
       "array([ True,  True, False,  True, False, False, False, False, False])"
      ]
     },
     "execution_count": 11,
     "metadata": {},
     "output_type": "execute_result"
    }
   ],
   "source": [
    "selector = SelectKBest(chi2, k=3)\n",
    "X_new = selector.fit_transform(X, y)\n",
    "print(features)\n",
    "selector.get_support()"
   ]
  },
  {
   "cell_type": "code",
   "execution_count": 12,
   "metadata": {},
   "outputs": [],
   "source": [
    "best_features = ['Age', 'Education', 'Children']"
   ]
  },
  {
   "cell_type": "markdown",
   "metadata": {},
   "source": [
    "### Helpful code for visualization and splitting the dataset\n",
    "\n",
    "Here is some code for plotting decision trees. This uses pydotplus, if you haven't already, install it:\n",
    "\n",
    "```\n",
    "pip install pydotplus\n",
    "```\n",
    "\n",
    "You also need to install graphviz. This might be tricky on windows. You can also render the dot files using [this web renderer](http://www.webgraphviz.com/)."
   ]
  },
  {
   "cell_type": "code",
   "execution_count": 13,
   "metadata": {},
   "outputs": [],
   "source": [
    "from IPython.display import Image, display  \n",
    "import pydotplus \n",
    "from scipy import misc\n",
    "\n",
    "def renderTree(my_tree,my_features):\n",
    "    # hacky solution of writing to files and reading again\n",
    "    # necessary due to library bugs\n",
    "    filename = \"temp.dot\"\n",
    "    with open(filename, 'w') as f:\n",
    "        f = tree.export_graphviz(my_tree, \n",
    "                                 out_file=f, \n",
    "                                 feature_names=my_features, \n",
    "                                 class_names=labels,  \n",
    "                                 filled=True, \n",
    "                                 rounded=True,\n",
    "                                 special_characters=True)\n",
    "  \n",
    "    dot_data = \"\"\n",
    "    with open(filename, 'r') as f:\n",
    "        dot_data = f.read()\n",
    "\n",
    "    graph = pydotplus.graph_from_dot_data(dot_data)\n",
    "    image_name = \"temp.png\"\n",
    "    graph.write_png(image_name)  \n",
    "    display(Image(filename=image_name))"
   ]
  },
  {
   "cell_type": "markdown",
   "metadata": {},
   "source": [
    "Here is some code that splits the data into training and test sets for cross-validation and selects features."
   ]
  },
  {
   "cell_type": "code",
   "execution_count": 14,
   "metadata": {},
   "outputs": [],
   "source": [
    "def splitData(features):\n",
    "    contraception_labels = contraception_df[\"Contraceptive-method-used\"].values\n",
    "    contraception_predictors =  contraception_df[features].values\n",
    "\n",
    "    # Split into training and test sets\n",
    "    XTrain, XTest, yTrain, yTest = train_test_split(contraception_predictors, contraception_labels, \n",
    "                                                    random_state=1, test_size=0.2)\n",
    "    return XTrain, XTest, yTrain, yTest"
   ]
  },
  {
   "cell_type": "markdown",
   "metadata": {},
   "source": [
    "## Classification competition \n",
    "\n",
    "We'll now compare various classification methods on this dataset. "
   ]
  },
  {
   "cell_type": "markdown",
   "metadata": {},
   "source": [
    "### K-Nearest Neighbors\n",
    "\n",
    "Experiment with different numbers of neighbors, $k$, and different features.\n",
    "\n",
    "Usse the `splitData()` function to divide your data into training and test sets. \n",
    "\n",
    "Refer to the [scikit learn documentation](http://scikit-learn.org/stable/modules/neighbors.html) and the  [lecture on k nearest neighbors](https://github.com/datascience-course/2019-datascience-lectures/blob/master/13-Classification1/13b-Classification1.ipynb)."
   ]
  },
  {
   "cell_type": "code",
   "execution_count": 15,
   "metadata": {},
   "outputs": [],
   "source": [
    "# your code here\n",
    "\n",
    "XTrain, XTest, yTrain, yTest = splitData(best_features)\n"
   ]
  },
  {
   "cell_type": "markdown",
   "metadata": {},
   "source": [
    "### Decision Trees\n",
    "\n",
    "Classify the data using decision trees. Experiment with different depths, minimum samples to split on, and minimum samples to remain after the split, as well as with a combination of different features.\n",
    "\n",
    "Usse the `splitData()` function to divide your data into training and test sets. \n",
    "\n",
    "Refer to the [scikit learn documentation](http://scikit-learn.org/stable/modules/tree.html) and the  [lecture on decision trees](https://github.com/datascience-course/2019-datascience-lectures/blob/master/14-Classification2/14-Classification2-Decision-Trees.ipynb).\n",
    "\n",
    "You can use the `renderTree()` function to render the tree, if you have the proper libraries installed."
   ]
  },
  {
   "cell_type": "code",
   "execution_count": 16,
   "metadata": {},
   "outputs": [],
   "source": [
    "# your code here\n"
   ]
  },
  {
   "cell_type": "markdown",
   "metadata": {},
   "source": [
    "### Support Vector Machines (SVM )\n",
    "\n",
    "Experiment with different kernels, C values and different features. Use cross validation to find a good C value. Print accuracy and the confusion matrix.\n",
    "\n",
    "Refer to the [scikit learn documentation](http://scikit-learn.org/stable/modules/svm.html)  and the [lecture on SVM](https://github.com/datascience-course/2019-datascience-lectures/blob/master/15-Classification3/15a-Classification3-SVM.ipynb)."
   ]
  },
  {
   "cell_type": "code",
   "execution_count": 17,
   "metadata": {},
   "outputs": [],
   "source": [
    "# your code here\n"
   ]
  },
  {
   "cell_type": "markdown",
   "metadata": {},
   "source": [
    "### Reflections and discussion \n",
    "1. Which classification method had the highest accuracy for this dataset? \n",
    "+ Which classification method was easiest to use? \n",
    "+ Which classification method is most interpretable? \n",
    "+ Which would you use for this application? "
   ]
  },
  {
   "cell_type": "markdown",
   "metadata": {},
   "source": [
    "**Your answers:** TODO"
   ]
  }
 ],
 "metadata": {
  "anaconda-cloud": {},
  "kernelspec": {
   "display_name": "Python 3",
   "language": "python",
   "name": "python3"
  },
  "language_info": {
   "codemirror_mode": {
    "name": "ipython",
    "version": 3
   },
   "file_extension": ".py",
   "mimetype": "text/x-python",
   "name": "python",
   "nbconvert_exporter": "python",
   "pygments_lexer": "ipython3",
   "version": "3.7.1"
  }
 },
 "nbformat": 4,
 "nbformat_minor": 1
}
